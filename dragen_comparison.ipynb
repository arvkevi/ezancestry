{
 "cells": [
  {
   "cell_type": "code",
   "execution_count": 1,
   "metadata": {},
   "outputs": [],
   "source": [
    "import pandas as pd\n",
    "from pathlib import Path\n",
    "\n",
    "from ast import literal_eval\n",
    "import re\n",
    "\n",
    "import myvariant\n",
    "import time\n",
    "\n",
    "import numpy as np"
   ]
  },
  {
   "cell_type": "code",
   "execution_count": 2,
   "metadata": {},
   "outputs": [],
   "source": [
    "DATA_DIRECTORY = Path(\"/Users/kevin/projects/ezancestry/data/aisnps\")\n"
   ]
  },
  {
   "cell_type": "code",
   "execution_count": 3,
   "metadata": {},
   "outputs": [],
   "source": [
    "kg = pd.read_csv(DATA_DIRECTORY.joinpath(\"thousand_genomes.kidd.dataframe.csv\"))\n",
    "# read the header line to get column names\n",
    "with open(DATA_DIRECTORY.joinpath(\"kidd.aisnp.1kg.vcf\")) as f:\n",
    "    for line in f:\n",
    "        if line.startswith(\"#CHROM\"):\n",
    "            colnames = line.strip().split(\"\\t\")\n",
    "            break\n",
    "kgvcf = pd.read_csv(DATA_DIRECTORY.joinpath(\"kidd.aisnp.1kg.vcf\"), sep=\"\\t\", comment=\"#\", header=None, names=colnames)\n"
   ]
  },
  {
   "cell_type": "code",
   "execution_count": 4,
   "metadata": {},
   "outputs": [
    {
     "data": {
      "text/plain": [
       "(55, 2513)"
      ]
     },
     "execution_count": 4,
     "metadata": {},
     "output_type": "execute_result"
    }
   ],
   "source": [
    "# In the original DataFrame, 55 positions (records) and 2513 samples (columns)\n",
    "kgvcf.shape\n"
   ]
  },
  {
   "cell_type": "code",
   "execution_count": 5,
   "metadata": {},
   "outputs": [],
   "source": [
    "# process the columns\n",
    "kgvcf.drop(columns=[\"QUAL\", \"FILTER\", \"INFO\", \"FORMAT\"], inplace=True)\n",
    "kgvcf.set_index([\"#CHROM\", \"POS\", \"REF\", \"ALT\"], inplace=True)\n"
   ]
  },
  {
   "cell_type": "code",
   "execution_count": 6,
   "metadata": {},
   "outputs": [
    {
     "data": {
      "text/plain": [
       "array(['0|0', '0|1', '1|1', '1|0'], dtype=object)"
      ]
     },
     "execution_count": 6,
     "metadata": {},
     "output_type": "execute_result"
    }
   ],
   "source": [
    "# unique values for snps\n",
    "pd.unique(kgvcf.drop(columns=[\"ID\"]).values.ravel(\"K\"))\n"
   ]
  },
  {
   "cell_type": "code",
   "execution_count": 7,
   "metadata": {},
   "outputs": [],
   "source": [
    "# set the index as rsid actuall\n",
    "kgvcf.rename(columns={\"ID\": \"rsid\"}, inplace=True)\n",
    "kgvcf.set_index([\"rsid\"], inplace=True)\n"
   ]
  },
  {
   "cell_type": "code",
   "execution_count": 8,
   "metadata": {},
   "outputs": [],
   "source": [
    "dragen = pd.read_csv(DATA_DIRECTORY.joinpath(\"dragen.kidd.dataframe.csv\"))\n"
   ]
  },
  {
   "cell_type": "code",
   "execution_count": 9,
   "metadata": {},
   "outputs": [],
   "source": [
    "# dragen_index = dragen.set_index([\"chrom\", \"pos\", \"ref\", \"alt\"]).index\n",
    "dragen.set_index([\"chrom\", \"pos\", \"ref\", \"alt\"], inplace=True)\n"
   ]
  },
  {
   "cell_type": "code",
   "execution_count": 10,
   "metadata": {},
   "outputs": [],
   "source": [
    "def parse_genotypes(longstr):\n",
    "    longstr = longstr.replace(\"gts\", \"'gts'\")\n",
    "    longstr = longstr.replace(\"=\", \":\")\n",
    "    longstr = re.sub(r\"id:([a-zA-Z0-9_.-]*)\", r\"'id':'\\1'\", longstr)\n",
    "    return literal_eval(longstr)\n"
   ]
  },
  {
   "cell_type": "code",
   "execution_count": 11,
   "metadata": {},
   "outputs": [],
   "source": [
    "dragen[\"genotypes\"] = dragen[\"samples\"].apply(parse_genotypes)\n",
    "dragen.drop(columns=[\"samples\"], inplace=True)\n"
   ]
  },
  {
   "cell_type": "code",
   "execution_count": 12,
   "metadata": {},
   "outputs": [],
   "source": [
    "# pd.concat(dragen[\"genotypes\"].apply(pd.DataFrame).to_list(), keys=dragen.index).reset_index()\n",
    "dragen_gts = pd.concat(dragen[\"genotypes\"].apply(pd.DataFrame).to_list(), keys=dragen.index)\n",
    "dragen_gts = dragen_gts.droplevel(4)\n"
   ]
  },
  {
   "cell_type": "code",
   "execution_count": 13,
   "metadata": {},
   "outputs": [
    {
     "data": {
      "text/html": [
       "<div>\n",
       "<style scoped>\n",
       "    .dataframe tbody tr th:only-of-type {\n",
       "        vertical-align: middle;\n",
       "    }\n",
       "\n",
       "    .dataframe tbody tr th {\n",
       "        vertical-align: top;\n",
       "    }\n",
       "\n",
       "    .dataframe thead th {\n",
       "        text-align: right;\n",
       "    }\n",
       "</style>\n",
       "<table border=\"1\" class=\"dataframe\">\n",
       "  <thead>\n",
       "    <tr style=\"text-align: right;\">\n",
       "      <th></th>\n",
       "      <th></th>\n",
       "      <th></th>\n",
       "      <th></th>\n",
       "      <th>id</th>\n",
       "      <th>gts</th>\n",
       "    </tr>\n",
       "    <tr>\n",
       "      <th>chrom</th>\n",
       "      <th>pos</th>\n",
       "      <th>ref</th>\n",
       "      <th>alt</th>\n",
       "      <th></th>\n",
       "      <th></th>\n",
       "    </tr>\n",
       "  </thead>\n",
       "  <tbody>\n",
       "    <tr>\n",
       "      <th rowspan=\"5\" valign=\"top\">chr20</th>\n",
       "      <th rowspan=\"5\" valign=\"top\">63528151</th>\n",
       "      <th rowspan=\"5\" valign=\"top\">T</th>\n",
       "      <th>C</th>\n",
       "      <td>HG03300</td>\n",
       "      <td>[1, 1]</td>\n",
       "    </tr>\n",
       "    <tr>\n",
       "      <th>C</th>\n",
       "      <td>HG03799</td>\n",
       "      <td>[0, 1]</td>\n",
       "    </tr>\n",
       "    <tr>\n",
       "      <th>C</th>\n",
       "      <td>HG03190</td>\n",
       "      <td>[0, 1]</td>\n",
       "    </tr>\n",
       "    <tr>\n",
       "      <th>C</th>\n",
       "      <td>HG03352</td>\n",
       "      <td>[1, 1]</td>\n",
       "    </tr>\n",
       "    <tr>\n",
       "      <th>C</th>\n",
       "      <td>NA20281</td>\n",
       "      <td>[0, 1]</td>\n",
       "    </tr>\n",
       "  </tbody>\n",
       "</table>\n",
       "</div>"
      ],
      "text/plain": [
       "                             id     gts\n",
       "chrom pos      ref alt                 \n",
       "chr20 63528151 T   C    HG03300  [1, 1]\n",
       "                   C    HG03799  [0, 1]\n",
       "                   C    HG03190  [0, 1]\n",
       "                   C    HG03352  [1, 1]\n",
       "                   C    NA20281  [0, 1]"
      ]
     },
     "execution_count": 13,
     "metadata": {},
     "output_type": "execute_result"
    }
   ],
   "source": [
    "# the index of dragen_gts has unique chrom, pos, ref, alt\n",
    "dragen_gts.head()\n"
   ]
  },
  {
   "cell_type": "code",
   "execution_count": 14,
   "metadata": {},
   "outputs": [],
   "source": [
    "def ref_alt_to_gts(row):\n",
    "    # ref = row[\"ref\"]\n",
    "    # alt = row[\"alt\"]\n",
    "    _, _, ref, alt = row.name\n",
    "    gtsring = \"\"\n",
    "    for gt in row[\"gts\"]:\n",
    "        if gt:\n",
    "            gtsring += ref\n",
    "        else:\n",
    "            gtsring += alt\n",
    "    return gtsring\n"
   ]
  },
  {
   "cell_type": "code",
   "execution_count": 15,
   "metadata": {},
   "outputs": [],
   "source": [
    "# convert the 0,1 to ref alt\n",
    "dragen_gts[\"new_gts\"] = dragen_gts.apply(ref_alt_to_gts, axis=1)\n",
    "\n",
    "# pivot\n",
    "# dragen_gts = dragen_gts.pivot(columns=\"id\", values=\"new_gts\")\n",
    "dragen_gts.reset_index(inplace=True)\n",
    "dragen_gts = dragen_gts.pivot(index=['chrom', 'pos', 'ref', 'alt'], columns='id', values='new_gts')\n",
    "# dragen_gts = dragen_gts.pivot(columns=\"id\", values=\"gts\")\n"
   ]
  },
  {
   "cell_type": "code",
   "execution_count": 16,
   "metadata": {},
   "outputs": [],
   "source": [
    "def list_to_string(gt):\n",
    "    try:\n",
    "        return \"|\".join([str(_) for _ in gt])\n",
    "    except:\n",
    "        return np.nan\n"
   ]
  },
  {
   "cell_type": "code",
   "execution_count": 17,
   "metadata": {},
   "outputs": [],
   "source": [
    "dragen_gts = dragen_gts.applymap(list_to_string)\n"
   ]
  },
  {
   "cell_type": "code",
   "execution_count": 18,
   "metadata": {},
   "outputs": [
    {
     "data": {
      "text/plain": [
       "(55, 3202)"
      ]
     },
     "execution_count": 18,
     "metadata": {},
     "output_type": "execute_result"
    }
   ],
   "source": [
    "# snp positions are the records, samples are the columns\n",
    "dragen_gts.shape\n"
   ]
  },
  {
   "cell_type": "code",
   "execution_count": 19,
   "metadata": {},
   "outputs": [],
   "source": [
    "mv = myvariant.MyVariantInfo()\n"
   ]
  },
  {
   "cell_type": "code",
   "execution_count": 20,
   "metadata": {},
   "outputs": [],
   "source": [
    "def annotate(row):\n",
    "    chrom = row[\"chrom\"]\n",
    "    pos = row[\"pos\"]\n",
    "    ref = row[\"ref\"]\n",
    "    alt = row[\"alt\"]\n",
    "\n",
    "    variant = mv.getvariant(f\"{chrom}:g.{pos}{ref}>{alt}\", assembly=\"hg38\", fields=[\"dbsnp\"])\n",
    "    time.sleep(0.25)\n",
    "    return variant[\"dbsnp\"][\"rsid\"]\n"
   ]
  },
  {
   "cell_type": "code",
   "execution_count": 21,
   "metadata": {},
   "outputs": [
    {
     "data": {
      "text/html": [
       "<div>\n",
       "<style scoped>\n",
       "    .dataframe tbody tr th:only-of-type {\n",
       "        vertical-align: middle;\n",
       "    }\n",
       "\n",
       "    .dataframe tbody tr th {\n",
       "        vertical-align: top;\n",
       "    }\n",
       "\n",
       "    .dataframe thead th {\n",
       "        text-align: right;\n",
       "    }\n",
       "</style>\n",
       "<table border=\"1\" class=\"dataframe\">\n",
       "  <thead>\n",
       "    <tr style=\"text-align: right;\">\n",
       "      <th>id</th>\n",
       "      <th>chrom</th>\n",
       "      <th>pos</th>\n",
       "      <th>ref</th>\n",
       "      <th>alt</th>\n",
       "      <th>HG00096</th>\n",
       "      <th>HG00097</th>\n",
       "      <th>HG00099</th>\n",
       "      <th>HG00100</th>\n",
       "      <th>HG00101</th>\n",
       "      <th>HG00102</th>\n",
       "      <th>...</th>\n",
       "      <th>NA21128</th>\n",
       "      <th>NA21129</th>\n",
       "      <th>NA21130</th>\n",
       "      <th>NA21133</th>\n",
       "      <th>NA21135</th>\n",
       "      <th>NA21137</th>\n",
       "      <th>NA21141</th>\n",
       "      <th>NA21142</th>\n",
       "      <th>NA21143</th>\n",
       "      <th>NA21144</th>\n",
       "    </tr>\n",
       "  </thead>\n",
       "  <tbody>\n",
       "    <tr>\n",
       "      <th>0</th>\n",
       "      <td>chr1</td>\n",
       "      <td>101244007</td>\n",
       "      <td>T</td>\n",
       "      <td>C</td>\n",
       "      <td>NaN</td>\n",
       "      <td>NaN</td>\n",
       "      <td>NaN</td>\n",
       "      <td>NaN</td>\n",
       "      <td>NaN</td>\n",
       "      <td>NaN</td>\n",
       "      <td>...</td>\n",
       "      <td>NaN</td>\n",
       "      <td>NaN</td>\n",
       "      <td>NaN</td>\n",
       "      <td>C|T</td>\n",
       "      <td>NaN</td>\n",
       "      <td>NaN</td>\n",
       "      <td>NaN</td>\n",
       "      <td>NaN</td>\n",
       "      <td>NaN</td>\n",
       "      <td>NaN</td>\n",
       "    </tr>\n",
       "    <tr>\n",
       "      <th>1</th>\n",
       "      <td>chr1</td>\n",
       "      <td>151150013</td>\n",
       "      <td>C</td>\n",
       "      <td>T</td>\n",
       "      <td>T|C</td>\n",
       "      <td>C|C</td>\n",
       "      <td>T|C</td>\n",
       "      <td>C|C</td>\n",
       "      <td>T|C</td>\n",
       "      <td>C|C</td>\n",
       "      <td>...</td>\n",
       "      <td>C|C</td>\n",
       "      <td>T|C</td>\n",
       "      <td>C|C</td>\n",
       "      <td>C|C</td>\n",
       "      <td>C|C</td>\n",
       "      <td>C|C</td>\n",
       "      <td>C|C</td>\n",
       "      <td>C|C</td>\n",
       "      <td>C|C</td>\n",
       "      <td>T|C</td>\n",
       "    </tr>\n",
       "    <tr>\n",
       "      <th>2</th>\n",
       "      <td>chr1</td>\n",
       "      <td>159204893</td>\n",
       "      <td>T</td>\n",
       "      <td>C</td>\n",
       "      <td>NaN</td>\n",
       "      <td>NaN</td>\n",
       "      <td>NaN</td>\n",
       "      <td>NaN</td>\n",
       "      <td>NaN</td>\n",
       "      <td>NaN</td>\n",
       "      <td>...</td>\n",
       "      <td>NaN</td>\n",
       "      <td>NaN</td>\n",
       "      <td>NaN</td>\n",
       "      <td>NaN</td>\n",
       "      <td>NaN</td>\n",
       "      <td>NaN</td>\n",
       "      <td>NaN</td>\n",
       "      <td>NaN</td>\n",
       "      <td>NaN</td>\n",
       "      <td>NaN</td>\n",
       "    </tr>\n",
       "    <tr>\n",
       "      <th>3</th>\n",
       "      <td>chr10</td>\n",
       "      <td>93161308</td>\n",
       "      <td>A</td>\n",
       "      <td>G</td>\n",
       "      <td>G|A</td>\n",
       "      <td>NaN</td>\n",
       "      <td>NaN</td>\n",
       "      <td>G|A</td>\n",
       "      <td>NaN</td>\n",
       "      <td>NaN</td>\n",
       "      <td>...</td>\n",
       "      <td>G|A</td>\n",
       "      <td>NaN</td>\n",
       "      <td>G|A</td>\n",
       "      <td>G|A</td>\n",
       "      <td>G|A</td>\n",
       "      <td>NaN</td>\n",
       "      <td>NaN</td>\n",
       "      <td>G|A</td>\n",
       "      <td>G|A</td>\n",
       "      <td>G|A</td>\n",
       "    </tr>\n",
       "    <tr>\n",
       "      <th>4</th>\n",
       "      <td>chr11</td>\n",
       "      <td>61829740</td>\n",
       "      <td>C</td>\n",
       "      <td>T</td>\n",
       "      <td>NaN</td>\n",
       "      <td>NaN</td>\n",
       "      <td>NaN</td>\n",
       "      <td>T|C</td>\n",
       "      <td>NaN</td>\n",
       "      <td>NaN</td>\n",
       "      <td>...</td>\n",
       "      <td>NaN</td>\n",
       "      <td>NaN</td>\n",
       "      <td>NaN</td>\n",
       "      <td>NaN</td>\n",
       "      <td>NaN</td>\n",
       "      <td>NaN</td>\n",
       "      <td>NaN</td>\n",
       "      <td>NaN</td>\n",
       "      <td>NaN</td>\n",
       "      <td>NaN</td>\n",
       "    </tr>\n",
       "  </tbody>\n",
       "</table>\n",
       "<p>5 rows × 3206 columns</p>\n",
       "</div>"
      ],
      "text/plain": [
       "id  chrom        pos ref alt HG00096 HG00097 HG00099 HG00100 HG00101 HG00102  \\\n",
       "0    chr1  101244007   T   C     NaN     NaN     NaN     NaN     NaN     NaN   \n",
       "1    chr1  151150013   C   T     T|C     C|C     T|C     C|C     T|C     C|C   \n",
       "2    chr1  159204893   T   C     NaN     NaN     NaN     NaN     NaN     NaN   \n",
       "3   chr10   93161308   A   G     G|A     NaN     NaN     G|A     NaN     NaN   \n",
       "4   chr11   61829740   C   T     NaN     NaN     NaN     T|C     NaN     NaN   \n",
       "\n",
       "id  ... NA21128 NA21129 NA21130 NA21133 NA21135 NA21137 NA21141 NA21142  \\\n",
       "0   ...     NaN     NaN     NaN     C|T     NaN     NaN     NaN     NaN   \n",
       "1   ...     C|C     T|C     C|C     C|C     C|C     C|C     C|C     C|C   \n",
       "2   ...     NaN     NaN     NaN     NaN     NaN     NaN     NaN     NaN   \n",
       "3   ...     G|A     NaN     G|A     G|A     G|A     NaN     NaN     G|A   \n",
       "4   ...     NaN     NaN     NaN     NaN     NaN     NaN     NaN     NaN   \n",
       "\n",
       "id NA21143 NA21144  \n",
       "0      NaN     NaN  \n",
       "1      C|C     T|C  \n",
       "2      NaN     NaN  \n",
       "3      G|A     G|A  \n",
       "4      NaN     NaN  \n",
       "\n",
       "[5 rows x 3206 columns]"
      ]
     },
     "execution_count": 21,
     "metadata": {},
     "output_type": "execute_result"
    }
   ],
   "source": [
    "dragen_gts_ = dragen_gts.reset_index()\n",
    "dragen_gts_.head()\n"
   ]
  },
  {
   "cell_type": "code",
   "execution_count": 22,
   "metadata": {},
   "outputs": [],
   "source": [
    "# now we have the rsid to compare\n",
    "dragen_gts_[\"rsid\"] = dragen_gts_.apply(annotate, axis=1)\n"
   ]
  },
  {
   "cell_type": "code",
   "execution_count": 23,
   "metadata": {},
   "outputs": [],
   "source": [
    "# use the rsid as index\n",
    "dragen_gts = dragen_gts_.set_index([\"rsid\"])\n"
   ]
  },
  {
   "cell_type": "code",
   "execution_count": 24,
   "metadata": {},
   "outputs": [],
   "source": [
    "def apply_refref(row):\n",
    "     refref = row[\"ref\"] + \"|\" + row[\"ref\"]\n",
    "     return row.fillna(refref)"
   ]
  },
  {
   "cell_type": "code",
   "execution_count": 25,
   "metadata": {},
   "outputs": [],
   "source": [
    "dragen_gts = dragen_gts.apply(apply_refref, axis=1)"
   ]
  },
  {
   "cell_type": "code",
   "execution_count": 26,
   "metadata": {},
   "outputs": [],
   "source": [
    "from ezancestry.process import get_1kg_labels"
   ]
  },
  {
   "cell_type": "code",
   "execution_count": 27,
   "metadata": {},
   "outputs": [],
   "source": [
    "# only train and evaluate on the samples in the 1kg data\n",
    "dfsamples = get_1kg_labels()\n",
    "\n",
    "original_samples = set(dfsamples.index)\n",
    "\n",
    "# make sure the 1kg vcf (DataFrame) only has samples listed in the sample index\n",
    "kgsamples = set(kgvcf.columns.to_list())\n",
    "kgsamples = kgsamples.intersection(original_samples)\n",
    "\n",
    "# inner join the 1kg and dragen samples\n",
    "dragensamples = set(dragen_gts.columns.to_list())\n",
    "dragensamples = dragensamples.intersection(kgsamples)"
   ]
  },
  {
   "cell_type": "code",
   "execution_count": 28,
   "metadata": {},
   "outputs": [
    {
     "data": {
      "text/plain": [
       "True"
      ]
     },
     "execution_count": 28,
     "metadata": {},
     "output_type": "execute_result"
    }
   ],
   "source": [
    "len(dragensamples) == len(kgsamples)"
   ]
  },
  {
   "cell_type": "code",
   "execution_count": 29,
   "metadata": {},
   "outputs": [],
   "source": [
    "dragendf = dragen_gts[dragensamples].T.copy()"
   ]
  },
  {
   "cell_type": "code",
   "execution_count": 30,
   "metadata": {},
   "outputs": [
    {
     "data": {
      "text/html": [
       "<div>\n",
       "<style scoped>\n",
       "    .dataframe tbody tr th:only-of-type {\n",
       "        vertical-align: middle;\n",
       "    }\n",
       "\n",
       "    .dataframe tbody tr th {\n",
       "        vertical-align: top;\n",
       "    }\n",
       "\n",
       "    .dataframe thead th {\n",
       "        text-align: right;\n",
       "    }\n",
       "</style>\n",
       "<table border=\"1\" class=\"dataframe\">\n",
       "  <thead>\n",
       "    <tr style=\"text-align: right;\">\n",
       "      <th>rsid</th>\n",
       "      <th>rs3737576</th>\n",
       "      <th>rs7554936</th>\n",
       "      <th>rs2814778</th>\n",
       "      <th>rs4918664</th>\n",
       "      <th>rs174570</th>\n",
       "      <th>rs1079597</th>\n",
       "      <th>rs2238151</th>\n",
       "      <th>rs671</th>\n",
       "      <th>rs7997709</th>\n",
       "      <th>rs1572018</th>\n",
       "      <th>...</th>\n",
       "      <th>rs16891982</th>\n",
       "      <th>rs7722456</th>\n",
       "      <th>rs192655</th>\n",
       "      <th>rs3823159</th>\n",
       "      <th>rs917115</th>\n",
       "      <th>rs1462906</th>\n",
       "      <th>rs6990312</th>\n",
       "      <th>rs2196051</th>\n",
       "      <th>rs1871534</th>\n",
       "      <th>rs3814134</th>\n",
       "    </tr>\n",
       "    <tr>\n",
       "      <th>id</th>\n",
       "      <th></th>\n",
       "      <th></th>\n",
       "      <th></th>\n",
       "      <th></th>\n",
       "      <th></th>\n",
       "      <th></th>\n",
       "      <th></th>\n",
       "      <th></th>\n",
       "      <th></th>\n",
       "      <th></th>\n",
       "      <th></th>\n",
       "      <th></th>\n",
       "      <th></th>\n",
       "      <th></th>\n",
       "      <th></th>\n",
       "      <th></th>\n",
       "      <th></th>\n",
       "      <th></th>\n",
       "      <th></th>\n",
       "      <th></th>\n",
       "      <th></th>\n",
       "    </tr>\n",
       "  </thead>\n",
       "  <tbody>\n",
       "    <tr>\n",
       "      <th>HG03625</th>\n",
       "      <td>C|T</td>\n",
       "      <td>C|C</td>\n",
       "      <td>C|T</td>\n",
       "      <td>A|A</td>\n",
       "      <td>C|C</td>\n",
       "      <td>C|C</td>\n",
       "      <td>C|T</td>\n",
       "      <td>A|G</td>\n",
       "      <td>C|C</td>\n",
       "      <td>C|T</td>\n",
       "      <td>...</td>\n",
       "      <td>C|C</td>\n",
       "      <td>C|C</td>\n",
       "      <td>A|G</td>\n",
       "      <td>A|A</td>\n",
       "      <td>C|T</td>\n",
       "      <td>C|T</td>\n",
       "      <td>G|G</td>\n",
       "      <td>A|A</td>\n",
       "      <td>C|C</td>\n",
       "      <td>A|A</td>\n",
       "    </tr>\n",
       "    <tr>\n",
       "      <th>HG03436</th>\n",
       "      <td>C|T</td>\n",
       "      <td>C|C</td>\n",
       "      <td>C|T</td>\n",
       "      <td>A|A</td>\n",
       "      <td>C|C</td>\n",
       "      <td>C|C</td>\n",
       "      <td>C|T</td>\n",
       "      <td>A|G</td>\n",
       "      <td>C|C</td>\n",
       "      <td>C|T</td>\n",
       "      <td>...</td>\n",
       "      <td>C|C</td>\n",
       "      <td>C|C</td>\n",
       "      <td>A|G</td>\n",
       "      <td>A|A</td>\n",
       "      <td>C|T</td>\n",
       "      <td>C|T</td>\n",
       "      <td>G|G</td>\n",
       "      <td>A|A</td>\n",
       "      <td>C|C</td>\n",
       "      <td>A|A</td>\n",
       "    </tr>\n",
       "    <tr>\n",
       "      <th>HG03867</th>\n",
       "      <td>C|T</td>\n",
       "      <td>C|C</td>\n",
       "      <td>C|T</td>\n",
       "      <td>A|A</td>\n",
       "      <td>C|C</td>\n",
       "      <td>C|C</td>\n",
       "      <td>C|T</td>\n",
       "      <td>A|G</td>\n",
       "      <td>C|C</td>\n",
       "      <td>C|T</td>\n",
       "      <td>...</td>\n",
       "      <td>C|C</td>\n",
       "      <td>C|C</td>\n",
       "      <td>A|G</td>\n",
       "      <td>A|A</td>\n",
       "      <td>C|T</td>\n",
       "      <td>C|T</td>\n",
       "      <td>G|G</td>\n",
       "      <td>A|A</td>\n",
       "      <td>C|C</td>\n",
       "      <td>A|A</td>\n",
       "    </tr>\n",
       "    <tr>\n",
       "      <th>HG00553</th>\n",
       "      <td>C|T</td>\n",
       "      <td>C|C</td>\n",
       "      <td>C|T</td>\n",
       "      <td>A|A</td>\n",
       "      <td>C|C</td>\n",
       "      <td>C|C</td>\n",
       "      <td>C|T</td>\n",
       "      <td>A|G</td>\n",
       "      <td>C|C</td>\n",
       "      <td>C|T</td>\n",
       "      <td>...</td>\n",
       "      <td>C|C</td>\n",
       "      <td>C|C</td>\n",
       "      <td>A|G</td>\n",
       "      <td>A|A</td>\n",
       "      <td>C|T</td>\n",
       "      <td>C|T</td>\n",
       "      <td>G|G</td>\n",
       "      <td>A|A</td>\n",
       "      <td>C|C</td>\n",
       "      <td>A|A</td>\n",
       "    </tr>\n",
       "    <tr>\n",
       "      <th>HG03166</th>\n",
       "      <td>C|T</td>\n",
       "      <td>C|C</td>\n",
       "      <td>C|T</td>\n",
       "      <td>A|A</td>\n",
       "      <td>C|C</td>\n",
       "      <td>C|C</td>\n",
       "      <td>C|T</td>\n",
       "      <td>A|G</td>\n",
       "      <td>C|C</td>\n",
       "      <td>C|T</td>\n",
       "      <td>...</td>\n",
       "      <td>C|C</td>\n",
       "      <td>C|C</td>\n",
       "      <td>A|G</td>\n",
       "      <td>A|A</td>\n",
       "      <td>C|T</td>\n",
       "      <td>C|T</td>\n",
       "      <td>G|G</td>\n",
       "      <td>A|A</td>\n",
       "      <td>C|C</td>\n",
       "      <td>A|A</td>\n",
       "    </tr>\n",
       "    <tr>\n",
       "      <th>...</th>\n",
       "      <td>...</td>\n",
       "      <td>...</td>\n",
       "      <td>...</td>\n",
       "      <td>...</td>\n",
       "      <td>...</td>\n",
       "      <td>...</td>\n",
       "      <td>...</td>\n",
       "      <td>...</td>\n",
       "      <td>...</td>\n",
       "      <td>...</td>\n",
       "      <td>...</td>\n",
       "      <td>...</td>\n",
       "      <td>...</td>\n",
       "      <td>...</td>\n",
       "      <td>...</td>\n",
       "      <td>...</td>\n",
       "      <td>...</td>\n",
       "      <td>...</td>\n",
       "      <td>...</td>\n",
       "      <td>...</td>\n",
       "      <td>...</td>\n",
       "    </tr>\n",
       "    <tr>\n",
       "      <th>HG03451</th>\n",
       "      <td>T|T</td>\n",
       "      <td>T|C</td>\n",
       "      <td>T|T</td>\n",
       "      <td>G|A</td>\n",
       "      <td>T|C</td>\n",
       "      <td>T|C</td>\n",
       "      <td>T|T</td>\n",
       "      <td>G|G</td>\n",
       "      <td>T|C</td>\n",
       "      <td>T|T</td>\n",
       "      <td>...</td>\n",
       "      <td>G|C</td>\n",
       "      <td>T|C</td>\n",
       "      <td>G|G</td>\n",
       "      <td>G|A</td>\n",
       "      <td>T|T</td>\n",
       "      <td>T|T</td>\n",
       "      <td>T|G</td>\n",
       "      <td>G|A</td>\n",
       "      <td>G|C</td>\n",
       "      <td>G|A</td>\n",
       "    </tr>\n",
       "    <tr>\n",
       "      <th>HG02111</th>\n",
       "      <td>T|T</td>\n",
       "      <td>T|C</td>\n",
       "      <td>T|T</td>\n",
       "      <td>G|A</td>\n",
       "      <td>T|C</td>\n",
       "      <td>T|C</td>\n",
       "      <td>T|T</td>\n",
       "      <td>G|G</td>\n",
       "      <td>T|C</td>\n",
       "      <td>T|T</td>\n",
       "      <td>...</td>\n",
       "      <td>G|C</td>\n",
       "      <td>T|C</td>\n",
       "      <td>G|G</td>\n",
       "      <td>G|A</td>\n",
       "      <td>T|T</td>\n",
       "      <td>T|T</td>\n",
       "      <td>T|G</td>\n",
       "      <td>G|A</td>\n",
       "      <td>G|C</td>\n",
       "      <td>G|A</td>\n",
       "    </tr>\n",
       "    <tr>\n",
       "      <th>HG00150</th>\n",
       "      <td>T|T</td>\n",
       "      <td>T|C</td>\n",
       "      <td>T|T</td>\n",
       "      <td>G|A</td>\n",
       "      <td>T|C</td>\n",
       "      <td>T|C</td>\n",
       "      <td>T|T</td>\n",
       "      <td>G|G</td>\n",
       "      <td>T|C</td>\n",
       "      <td>T|T</td>\n",
       "      <td>...</td>\n",
       "      <td>G|C</td>\n",
       "      <td>T|C</td>\n",
       "      <td>G|G</td>\n",
       "      <td>G|A</td>\n",
       "      <td>T|T</td>\n",
       "      <td>T|T</td>\n",
       "      <td>T|G</td>\n",
       "      <td>G|A</td>\n",
       "      <td>G|C</td>\n",
       "      <td>G|A</td>\n",
       "    </tr>\n",
       "    <tr>\n",
       "      <th>NA21098</th>\n",
       "      <td>T|T</td>\n",
       "      <td>T|C</td>\n",
       "      <td>T|T</td>\n",
       "      <td>G|A</td>\n",
       "      <td>T|C</td>\n",
       "      <td>T|C</td>\n",
       "      <td>T|T</td>\n",
       "      <td>G|G</td>\n",
       "      <td>T|C</td>\n",
       "      <td>T|T</td>\n",
       "      <td>...</td>\n",
       "      <td>G|C</td>\n",
       "      <td>T|C</td>\n",
       "      <td>G|G</td>\n",
       "      <td>G|A</td>\n",
       "      <td>T|T</td>\n",
       "      <td>T|T</td>\n",
       "      <td>T|G</td>\n",
       "      <td>G|A</td>\n",
       "      <td>G|C</td>\n",
       "      <td>G|A</td>\n",
       "    </tr>\n",
       "    <tr>\n",
       "      <th>NA20355</th>\n",
       "      <td>T|T</td>\n",
       "      <td>T|C</td>\n",
       "      <td>T|T</td>\n",
       "      <td>G|A</td>\n",
       "      <td>T|C</td>\n",
       "      <td>T|C</td>\n",
       "      <td>T|T</td>\n",
       "      <td>G|G</td>\n",
       "      <td>T|C</td>\n",
       "      <td>T|T</td>\n",
       "      <td>...</td>\n",
       "      <td>G|C</td>\n",
       "      <td>T|C</td>\n",
       "      <td>G|G</td>\n",
       "      <td>G|A</td>\n",
       "      <td>T|T</td>\n",
       "      <td>T|T</td>\n",
       "      <td>T|G</td>\n",
       "      <td>G|A</td>\n",
       "      <td>G|C</td>\n",
       "      <td>G|A</td>\n",
       "    </tr>\n",
       "  </tbody>\n",
       "</table>\n",
       "<p>2504 rows × 55 columns</p>\n",
       "</div>"
      ],
      "text/plain": [
       "rsid    rs3737576 rs7554936 rs2814778 rs4918664 rs174570 rs1079597 rs2238151  \\\n",
       "id                                                                             \n",
       "HG03625       C|T       C|C       C|T       A|A      C|C       C|C       C|T   \n",
       "HG03436       C|T       C|C       C|T       A|A      C|C       C|C       C|T   \n",
       "HG03867       C|T       C|C       C|T       A|A      C|C       C|C       C|T   \n",
       "HG00553       C|T       C|C       C|T       A|A      C|C       C|C       C|T   \n",
       "HG03166       C|T       C|C       C|T       A|A      C|C       C|C       C|T   \n",
       "...           ...       ...       ...       ...      ...       ...       ...   \n",
       "HG03451       T|T       T|C       T|T       G|A      T|C       T|C       T|T   \n",
       "HG02111       T|T       T|C       T|T       G|A      T|C       T|C       T|T   \n",
       "HG00150       T|T       T|C       T|T       G|A      T|C       T|C       T|T   \n",
       "NA21098       T|T       T|C       T|T       G|A      T|C       T|C       T|T   \n",
       "NA20355       T|T       T|C       T|T       G|A      T|C       T|C       T|T   \n",
       "\n",
       "rsid    rs671 rs7997709 rs1572018  ... rs16891982 rs7722456 rs192655  \\\n",
       "id                                 ...                                 \n",
       "HG03625   A|G       C|C       C|T  ...        C|C       C|C      A|G   \n",
       "HG03436   A|G       C|C       C|T  ...        C|C       C|C      A|G   \n",
       "HG03867   A|G       C|C       C|T  ...        C|C       C|C      A|G   \n",
       "HG00553   A|G       C|C       C|T  ...        C|C       C|C      A|G   \n",
       "HG03166   A|G       C|C       C|T  ...        C|C       C|C      A|G   \n",
       "...       ...       ...       ...  ...        ...       ...      ...   \n",
       "HG03451   G|G       T|C       T|T  ...        G|C       T|C      G|G   \n",
       "HG02111   G|G       T|C       T|T  ...        G|C       T|C      G|G   \n",
       "HG00150   G|G       T|C       T|T  ...        G|C       T|C      G|G   \n",
       "NA21098   G|G       T|C       T|T  ...        G|C       T|C      G|G   \n",
       "NA20355   G|G       T|C       T|T  ...        G|C       T|C      G|G   \n",
       "\n",
       "rsid    rs3823159 rs917115 rs1462906 rs6990312 rs2196051 rs1871534 rs3814134  \n",
       "id                                                                            \n",
       "HG03625       A|A      C|T       C|T       G|G       A|A       C|C       A|A  \n",
       "HG03436       A|A      C|T       C|T       G|G       A|A       C|C       A|A  \n",
       "HG03867       A|A      C|T       C|T       G|G       A|A       C|C       A|A  \n",
       "HG00553       A|A      C|T       C|T       G|G       A|A       C|C       A|A  \n",
       "HG03166       A|A      C|T       C|T       G|G       A|A       C|C       A|A  \n",
       "...           ...      ...       ...       ...       ...       ...       ...  \n",
       "HG03451       G|A      T|T       T|T       T|G       G|A       G|C       G|A  \n",
       "HG02111       G|A      T|T       T|T       T|G       G|A       G|C       G|A  \n",
       "HG00150       G|A      T|T       T|T       T|G       G|A       G|C       G|A  \n",
       "NA21098       G|A      T|T       T|T       T|G       G|A       G|C       G|A  \n",
       "NA20355       G|A      T|T       T|T       T|G       G|A       G|C       G|A  \n",
       "\n",
       "[2504 rows x 55 columns]"
      ]
     },
     "execution_count": 30,
     "metadata": {},
     "output_type": "execute_result"
    }
   ],
   "source": [
    "dragendf.apply(lambda row: sorted(row.replace(\"|\", \"\")))"
   ]
  },
  {
   "cell_type": "code",
   "execution_count": 31,
   "metadata": {},
   "outputs": [],
   "source": [
    "# we're actually going to use this DataFrame instead of the vcf because it has the alleles\n",
    "kgdf = pd.read_csv(DATA_DIRECTORY.joinpath(\"thousand_genomes.kidd.dataframe.csv\"))\n",
    "kgdf.rename(columns={\"Unnamed: 0\": \"id\"}, inplace=True)\n",
    "kgdf.set_index(\"id\", inplace=True)\n",
    "kgdf = kgdf.loc[kgsamples].copy()\n",
    "\n",
    "# to match dragendf\n",
    "kgdf.columns.name = \"rsid\""
   ]
  },
  {
   "cell_type": "code",
   "execution_count": 32,
   "metadata": {},
   "outputs": [],
   "source": [
    "# replace | with empty\n",
    "dragendf = dragendf.apply(lambda row: row.str.replace(\"|\", \"\", regex=False))"
   ]
  },
  {
   "cell_type": "code",
   "execution_count": 33,
   "metadata": {},
   "outputs": [],
   "source": [
    "kgdf = kgdf.reindex(dfsamples.index)\n",
    "dragendf = dragendf.reindex(dfsamples.index)"
   ]
  },
  {
   "cell_type": "code",
   "execution_count": 34,
   "metadata": {},
   "outputs": [
    {
     "data": {
      "text/plain": [
       "True"
      ]
     },
     "execution_count": 34,
     "metadata": {},
     "output_type": "execute_result"
    }
   ],
   "source": [
    "(dragendf.index == kgdf.index).all()"
   ]
  },
  {
   "cell_type": "markdown",
   "metadata": {},
   "source": [
    "# Nested CV"
   ]
  },
  {
   "cell_type": "code",
   "execution_count": 58,
   "metadata": {},
   "outputs": [],
   "source": [
    "from sklearn.model_selection import KFold, GridSearchCV, cross_val_score\n",
    "from sklearn.preprocessing import OneHotEncoder\n",
    "from sklearn.decomposition import PCA\n",
    "from sklearn.neighbors import KNeighborsClassifier\n",
    "from sklearn.compose import ColumnTransformer\n",
    "from sklearn.pipeline import make_pipeline\n"
   ]
  },
  {
   "cell_type": "code",
   "execution_count": 36,
   "metadata": {},
   "outputs": [
    {
     "data": {
      "text/plain": [
       "TT    2212\n",
       "CT     292\n",
       "Name: rs3737576, dtype: int64"
      ]
     },
     "execution_count": 36,
     "metadata": {},
     "output_type": "execute_result"
    }
   ],
   "source": [
    "dragendf[\"rs3737576\"].value_counts()"
   ]
  },
  {
   "cell_type": "code",
   "execution_count": 37,
   "metadata": {},
   "outputs": [
    {
     "data": {
      "text/plain": [
       "TT    2147\n",
       "CT     293\n",
       "CC      64\n",
       "Name: rs3737576, dtype: int64"
      ]
     },
     "execution_count": 37,
     "metadata": {},
     "output_type": "execute_result"
    }
   ],
   "source": [
    "kgdf[\"rs3737576\"].value_counts()"
   ]
  },
  {
   "cell_type": "code",
   "execution_count": 68,
   "metadata": {},
   "outputs": [],
   "source": [
    "dragendf_categories = dragendf.apply(pd.unique).values.tolist()"
   ]
  },
  {
   "cell_type": "code",
   "execution_count": 69,
   "metadata": {},
   "outputs": [],
   "source": [
    "kgdf_categories = kgdf.apply(pd.unique).drop([\"population\", \"superpopulation\", \"gender\"]).tolist()"
   ]
  },
  {
   "cell_type": "code",
   "execution_count": 70,
   "metadata": {},
   "outputs": [],
   "source": [
    "kgdf_categories = [a.tolist() for a in kgdf_categories]\n",
    "dragendf_categories = [a.tolist() for a in dragendf_categories]"
   ]
  },
  {
   "cell_type": "code",
   "execution_count": 71,
   "metadata": {},
   "outputs": [],
   "source": [
    "categorical_transformer = OneHotEncoder(sparse=False, drop=\"first\")\n",
    "categorical_columns = dragendf.columns.tolist()\n",
    "\n",
    "preprocessor = ColumnTransformer(\n",
    "    transformers=[\n",
    "        (\"cat\", categorical_transformer, categorical_columns),\n",
    "    ]\n",
    ")"
   ]
  },
  {
   "cell_type": "code",
   "execution_count": 79,
   "metadata": {},
   "outputs": [],
   "source": [
    "# define the pipeline first\n",
    "\n",
    "pipe = make_pipeline(\n",
    "    preprocessor,\n",
    "    PCA(),\n",
    "    KNeighborsClassifier(),\n",
    ")"
   ]
  },
  {
   "cell_type": "code",
   "execution_count": 80,
   "metadata": {},
   "outputs": [],
   "source": [
    "# define the param grid\n",
    "param_grid = {\n",
    "    \"pca__n_components\": [2, 3, 4, 5, 6, 7, 8, 9, 10],\n",
    "    \"kneighborsclassifier__n_neighbors\": [3, 5, 7, 9, 11, 15, 21, 25, 51],\n",
    "    \"kneighborsclassifier__weights\": [\"uniform\", \"distance\"],\n",
    "    \"kneighborsclassifier__algorithm\": [\"ball_tree\", \"kd_tree\", \"brute\"],\n",
    "    \"kneighborsclassifier__leaf_size\": [5, 10, 20, 30, 40, 50, 60, 70, 80, 90, 100],\n",
    "}"
   ]
  },
  {
   "cell_type": "code",
   "execution_count": 87,
   "metadata": {},
   "outputs": [],
   "source": [
    "X_dragen = dragendf.copy()\n",
    "X_kg = kgdf.drop(columns=[\"population\", \"superpopulation\", \"gender\"]).copy()\n",
    "y = dfsamples[\"superpopulation\"].copy()"
   ]
  },
  {
   "cell_type": "markdown",
   "metadata": {},
   "source": [
    "1kg"
   ]
  },
  {
   "cell_type": "code",
   "execution_count": 88,
   "metadata": {},
   "outputs": [],
   "source": [
    "NUM_TRIALS = 1\n",
    "\n",
    "nested_scores = np.zeros(NUM_TRIALS)\n",
    "\n",
    "\n",
    "for i in range(NUM_TRIALS):\n",
    "\n",
    "    # Choose cross-validation techniques for the inner and outer loops,\n",
    "    # independently of the dataset.\n",
    "    # E.g \"GroupKFold\", \"LeaveOneOut\", \"LeaveOneGroupOut\", etc.\n",
    "    inner_cv = KFold(n_splits=5, shuffle=True, random_state=i)\n",
    "    outer_cv = KFold(n_splits=5, shuffle=True, random_state=i)\n",
    "\n",
    "    # Nested CV with parameter optimization\n",
    "    clf = GridSearchCV(estimator=pipe, param_grid=param_grid, cv=inner_cv)\n",
    "    nested_score = cross_val_score(clf, X=X_kg, y=y, cv=outer_cv)\n",
    "    nested_scores[i] = nested_score.mean()\n"
   ]
  },
  {
   "cell_type": "markdown",
   "metadata": {},
   "source": [
    "Dragen"
   ]
  },
  {
   "cell_type": "code",
   "execution_count": null,
   "metadata": {},
   "outputs": [],
   "source": [
    "NUM_TRIALS = 10\n",
    "\n",
    "nested_scores = np.zeros(NUM_TRIALS)\n",
    "\n",
    "\n",
    "for i in range(NUM_TRIALS):\n",
    "\n",
    "    # Choose cross-validation techniques for the inner and outer loops,\n",
    "    # independently of the dataset.\n",
    "    # E.g \"GroupKFold\", \"LeaveOneOut\", \"LeaveOneGroupOut\", etc.\n",
    "    inner_cv = KFold(n_splits=5, shuffle=True, random_state=i)\n",
    "    outer_cv = KFold(n_splits=5, shuffle=True, random_state=i)\n",
    "\n",
    "    # Nested CV with parameter optimization\n",
    "    clf = GridSearchCV(estimator=pipe, param_grid=param_grid, cv=inner_cv)\n",
    "    nested_score = cross_val_score(clf, X=X_dragen, y=y, cv=outer_cv)\n",
    "    nested_scores[i] = nested_score.mean()"
   ]
  },
  {
   "cell_type": "code",
   "execution_count": null,
   "metadata": {},
   "outputs": [],
   "source": []
  },
  {
   "cell_type": "code",
   "execution_count": null,
   "metadata": {},
   "outputs": [],
   "source": []
  },
  {
   "cell_type": "code",
   "execution_count": null,
   "metadata": {},
   "outputs": [],
   "source": []
  },
  {
   "cell_type": "code",
   "execution_count": 29,
   "metadata": {},
   "outputs": [],
   "source": [
    "# let's compare one sample between Dragen and 1kG\n",
    "hg00096 = pd.merge(\n",
    "    dragen_gts[\"HG00096\"], kgvcf[\"HG00096\"], left_index=True, right_index=True, suffixes=(\"_dragen\", \"_1kg\")\n",
    ")\n"
   ]
  },
  {
   "cell_type": "code",
   "execution_count": 30,
   "metadata": {},
   "outputs": [
    {
     "data": {
      "text/html": [
       "<div>\n",
       "<style scoped>\n",
       "    .dataframe tbody tr th:only-of-type {\n",
       "        vertical-align: middle;\n",
       "    }\n",
       "\n",
       "    .dataframe tbody tr th {\n",
       "        vertical-align: top;\n",
       "    }\n",
       "\n",
       "    .dataframe thead th {\n",
       "        text-align: right;\n",
       "    }\n",
       "</style>\n",
       "<table border=\"1\" class=\"dataframe\">\n",
       "  <thead>\n",
       "    <tr style=\"text-align: right;\">\n",
       "      <th></th>\n",
       "      <th>HG00096_dragen</th>\n",
       "      <th>HG00096_1kg</th>\n",
       "    </tr>\n",
       "    <tr>\n",
       "      <th>rsid</th>\n",
       "      <th></th>\n",
       "      <th></th>\n",
       "    </tr>\n",
       "  </thead>\n",
       "  <tbody>\n",
       "    <tr>\n",
       "      <th>rs3737576</th>\n",
       "      <td>0|0</td>\n",
       "      <td>0|0</td>\n",
       "    </tr>\n",
       "    <tr>\n",
       "      <th>rs7554936</th>\n",
       "      <td>0|1</td>\n",
       "      <td>0|1</td>\n",
       "    </tr>\n",
       "    <tr>\n",
       "      <th>rs2814778</th>\n",
       "      <td>0|0</td>\n",
       "      <td>0|0</td>\n",
       "    </tr>\n",
       "    <tr>\n",
       "      <th>rs4918664</th>\n",
       "      <td>0|1</td>\n",
       "      <td>0|1</td>\n",
       "    </tr>\n",
       "    <tr>\n",
       "      <th>rs174570</th>\n",
       "      <td>0|0</td>\n",
       "      <td>0|0</td>\n",
       "    </tr>\n",
       "    <tr>\n",
       "      <th>rs1079597</th>\n",
       "      <td>0|0</td>\n",
       "      <td>0|0</td>\n",
       "    </tr>\n",
       "    <tr>\n",
       "      <th>rs2238151</th>\n",
       "      <td>0|0</td>\n",
       "      <td>0|0</td>\n",
       "    </tr>\n",
       "    <tr>\n",
       "      <th>rs671</th>\n",
       "      <td>0|0</td>\n",
       "      <td>0|0</td>\n",
       "    </tr>\n",
       "    <tr>\n",
       "      <th>rs7997709</th>\n",
       "      <td>1|1</td>\n",
       "      <td>1|1</td>\n",
       "    </tr>\n",
       "    <tr>\n",
       "      <th>rs1572018</th>\n",
       "      <td>1|1</td>\n",
       "      <td>1|1</td>\n",
       "    </tr>\n",
       "    <tr>\n",
       "      <th>rs2166624</th>\n",
       "      <td>0|0</td>\n",
       "      <td>0|0</td>\n",
       "    </tr>\n",
       "    <tr>\n",
       "      <th>rs7326934</th>\n",
       "      <td>0|0</td>\n",
       "      <td>0|0</td>\n",
       "    </tr>\n",
       "    <tr>\n",
       "      <th>rs9522149</th>\n",
       "      <td>0|1</td>\n",
       "      <td>0|1</td>\n",
       "    </tr>\n",
       "    <tr>\n",
       "      <th>rs200354</th>\n",
       "      <td>0|1</td>\n",
       "      <td>0|1</td>\n",
       "    </tr>\n",
       "    <tr>\n",
       "      <th>rs1800414</th>\n",
       "      <td>0|0</td>\n",
       "      <td>0|0</td>\n",
       "    </tr>\n",
       "    <tr>\n",
       "      <th>rs12913832</th>\n",
       "      <td>1|1</td>\n",
       "      <td>1|1</td>\n",
       "    </tr>\n",
       "    <tr>\n",
       "      <th>rs12439433</th>\n",
       "      <td>0|0</td>\n",
       "      <td>0|0</td>\n",
       "    </tr>\n",
       "    <tr>\n",
       "      <th>rs735480</th>\n",
       "      <td>0|1</td>\n",
       "      <td>0|1</td>\n",
       "    </tr>\n",
       "    <tr>\n",
       "      <th>rs1426654</th>\n",
       "      <td>0|0</td>\n",
       "      <td>0|0</td>\n",
       "    </tr>\n",
       "    <tr>\n",
       "      <th>rs459920</th>\n",
       "      <td>0|0</td>\n",
       "      <td>0|0</td>\n",
       "    </tr>\n",
       "    <tr>\n",
       "      <th>rs4411548</th>\n",
       "      <td>0|0</td>\n",
       "      <td>0|0</td>\n",
       "    </tr>\n",
       "    <tr>\n",
       "      <th>rs2593595</th>\n",
       "      <td>0|0</td>\n",
       "      <td>0|0</td>\n",
       "    </tr>\n",
       "    <tr>\n",
       "      <th>rs17642714</th>\n",
       "      <td>0|0</td>\n",
       "      <td>0|0</td>\n",
       "    </tr>\n",
       "    <tr>\n",
       "      <th>rs4471745</th>\n",
       "      <td>0|0</td>\n",
       "      <td>0|0</td>\n",
       "    </tr>\n",
       "    <tr>\n",
       "      <th>rs11652805</th>\n",
       "      <td>0|1</td>\n",
       "      <td>0|1</td>\n",
       "    </tr>\n",
       "    <tr>\n",
       "      <th>rs2042762</th>\n",
       "      <td>0|0</td>\n",
       "      <td>0|0</td>\n",
       "    </tr>\n",
       "    <tr>\n",
       "      <th>rs7226659</th>\n",
       "      <td>0|0</td>\n",
       "      <td>0|0</td>\n",
       "    </tr>\n",
       "    <tr>\n",
       "      <th>rs3916235</th>\n",
       "      <td>1|1</td>\n",
       "      <td>1|1</td>\n",
       "    </tr>\n",
       "    <tr>\n",
       "      <th>rs4891825</th>\n",
       "      <td>1|1</td>\n",
       "      <td>1|1</td>\n",
       "    </tr>\n",
       "    <tr>\n",
       "      <th>rs7251928</th>\n",
       "      <td>0|1</td>\n",
       "      <td>0|1</td>\n",
       "    </tr>\n",
       "    <tr>\n",
       "      <th>rs798443</th>\n",
       "      <td>1|1</td>\n",
       "      <td>1|1</td>\n",
       "    </tr>\n",
       "    <tr>\n",
       "      <th>rs1876482</th>\n",
       "      <td>0|0</td>\n",
       "      <td>0|0</td>\n",
       "    </tr>\n",
       "    <tr>\n",
       "      <th>rs1834619</th>\n",
       "      <td>0|0</td>\n",
       "      <td>0|0</td>\n",
       "    </tr>\n",
       "    <tr>\n",
       "      <th>rs3827760</th>\n",
       "      <td>0|0</td>\n",
       "      <td>0|0</td>\n",
       "    </tr>\n",
       "    <tr>\n",
       "      <th>rs260690</th>\n",
       "      <td>0|1</td>\n",
       "      <td>1|0</td>\n",
       "    </tr>\n",
       "    <tr>\n",
       "      <th>rs6754311</th>\n",
       "      <td>0|0</td>\n",
       "      <td>0|0</td>\n",
       "    </tr>\n",
       "    <tr>\n",
       "      <th>rs10497191</th>\n",
       "      <td>1|1</td>\n",
       "      <td>1|1</td>\n",
       "    </tr>\n",
       "    <tr>\n",
       "      <th>rs310644</th>\n",
       "      <td>0|1</td>\n",
       "      <td>0|1</td>\n",
       "    </tr>\n",
       "    <tr>\n",
       "      <th>rs2024566</th>\n",
       "      <td>0|0</td>\n",
       "      <td>0|0</td>\n",
       "    </tr>\n",
       "    <tr>\n",
       "      <th>rs12498138</th>\n",
       "      <td>0|0</td>\n",
       "      <td>0|0</td>\n",
       "    </tr>\n",
       "    <tr>\n",
       "      <th>rs4833103</th>\n",
       "      <td>0|1</td>\n",
       "      <td>1|0</td>\n",
       "    </tr>\n",
       "    <tr>\n",
       "      <th>rs1229984</th>\n",
       "      <td>1|1</td>\n",
       "      <td>1|1</td>\n",
       "    </tr>\n",
       "    <tr>\n",
       "      <th>rs3811801</th>\n",
       "      <td>0|0</td>\n",
       "      <td>0|0</td>\n",
       "    </tr>\n",
       "    <tr>\n",
       "      <th>rs7657799</th>\n",
       "      <td>0|0</td>\n",
       "      <td>0|0</td>\n",
       "    </tr>\n",
       "    <tr>\n",
       "      <th>rs870347</th>\n",
       "      <td>0|0</td>\n",
       "      <td>0|0</td>\n",
       "    </tr>\n",
       "    <tr>\n",
       "      <th>rs16891982</th>\n",
       "      <td>1|1</td>\n",
       "      <td>1|1</td>\n",
       "    </tr>\n",
       "    <tr>\n",
       "      <th>rs7722456</th>\n",
       "      <td>1|1</td>\n",
       "      <td>1|1</td>\n",
       "    </tr>\n",
       "    <tr>\n",
       "      <th>rs192655</th>\n",
       "      <td>0|1</td>\n",
       "      <td>1|0</td>\n",
       "    </tr>\n",
       "    <tr>\n",
       "      <th>rs3823159</th>\n",
       "      <td>0|0</td>\n",
       "      <td>0|0</td>\n",
       "    </tr>\n",
       "    <tr>\n",
       "      <th>rs917115</th>\n",
       "      <td>0|0</td>\n",
       "      <td>0|0</td>\n",
       "    </tr>\n",
       "    <tr>\n",
       "      <th>rs1462906</th>\n",
       "      <td>1|1</td>\n",
       "      <td>1|1</td>\n",
       "    </tr>\n",
       "    <tr>\n",
       "      <th>rs6990312</th>\n",
       "      <td>0|0</td>\n",
       "      <td>0|0</td>\n",
       "    </tr>\n",
       "    <tr>\n",
       "      <th>rs2196051</th>\n",
       "      <td>0|0</td>\n",
       "      <td>0|0</td>\n",
       "    </tr>\n",
       "    <tr>\n",
       "      <th>rs1871534</th>\n",
       "      <td>1|1</td>\n",
       "      <td>0|0</td>\n",
       "    </tr>\n",
       "    <tr>\n",
       "      <th>rs3814134</th>\n",
       "      <td>0|0</td>\n",
       "      <td>0|0</td>\n",
       "    </tr>\n",
       "  </tbody>\n",
       "</table>\n",
       "</div>"
      ],
      "text/plain": [
       "           HG00096_dragen HG00096_1kg\n",
       "rsid                                 \n",
       "rs3737576             0|0         0|0\n",
       "rs7554936             0|1         0|1\n",
       "rs2814778             0|0         0|0\n",
       "rs4918664             0|1         0|1\n",
       "rs174570              0|0         0|0\n",
       "rs1079597             0|0         0|0\n",
       "rs2238151             0|0         0|0\n",
       "rs671                 0|0         0|0\n",
       "rs7997709             1|1         1|1\n",
       "rs1572018             1|1         1|1\n",
       "rs2166624             0|0         0|0\n",
       "rs7326934             0|0         0|0\n",
       "rs9522149             0|1         0|1\n",
       "rs200354              0|1         0|1\n",
       "rs1800414             0|0         0|0\n",
       "rs12913832            1|1         1|1\n",
       "rs12439433            0|0         0|0\n",
       "rs735480              0|1         0|1\n",
       "rs1426654             0|0         0|0\n",
       "rs459920              0|0         0|0\n",
       "rs4411548             0|0         0|0\n",
       "rs2593595             0|0         0|0\n",
       "rs17642714            0|0         0|0\n",
       "rs4471745             0|0         0|0\n",
       "rs11652805            0|1         0|1\n",
       "rs2042762             0|0         0|0\n",
       "rs7226659             0|0         0|0\n",
       "rs3916235             1|1         1|1\n",
       "rs4891825             1|1         1|1\n",
       "rs7251928             0|1         0|1\n",
       "rs798443              1|1         1|1\n",
       "rs1876482             0|0         0|0\n",
       "rs1834619             0|0         0|0\n",
       "rs3827760             0|0         0|0\n",
       "rs260690              0|1         1|0\n",
       "rs6754311             0|0         0|0\n",
       "rs10497191            1|1         1|1\n",
       "rs310644              0|1         0|1\n",
       "rs2024566             0|0         0|0\n",
       "rs12498138            0|0         0|0\n",
       "rs4833103             0|1         1|0\n",
       "rs1229984             1|1         1|1\n",
       "rs3811801             0|0         0|0\n",
       "rs7657799             0|0         0|0\n",
       "rs870347              0|0         0|0\n",
       "rs16891982            1|1         1|1\n",
       "rs7722456             1|1         1|1\n",
       "rs192655              0|1         1|0\n",
       "rs3823159             0|0         0|0\n",
       "rs917115              0|0         0|0\n",
       "rs1462906             1|1         1|1\n",
       "rs6990312             0|0         0|0\n",
       "rs2196051             0|0         0|0\n",
       "rs1871534             1|1         0|0\n",
       "rs3814134             0|0         0|0"
      ]
     },
     "execution_count": 30,
     "metadata": {},
     "output_type": "execute_result"
    }
   ],
   "source": [
    "hg00096\n"
   ]
  },
  {
   "cell_type": "markdown",
   "metadata": {},
   "source": [
    "# Does DRAGEN store 0|0 as nulls?????"
   ]
  },
  {
   "cell_type": "markdown",
   "metadata": {},
   "source": [
    "What was different between DRAGEN and 1kG for this sample?"
   ]
  },
  {
   "cell_type": "code",
   "execution_count": 31,
   "metadata": {},
   "outputs": [
    {
     "data": {
      "text/html": [
       "<div>\n",
       "<style scoped>\n",
       "    .dataframe tbody tr th:only-of-type {\n",
       "        vertical-align: middle;\n",
       "    }\n",
       "\n",
       "    .dataframe tbody tr th {\n",
       "        vertical-align: top;\n",
       "    }\n",
       "\n",
       "    .dataframe thead th {\n",
       "        text-align: right;\n",
       "    }\n",
       "</style>\n",
       "<table border=\"1\" class=\"dataframe\">\n",
       "  <thead>\n",
       "    <tr style=\"text-align: right;\">\n",
       "      <th></th>\n",
       "      <th>HG00096_dragen</th>\n",
       "      <th>HG00096_1kg</th>\n",
       "    </tr>\n",
       "    <tr>\n",
       "      <th>rsid</th>\n",
       "      <th></th>\n",
       "      <th></th>\n",
       "    </tr>\n",
       "  </thead>\n",
       "  <tbody>\n",
       "    <tr>\n",
       "      <th>rs260690</th>\n",
       "      <td>0|1</td>\n",
       "      <td>1|0</td>\n",
       "    </tr>\n",
       "    <tr>\n",
       "      <th>rs4833103</th>\n",
       "      <td>0|1</td>\n",
       "      <td>1|0</td>\n",
       "    </tr>\n",
       "    <tr>\n",
       "      <th>rs192655</th>\n",
       "      <td>0|1</td>\n",
       "      <td>1|0</td>\n",
       "    </tr>\n",
       "    <tr>\n",
       "      <th>rs1871534</th>\n",
       "      <td>1|1</td>\n",
       "      <td>0|0</td>\n",
       "    </tr>\n",
       "  </tbody>\n",
       "</table>\n",
       "</div>"
      ],
      "text/plain": [
       "          HG00096_dragen HG00096_1kg\n",
       "rsid                                \n",
       "rs260690             0|1         1|0\n",
       "rs4833103            0|1         1|0\n",
       "rs192655             0|1         1|0\n",
       "rs1871534            1|1         0|0"
      ]
     },
     "execution_count": 31,
     "metadata": {},
     "output_type": "execute_result"
    }
   ],
   "source": [
    "hg00096.dropna().loc[hg00096[\"HG00096_dragen\"] != hg00096[\"HG00096_1kg\"]]\n"
   ]
  },
  {
   "cell_type": "code",
   "execution_count": 29,
   "metadata": {},
   "outputs": [],
   "source": [
    "# idk if DRAGEN is phased or not?\n",
    "# looks like rs1871534 is legit different between the two technologies\n"
   ]
  },
  {
   "cell_type": "markdown",
   "metadata": {},
   "source": [
    "# What's the 5fold CV performance between the a model trained on 1kG and DRAGEN?"
   ]
  },
  {
   "cell_type": "markdown",
   "metadata": {},
   "source": []
  },
  {
   "cell_type": "code",
   "execution_count": null,
   "metadata": {},
   "outputs": [],
   "source": []
  },
  {
   "cell_type": "code",
   "execution_count": 2,
   "metadata": {},
   "outputs": [],
   "source": [
    "from scipy import stats"
   ]
  },
  {
   "cell_type": "code",
   "execution_count": 9,
   "metadata": {},
   "outputs": [
    {
     "data": {
      "text/plain": [
       "0.16666666666666666"
      ]
     },
     "execution_count": 9,
     "metadata": {},
     "output_type": "execute_result"
    }
   ],
   "source": []
  },
  {
   "cell_type": "code",
   "execution_count": 15,
   "metadata": {},
   "outputs": [],
   "source": [
    "import numpy as np"
   ]
  },
  {
   "cell_type": "code",
   "execution_count": 17,
   "metadata": {},
   "outputs": [
    {
     "data": {
      "text/plain": [
       "array([1, 2, 3, 4])"
      ]
     },
     "execution_count": 17,
     "metadata": {},
     "output_type": "execute_result"
    }
   ],
   "source": [
    "np.arange(1, 5)"
   ]
  },
  {
   "cell_type": "code",
   "execution_count": 28,
   "metadata": {},
   "outputs": [],
   "source": [
    "d4 = stats.rv_discrete(name=\"d4\", values=([1, 2, 3, 4], [1/4]*4))\n",
    "d6 = stats.rv_discrete(name=\"d6\", values=([1, 2, 3, 4, 5, 6], [1/6]*6))\n",
    "d8 = stats.rv_discrete(name=\"d8\", values=([1, 2, 3, 4, 5, 6, 7, 8], [1/8]*8))\n",
    "d12 = stats.rv_discrete(name=\"d12\", values=([1, 2, 3, 4, 5, 6, 7, 8, 9, 10, 11, 12], [1/12]*12))\n",
    "d20 = stats.rv_discrete(name=\"d20\", values=([1, 2, 3, 4, 5, 6, 7, 8, 9, 10, 11, 12, 13, 14, 15, 16, 17, 18, 19, 20], [1/20]*20))"
   ]
  },
  {
   "cell_type": "code",
   "execution_count": 25,
   "metadata": {},
   "outputs": [],
   "source": [
    "expected_value, variance = d8.stats()"
   ]
  },
  {
   "cell_type": "code",
   "execution_count": 19,
   "metadata": {},
   "outputs": [
    {
     "data": {
      "text/plain": [
       "array([5, 2, 2, 2, 2, 3, 5, 2, 5, 6])"
      ]
     },
     "execution_count": 19,
     "metadata": {},
     "output_type": "execute_result"
    }
   ],
   "source": [
    "d6.rvs(size=10)"
   ]
  },
  {
   "cell_type": "code",
   "execution_count": null,
   "metadata": {},
   "outputs": [],
   "source": []
  }
 ],
 "metadata": {
  "kernelspec": {
   "display_name": "Python 3.7.11 ('.venv': poetry)",
   "language": "python",
   "name": "python3"
  },
  "language_info": {
   "codemirror_mode": {
    "name": "ipython",
    "version": 3
   },
   "file_extension": ".py",
   "mimetype": "text/x-python",
   "name": "python",
   "nbconvert_exporter": "python",
   "pygments_lexer": "ipython3",
   "version": "3.7.11"
  },
  "orig_nbformat": 4,
  "vscode": {
   "interpreter": {
    "hash": "aea551950a4a7667737c05f16716801a9ad4449848a8a34e2e6ca9c54fd4b60b"
   }
  }
 },
 "nbformat": 4,
 "nbformat_minor": 2
}
