{
 "cells": [
  {
   "cell_type": "markdown",
   "metadata": {},
   "source": [
    "This notebook performs cross-validation to identify the best parameters for a KNN model to predict the genetic ancestry of the 1000 Genomes individuals."
   ]
  },
  {
   "cell_type": "code",
   "execution_count": 1,
   "metadata": {},
   "outputs": [],
   "source": [
    "from pathlib import Path\n",
    "\n",
    "import numpy as np\n",
    "import pandas as pd\n",
    "from sklearn.model_selection import train_test_split\n",
    "import joblib\n",
    "\n",
    "# load config variables\n",
    "from ezancestry.config import aisnps_set as _aisnps_set\n",
    "from ezancestry.config import models_directory as _models_directory\n",
    "from ezancestry.config import population_level as _population_level\n",
    "\n",
    "# load functions\n",
    "from ezancestry.fetch import get_thousand_genomes_aisnps"
   ]
  },
  {
   "cell_type": "code",
   "execution_count": 2,
   "metadata": {},
   "outputs": [
    {
     "name": "stdout",
     "output_type": "stream",
     "text": [
      "Requirement already satisfied: optuna in ./.venv/lib/python3.11/site-packages (3.5.0)\n",
      "Requirement already satisfied: alembic>=1.5.0 in ./.venv/lib/python3.11/site-packages (from optuna) (1.13.1)\n",
      "Requirement already satisfied: colorlog in ./.venv/lib/python3.11/site-packages (from optuna) (6.8.2)\n",
      "Requirement already satisfied: numpy in ./.venv/lib/python3.11/site-packages (from optuna) (1.24.4)\n",
      "Requirement already satisfied: packaging>=20.0 in ./.venv/lib/python3.11/site-packages (from optuna) (23.2)\n",
      "Requirement already satisfied: sqlalchemy>=1.3.0 in ./.venv/lib/python3.11/site-packages (from optuna) (2.0.27)\n",
      "Requirement already satisfied: tqdm in ./.venv/lib/python3.11/site-packages (from optuna) (4.66.2)\n",
      "Requirement already satisfied: PyYAML in ./.venv/lib/python3.11/site-packages (from optuna) (6.0.1)\n",
      "Requirement already satisfied: Mako in ./.venv/lib/python3.11/site-packages (from alembic>=1.5.0->optuna) (1.3.2)\n",
      "Requirement already satisfied: typing-extensions>=4 in ./.venv/lib/python3.11/site-packages (from alembic>=1.5.0->optuna) (4.9.0)\n",
      "Requirement already satisfied: greenlet!=0.4.17 in ./.venv/lib/python3.11/site-packages (from sqlalchemy>=1.3.0->optuna) (3.0.3)\n",
      "Requirement already satisfied: MarkupSafe>=0.9.2 in ./.venv/lib/python3.11/site-packages (from Mako->alembic>=1.5.0->optuna) (2.1.5)\n",
      "\n",
      "\u001b[1m[\u001b[0m\u001b[34;49mnotice\u001b[0m\u001b[1;39;49m]\u001b[0m\u001b[39;49m A new release of pip is available: \u001b[0m\u001b[31;49m23.3.1\u001b[0m\u001b[39;49m -> \u001b[0m\u001b[32;49m24.0\u001b[0m\n",
      "\u001b[1m[\u001b[0m\u001b[34;49mnotice\u001b[0m\u001b[1;39;49m]\u001b[0m\u001b[39;49m To update, run: \u001b[0m\u001b[32;49mpip install --upgrade pip\u001b[0m\n"
     ]
    }
   ],
   "source": [
    "!pip install optuna"
   ]
  },
  {
   "cell_type": "code",
   "execution_count": 3,
   "metadata": {},
   "outputs": [
    {
     "name": "stderr",
     "output_type": "stream",
     "text": [
      "/workspaces/ezancestry/.venv/lib/python3.11/site-packages/tqdm/auto.py:21: TqdmWarning: IProgress not found. Please update jupyter and ipywidgets. See https://ipywidgets.readthedocs.io/en/stable/user_install.html\n",
      "  from .autonotebook import tqdm as notebook_tqdm\n"
     ]
    }
   ],
   "source": [
    "import optuna\n",
    "from sklearn.decomposition import PCA\n",
    "from sklearn.impute import KNNImputer, SimpleImputer\n",
    "from sklearn.metrics import accuracy_score, balanced_accuracy_score, top_k_accuracy_score, make_scorer\n",
    "from sklearn.model_selection import StratifiedKFold, cross_val_score, train_test_split\n",
    "from sklearn.neighbors import KNeighborsClassifier\n",
    "from sklearn.pipeline import make_pipeline\n",
    "from sklearn.preprocessing import OneHotEncoder"
   ]
  },
  {
   "cell_type": "code",
   "execution_count": 4,
   "metadata": {},
   "outputs": [
    {
     "name": "stderr",
     "output_type": "stream",
     "text": [
      "2024-02-20 04:36:48.163 | INFO     | ezancestry.fetch:get_thousand_genomes_aisnps:34 - Loaded: kidd.1kG.csv\n",
      "2024-02-20 04:36:48.177 | INFO     | ezancestry.fetch:get_thousand_genomes_aisnps:34 - Loaded: kidd.1kG.csv\n"
     ]
    }
   ],
   "source": [
    "# If the file exists in the aisnps_directory, you can load it rather than querying the 1000 Genomes VCF\n",
    "kidd1kg = get_thousand_genomes_aisnps(aisnps_directory=\"data/aisnps/\", aisnps_sets=_aisnps_set).set_index(\"sample\")\n",
    "seldin1kg = get_thousand_genomes_aisnps(aisnps_directory=\"data/aisnps/\", aisnps_sets=_aisnps_set).set_index(\"sample\")"
   ]
  },
  {
   "cell_type": "markdown",
   "metadata": {},
   "source": [
    "# Kidd AISNPs to predict superpopulation"
   ]
  },
  {
   "cell_type": "code",
   "execution_count": 7,
   "metadata": {},
   "outputs": [],
   "source": [
    "todrop = [\"superpopulation\", \"population\", \"gender\"]\n",
    "label = \"superpopulation\""
   ]
  },
  {
   "cell_type": "code",
   "execution_count": 8,
   "metadata": {},
   "outputs": [],
   "source": [
    "X_train, X_test, y_train, y_test = train_test_split(\n",
    "    kidd1kg.drop(columns=todrop),\n",
    "    kidd1kg[label],\n",
    "    test_size=0.2,\n",
    "    random_state=42,\n",
    ")"
   ]
  },
  {
   "cell_type": "code",
   "execution_count": 9,
   "metadata": {},
   "outputs": [],
   "source": [
    "def objective(trial):\n",
    "    weights = trial.suggest_categorical(\"weights\", [\"uniform\", \"distance\"])\n",
    "    n_components = trial.suggest_int(\"n_components\", 3, 50)\n",
    "    n_neighbors = trial.suggest_int(\"n_neighbors\", 11, 100)\n",
    "\n",
    "    model = make_pipeline(\n",
    "        OneHotEncoder(handle_unknown=\"ignore\", sparse_output=False, dtype=np.int8),\n",
    "        PCA(n_components=n_components),\n",
    "        KNeighborsClassifier(n_neighbors=n_neighbors, weights=weights, n_jobs=4),\n",
    "    )\n",
    "\n",
    "    return cross_val_score(model, X_train, y_train, n_jobs=4, scoring=\"accuracy\", cv=StratifiedKFold(5)).mean()"
   ]
  },
  {
   "cell_type": "code",
   "execution_count": 10,
   "metadata": {},
   "outputs": [
    {
     "name": "stderr",
     "output_type": "stream",
     "text": [
      "[I 2024-02-20 04:37:05,505] A new study created in memory with name: no-name-a3f0050b-f579-4d19-82f0-760ab090ee26\n",
      "[I 2024-02-20 04:37:07,153] Trial 0 finished with value: 0.8986645885286784 and parameters: {'weights': 'uniform', 'n_components': 49, 'n_neighbors': 81}. Best is trial 0 with value: 0.8986645885286784.\n",
      "[I 2024-02-20 04:37:07,270] Trial 1 finished with value: 0.9216309226932669 and parameters: {'weights': 'uniform', 'n_components': 32, 'n_neighbors': 64}. Best is trial 1 with value: 0.9216309226932669.\n",
      "[I 2024-02-20 04:37:07,448] Trial 2 finished with value: 0.9076483790523691 and parameters: {'weights': 'distance', 'n_components': 38, 'n_neighbors': 96}. Best is trial 1 with value: 0.9216309226932669.\n",
      "[I 2024-02-20 04:37:07,628] Trial 3 finished with value: 0.958076059850374 and parameters: {'weights': 'uniform', 'n_components': 10, 'n_neighbors': 13}. Best is trial 3 with value: 0.958076059850374.\n",
      "[I 2024-02-20 04:37:07,807] Trial 4 finished with value: 0.9660598503740647 and parameters: {'weights': 'uniform', 'n_components': 4, 'n_neighbors': 47}. Best is trial 4 with value: 0.9660598503740647.\n",
      "[I 2024-02-20 04:37:08,021] Trial 5 finished with value: 0.9595710723192019 and parameters: {'weights': 'uniform', 'n_components': 14, 'n_neighbors': 12}. Best is trial 4 with value: 0.9660598503740647.\n",
      "[I 2024-02-20 04:37:08,177] Trial 6 finished with value: 0.9126433915211971 and parameters: {'weights': 'distance', 'n_components': 37, 'n_neighbors': 60}. Best is trial 4 with value: 0.9660598503740647.\n",
      "[I 2024-02-20 04:37:08,347] Trial 7 finished with value: 0.9231284289276808 and parameters: {'weights': 'uniform', 'n_components': 28, 'n_neighbors': 98}. Best is trial 4 with value: 0.9660598503740647.\n",
      "[I 2024-02-20 04:37:08,499] Trial 8 finished with value: 0.9455885286783042 and parameters: {'weights': 'uniform', 'n_components': 21, 'n_neighbors': 11}. Best is trial 4 with value: 0.9660598503740647.\n",
      "[I 2024-02-20 04:37:08,614] Trial 9 finished with value: 0.9341122194513716 and parameters: {'weights': 'uniform', 'n_components': 23, 'n_neighbors': 57}. Best is trial 4 with value: 0.9660598503740647.\n",
      "[I 2024-02-20 04:37:08,771] Trial 10 finished with value: 0.9366059850374064 and parameters: {'weights': 'uniform', 'n_components': 17, 'n_neighbors': 81}. Best is trial 4 with value: 0.9660598503740647.\n",
      "[I 2024-02-20 04:37:08,890] Trial 11 finished with value: 0.917135910224439 and parameters: {'weights': 'distance', 'n_components': 3, 'n_neighbors': 34}. Best is trial 4 with value: 0.9660598503740647.\n",
      "[I 2024-02-20 04:37:09,067] Trial 12 finished with value: 0.9181346633416461 and parameters: {'weights': 'distance', 'n_components': 3, 'n_neighbors': 33}. Best is trial 4 with value: 0.9660598503740647.\n",
      "[I 2024-02-20 04:37:09,210] Trial 13 finished with value: 0.920134663341646 and parameters: {'weights': 'uniform', 'n_components': 3, 'n_neighbors': 32}. Best is trial 4 with value: 0.9660598503740647.\n",
      "[I 2024-02-20 04:37:09,421] Trial 14 finished with value: 0.956074812967581 and parameters: {'weights': 'uniform', 'n_components': 13, 'n_neighbors': 35}. Best is trial 4 with value: 0.9660598503740647.\n",
      "[I 2024-02-20 04:37:09,587] Trial 15 finished with value: 0.9540785536159602 and parameters: {'weights': 'uniform', 'n_components': 13, 'n_neighbors': 42}. Best is trial 4 with value: 0.9660598503740647.\n",
      "[I 2024-02-20 04:37:09,877] Trial 16 finished with value: 0.958571072319202 and parameters: {'weights': 'uniform', 'n_components': 10, 'n_neighbors': 46}. Best is trial 4 with value: 0.9660598503740647.\n",
      "[I 2024-02-20 04:37:10,023] Trial 17 finished with value: 0.9685548628428929 and parameters: {'weights': 'uniform', 'n_components': 8, 'n_neighbors': 20}. Best is trial 17 with value: 0.9685548628428929.\n",
      "[I 2024-02-20 04:37:10,259] Trial 18 finished with value: 0.9650635910224439 and parameters: {'weights': 'uniform', 'n_components': 9, 'n_neighbors': 20}. Best is trial 17 with value: 0.9685548628428929.\n",
      "[I 2024-02-20 04:37:10,446] Trial 19 finished with value: 0.9655623441396509 and parameters: {'weights': 'distance', 'n_components': 7, 'n_neighbors': 25}. Best is trial 17 with value: 0.9685548628428929.\n",
      "[I 2024-02-20 04:37:10,623] Trial 20 finished with value: 0.9460897755610972 and parameters: {'weights': 'distance', 'n_components': 19, 'n_neighbors': 23}. Best is trial 17 with value: 0.9685548628428929.\n",
      "[I 2024-02-20 04:37:10,759] Trial 21 finished with value: 0.9376047381546135 and parameters: {'weights': 'uniform', 'n_components': 18, 'n_neighbors': 70}. Best is trial 17 with value: 0.9685548628428929.\n",
      "[I 2024-02-20 04:37:10,935] Trial 22 finished with value: 0.960071072319202 and parameters: {'weights': 'distance', 'n_components': 7, 'n_neighbors': 47}. Best is trial 17 with value: 0.9685548628428929.\n",
      "[I 2024-02-20 04:37:11,111] Trial 23 finished with value: 0.9640623441396509 and parameters: {'weights': 'distance', 'n_components': 6, 'n_neighbors': 47}. Best is trial 17 with value: 0.9685548628428929.\n",
      "[I 2024-02-20 04:37:11,219] Trial 24 finished with value: 0.9635623441396509 and parameters: {'weights': 'distance', 'n_components': 7, 'n_neighbors': 22}. Best is trial 17 with value: 0.9685548628428929.\n",
      "[I 2024-02-20 04:37:11,367] Trial 25 finished with value: 0.965558603491272 and parameters: {'weights': 'distance', 'n_components': 7, 'n_neighbors': 23}. Best is trial 17 with value: 0.9685548628428929.\n",
      "[I 2024-02-20 04:37:11,527] Trial 26 finished with value: 0.9560760598503741 and parameters: {'weights': 'distance', 'n_components': 14, 'n_neighbors': 26}. Best is trial 17 with value: 0.9685548628428929.\n",
      "[I 2024-02-20 04:37:11,668] Trial 27 finished with value: 0.9510810473815461 and parameters: {'weights': 'distance', 'n_components': 15, 'n_neighbors': 40}. Best is trial 17 with value: 0.9685548628428929.\n",
      "[I 2024-02-20 04:37:11,804] Trial 28 finished with value: 0.9301172069825435 and parameters: {'weights': 'uniform', 'n_components': 28, 'n_neighbors': 42}. Best is trial 17 with value: 0.9685548628428929.\n",
      "[I 2024-02-20 04:37:11,962] Trial 29 finished with value: 0.9336134663341646 and parameters: {'weights': 'uniform', 'n_components': 25, 'n_neighbors': 52}. Best is trial 17 with value: 0.9685548628428929.\n",
      "[I 2024-02-20 04:37:12,118] Trial 30 finished with value: 0.914143391521197 and parameters: {'weights': 'uniform', 'n_components': 46, 'n_neighbors': 29}. Best is trial 17 with value: 0.9685548628428929.\n",
      "[I 2024-02-20 04:37:12,290] Trial 31 finished with value: 0.913143391521197 and parameters: {'weights': 'uniform', 'n_components': 47, 'n_neighbors': 18}. Best is trial 17 with value: 0.9685548628428929.\n",
      "[I 2024-02-20 04:37:12,438] Trial 32 finished with value: 0.9675586034912719 and parameters: {'weights': 'distance', 'n_components': 6, 'n_neighbors': 17}. Best is trial 17 with value: 0.9685548628428929.\n",
      "[I 2024-02-20 04:37:12,572] Trial 33 finished with value: 0.9665598503740649 and parameters: {'weights': 'distance', 'n_components': 7, 'n_neighbors': 18}. Best is trial 17 with value: 0.9685548628428929.\n",
      "[I 2024-02-20 04:37:12,742] Trial 34 finished with value: 0.9545785536159601 and parameters: {'weights': 'distance', 'n_components': 11, 'n_neighbors': 70}. Best is trial 17 with value: 0.9685548628428929.\n",
      "[I 2024-02-20 04:37:12,881] Trial 35 finished with value: 0.9495847880299252 and parameters: {'weights': 'distance', 'n_components': 12, 'n_neighbors': 70}. Best is trial 17 with value: 0.9685548628428929.\n",
      "[I 2024-02-20 04:37:13,003] Trial 36 finished with value: 0.9665573566084789 and parameters: {'weights': 'distance', 'n_components': 5, 'n_neighbors': 17}. Best is trial 17 with value: 0.9685548628428929.\n",
      "[I 2024-02-20 04:37:13,165] Trial 37 finished with value: 0.9680548628428929 and parameters: {'weights': 'distance', 'n_components': 5, 'n_neighbors': 17}. Best is trial 17 with value: 0.9685548628428929.\n",
      "[I 2024-02-20 04:37:13,296] Trial 38 finished with value: 0.9645623441396509 and parameters: {'weights': 'distance', 'n_components': 9, 'n_neighbors': 16}. Best is trial 17 with value: 0.9685548628428929.\n",
      "[I 2024-02-20 04:37:13,462] Trial 39 finished with value: 0.962564837905237 and parameters: {'weights': 'distance', 'n_components': 9, 'n_neighbors': 15}. Best is trial 17 with value: 0.9685548628428929.\n",
      "[I 2024-02-20 04:37:13,576] Trial 40 finished with value: 0.9266234413965087 and parameters: {'weights': 'distance', 'n_components': 37, 'n_neighbors': 11}. Best is trial 17 with value: 0.9685548628428929.\n",
      "[I 2024-02-20 04:37:13,743] Trial 41 finished with value: 0.9271246882793017 and parameters: {'weights': 'distance', 'n_components': 33, 'n_neighbors': 28}. Best is trial 17 with value: 0.9685548628428929.\n",
      "[I 2024-02-20 04:37:13,899] Trial 42 finished with value: 0.9695511221945138 and parameters: {'weights': 'distance', 'n_components': 5, 'n_neighbors': 19}. Best is trial 42 with value: 0.9695511221945138.\n",
      "[I 2024-02-20 04:37:13,999] Trial 43 finished with value: 0.9685548628428927 and parameters: {'weights': 'distance', 'n_components': 6, 'n_neighbors': 18}. Best is trial 42 with value: 0.9695511221945138.\n",
      "[I 2024-02-20 04:37:14,193] Trial 44 finished with value: 0.9680536159600998 and parameters: {'weights': 'distance', 'n_components': 5, 'n_neighbors': 19}. Best is trial 42 with value: 0.9695511221945138.\n",
      "[I 2024-02-20 04:37:14,318] Trial 45 finished with value: 0.9690536159600999 and parameters: {'weights': 'distance', 'n_components': 5, 'n_neighbors': 13}. Best is trial 42 with value: 0.9695511221945138.\n",
      "[I 2024-02-20 04:37:14,465] Trial 46 finished with value: 0.9550735660847881 and parameters: {'weights': 'distance', 'n_components': 16, 'n_neighbors': 11}. Best is trial 42 with value: 0.9695511221945138.\n",
      "[I 2024-02-20 04:37:14,616] Trial 47 finished with value: 0.9645598503740649 and parameters: {'weights': 'distance', 'n_components': 4, 'n_neighbors': 91}. Best is trial 42 with value: 0.9695511221945138.\n",
      "[I 2024-02-20 04:37:14,779] Trial 48 finished with value: 0.911647132169576 and parameters: {'weights': 'distance', 'n_components': 3, 'n_neighbors': 86}. Best is trial 42 with value: 0.9695511221945138.\n",
      "[I 2024-02-20 04:37:14,895] Trial 49 finished with value: 0.9176371571072318 and parameters: {'weights': 'distance', 'n_components': 3, 'n_neighbors': 29}. Best is trial 42 with value: 0.9695511221945138.\n",
      "[I 2024-02-20 04:37:15,062] Trial 50 finished with value: 0.9595723192019949 and parameters: {'weights': 'distance', 'n_components': 11, 'n_neighbors': 30}. Best is trial 42 with value: 0.9695511221945138.\n",
      "[I 2024-02-20 04:37:15,307] Trial 51 finished with value: 0.957073566084788 and parameters: {'weights': 'distance', 'n_components': 11, 'n_neighbors': 37}. Best is trial 42 with value: 0.9695511221945138.\n",
      "[I 2024-02-20 04:37:15,417] Trial 52 finished with value: 0.9660598503740649 and parameters: {'weights': 'distance', 'n_components': 9, 'n_neighbors': 14}. Best is trial 42 with value: 0.9695511221945138.\n",
      "[I 2024-02-20 04:37:15,550] Trial 53 finished with value: 0.9665598503740649 and parameters: {'weights': 'distance', 'n_components': 5, 'n_neighbors': 14}. Best is trial 42 with value: 0.9695511221945138.\n",
      "[I 2024-02-20 04:37:15,692] Trial 54 finished with value: 0.9685536159600998 and parameters: {'weights': 'distance', 'n_components': 5, 'n_neighbors': 21}. Best is trial 42 with value: 0.9695511221945138.\n",
      "[I 2024-02-20 04:37:15,862] Trial 55 finished with value: 0.963063591022444 and parameters: {'weights': 'distance', 'n_components': 8, 'n_neighbors': 20}. Best is trial 42 with value: 0.9695511221945138.\n",
      "[I 2024-02-20 04:37:16,077] Trial 56 finished with value: 0.966062344139651 and parameters: {'weights': 'distance', 'n_components': 8, 'n_neighbors': 21}. Best is trial 42 with value: 0.9695511221945138.\n",
      "[I 2024-02-20 04:37:16,351] Trial 57 finished with value: 0.9420972568578552 and parameters: {'weights': 'distance', 'n_components': 21, 'n_neighbors': 25}. Best is trial 42 with value: 0.9695511221945138.\n",
      "[I 2024-02-20 04:37:16,651] Trial 58 finished with value: 0.9680561097256859 and parameters: {'weights': 'uniform', 'n_components': 5, 'n_neighbors': 26}. Best is trial 42 with value: 0.9695511221945138.\n",
      "[I 2024-02-20 04:37:16,888] Trial 59 finished with value: 0.9660598503740649 and parameters: {'weights': 'uniform', 'n_components': 5, 'n_neighbors': 25}. Best is trial 42 with value: 0.9695511221945138.\n",
      "[I 2024-02-20 04:37:17,033] Trial 60 finished with value: 0.9565760598503742 and parameters: {'weights': 'uniform', 'n_components': 13, 'n_neighbors': 25}. Best is trial 42 with value: 0.9695511221945138.\n",
      "[I 2024-02-20 04:37:17,213] Trial 61 finished with value: 0.9535760598503741 and parameters: {'weights': 'uniform', 'n_components': 13, 'n_neighbors': 35}. Best is trial 42 with value: 0.9695511221945138.\n",
      "[I 2024-02-20 04:37:17,365] Trial 62 finished with value: 0.912642144638404 and parameters: {'weights': 'uniform', 'n_components': 3, 'n_neighbors': 13}. Best is trial 42 with value: 0.9695511221945138.\n",
      "[I 2024-02-20 04:37:17,570] Trial 63 finished with value: 0.9106496259351621 and parameters: {'weights': 'uniform', 'n_components': 3, 'n_neighbors': 14}. Best is trial 42 with value: 0.9695511221945138.\n",
      "[I 2024-02-20 04:37:17,797] Trial 64 finished with value: 0.967058603491272 and parameters: {'weights': 'uniform', 'n_components': 5, 'n_neighbors': 22}. Best is trial 42 with value: 0.9695511221945138.\n",
      "[I 2024-02-20 04:37:17,991] Trial 65 finished with value: 0.967557356608479 and parameters: {'weights': 'uniform', 'n_components': 6, 'n_neighbors': 22}. Best is trial 42 with value: 0.9695511221945138.\n",
      "[I 2024-02-20 04:37:18,138] Trial 66 finished with value: 0.960071072319202 and parameters: {'weights': 'uniform', 'n_components': 10, 'n_neighbors': 31}. Best is trial 42 with value: 0.9695511221945138.\n",
      "[I 2024-02-20 04:37:18,373] Trial 67 finished with value: 0.9595698254364089 and parameters: {'weights': 'distance', 'n_components': 10, 'n_neighbors': 19}. Best is trial 42 with value: 0.9695511221945138.\n",
      "[I 2024-02-20 04:37:18,586] Trial 68 finished with value: 0.9665586034912719 and parameters: {'weights': 'distance', 'n_components': 8, 'n_neighbors': 27}. Best is trial 42 with value: 0.9695511221945138.\n",
      "[I 2024-02-20 04:37:18,801] Trial 69 finished with value: 0.9680536159600998 and parameters: {'weights': 'distance', 'n_components': 7, 'n_neighbors': 11}. Best is trial 42 with value: 0.9695511221945138.\n",
      "[I 2024-02-20 04:37:18,946] Trial 70 finished with value: 0.9615685785536158 and parameters: {'weights': 'distance', 'n_components': 6, 'n_neighbors': 63}. Best is trial 42 with value: 0.9695511221945138.\n",
      "[I 2024-02-20 04:37:19,132] Trial 71 finished with value: 0.9695486284289275 and parameters: {'weights': 'uniform', 'n_components': 4, 'n_neighbors': 16}. Best is trial 42 with value: 0.9695511221945138.\n",
      "[I 2024-02-20 04:37:19,231] Trial 72 finished with value: 0.9705511221945138 and parameters: {'weights': 'distance', 'n_components': 4, 'n_neighbors': 19}. Best is trial 72 with value: 0.9705511221945138.\n",
      "[I 2024-02-20 04:37:19,486] Trial 73 finished with value: 0.9695486284289275 and parameters: {'weights': 'uniform', 'n_components': 4, 'n_neighbors': 16}. Best is trial 72 with value: 0.9705511221945138.\n",
      "[I 2024-02-20 04:37:19,678] Trial 74 finished with value: 0.9690523690773066 and parameters: {'weights': 'uniform', 'n_components': 4, 'n_neighbors': 23}. Best is trial 72 with value: 0.9705511221945138.\n",
      "[I 2024-02-20 04:37:19,814] Trial 75 finished with value: 0.9695486284289278 and parameters: {'weights': 'uniform', 'n_components': 4, 'n_neighbors': 15}. Best is trial 72 with value: 0.9705511221945138.\n",
      "[I 2024-02-20 04:37:19,982] Trial 76 finished with value: 0.9700486284289276 and parameters: {'weights': 'uniform', 'n_components': 4, 'n_neighbors': 16}. Best is trial 72 with value: 0.9705511221945138.\n",
      "[I 2024-02-20 04:37:20,125] Trial 77 finished with value: 0.9695486284289275 and parameters: {'weights': 'uniform', 'n_components': 4, 'n_neighbors': 15}. Best is trial 72 with value: 0.9705511221945138.\n",
      "[I 2024-02-20 04:37:20,277] Trial 78 finished with value: 0.9700486284289276 and parameters: {'weights': 'uniform', 'n_components': 4, 'n_neighbors': 15}. Best is trial 72 with value: 0.9705511221945138.\n",
      "[I 2024-02-20 04:37:20,451] Trial 79 finished with value: 0.9126433915211969 and parameters: {'weights': 'uniform', 'n_components': 3, 'n_neighbors': 16}. Best is trial 72 with value: 0.9705511221945138.\n",
      "[I 2024-02-20 04:37:20,615] Trial 80 finished with value: 0.913143391521197 and parameters: {'weights': 'uniform', 'n_components': 3, 'n_neighbors': 16}. Best is trial 72 with value: 0.9705511221945138.\n",
      "[I 2024-02-20 04:37:20,746] Trial 81 finished with value: 0.9106458852867829 and parameters: {'weights': 'uniform', 'n_components': 42, 'n_neighbors': 52}. Best is trial 72 with value: 0.9705511221945138.\n",
      "[I 2024-02-20 04:37:20,911] Trial 82 finished with value: 0.9675523690773067 and parameters: {'weights': 'uniform', 'n_components': 4, 'n_neighbors': 13}. Best is trial 72 with value: 0.9705511221945138.\n",
      "[I 2024-02-20 04:37:21,089] Trial 83 finished with value: 0.9675523690773067 and parameters: {'weights': 'uniform', 'n_components': 4, 'n_neighbors': 13}. Best is trial 72 with value: 0.9705511221945138.\n",
      "[I 2024-02-20 04:37:21,249] Trial 84 finished with value: 0.9675561097256858 and parameters: {'weights': 'uniform', 'n_components': 8, 'n_neighbors': 11}. Best is trial 72 with value: 0.9705511221945138.\n",
      "[I 2024-02-20 04:37:21,432] Trial 85 finished with value: 0.9670586034912718 and parameters: {'weights': 'uniform', 'n_components': 8, 'n_neighbors': 11}. Best is trial 72 with value: 0.9705511221945138.\n",
      "[I 2024-02-20 04:37:21,616] Trial 86 finished with value: 0.9645598503740649 and parameters: {'weights': 'uniform', 'n_components': 7, 'n_neighbors': 18}. Best is trial 72 with value: 0.9705511221945138.\n",
      "[I 2024-02-20 04:37:21,766] Trial 87 finished with value: 0.9710473815461347 and parameters: {'weights': 'uniform', 'n_components': 7, 'n_neighbors': 15}. Best is trial 87 with value: 0.9710473815461347.\n",
      "[I 2024-02-20 04:37:21,936] Trial 88 finished with value: 0.9695511221945138 and parameters: {'weights': 'uniform', 'n_components': 6, 'n_neighbors': 16}. Best is trial 87 with value: 0.9710473815461347.\n",
      "[I 2024-02-20 04:37:22,059] Trial 89 finished with value: 0.9291184538653366 and parameters: {'weights': 'uniform', 'n_components': 32, 'n_neighbors': 15}. Best is trial 87 with value: 0.9710473815461347.\n",
      "[I 2024-02-20 04:37:22,252] Trial 90 finished with value: 0.9675573566084787 and parameters: {'weights': 'uniform', 'n_components': 6, 'n_neighbors': 20}. Best is trial 87 with value: 0.9710473815461347.\n",
      "[I 2024-02-20 04:37:22,378] Trial 91 finished with value: 0.9670561097256858 and parameters: {'weights': 'uniform', 'n_components': 6, 'n_neighbors': 20}. Best is trial 87 with value: 0.9710473815461347.\n",
      "[I 2024-02-20 04:37:22,527] Trial 92 finished with value: 0.9700486284289276 and parameters: {'weights': 'uniform', 'n_components': 4, 'n_neighbors': 16}. Best is trial 87 with value: 0.9710473815461347.\n",
      "[I 2024-02-20 04:37:22,659] Trial 93 finished with value: 0.9685511221945136 and parameters: {'weights': 'uniform', 'n_components': 4, 'n_neighbors': 17}. Best is trial 87 with value: 0.9710473815461347.\n",
      "[I 2024-02-20 04:37:22,894] Trial 94 finished with value: 0.9615673316708229 and parameters: {'weights': 'uniform', 'n_components': 10, 'n_neighbors': 23}. Best is trial 87 with value: 0.9710473815461347.\n",
      "[I 2024-02-20 04:37:23,033] Trial 95 finished with value: 0.9660610972568578 and parameters: {'weights': 'uniform', 'n_components': 7, 'n_neighbors': 23}. Best is trial 87 with value: 0.9710473815461347.\n",
      "[I 2024-02-20 04:37:23,205] Trial 96 finished with value: 0.9565735660847879 and parameters: {'weights': 'uniform', 'n_components': 7, 'n_neighbors': 75}. Best is trial 87 with value: 0.9710473815461347.\n",
      "[I 2024-02-20 04:37:23,363] Trial 97 finished with value: 0.9640648379052369 and parameters: {'weights': 'uniform', 'n_components': 9, 'n_neighbors': 18}. Best is trial 87 with value: 0.9710473815461347.\n",
      "[I 2024-02-20 04:37:23,537] Trial 98 finished with value: 0.9660623441396508 and parameters: {'weights': 'uniform', 'n_components': 9, 'n_neighbors': 18}. Best is trial 87 with value: 0.9710473815461347.\n",
      "[I 2024-02-20 04:37:23,668] Trial 99 finished with value: 0.913640897755611 and parameters: {'weights': 'uniform', 'n_components': 3, 'n_neighbors': 15}. Best is trial 87 with value: 0.9710473815461347.\n"
     ]
    }
   ],
   "source": [
    "study = optuna.create_study(direction=\"maximize\")\n",
    "study.optimize(objective, n_trials=100, n_jobs=2)"
   ]
  },
  {
   "cell_type": "code",
   "execution_count": 11,
   "metadata": {},
   "outputs": [
    {
     "name": "stdout",
     "output_type": "stream",
     "text": [
      "Accuracy: 0.97\n",
      "Balanced accuracy: 0.962\n"
     ]
    }
   ],
   "source": [
    "model = make_pipeline(\n",
    "    OneHotEncoder(handle_unknown=\"ignore\", sparse_output=False),\n",
    "    PCA(n_components=study.best_params[\"n_components\"]),\n",
    "    KNeighborsClassifier(n_neighbors=study.best_params[\"n_neighbors\"], weights=study.best_params[\"weights\"], n_jobs=4),\n",
    ")\n",
    "\n",
    "model.fit(X_train, y_train)\n",
    "y_test_pred = model.predict(X_test)\n",
    "\n",
    "print(f\"Accuracy: {accuracy_score(y_test, y_test_pred).round(3)}\")\n",
    "print(f\"Balanced accuracy: {balanced_accuracy_score(y_test, y_test_pred).round(3)}\")"
   ]
  },
  {
   "cell_type": "code",
   "execution_count": 12,
   "metadata": {},
   "outputs": [
    {
     "data": {
      "text/plain": [
       "['/home/vscode/.ezancestry/data/models/kidd_superpopulation.pkl']"
      ]
     },
     "execution_count": 12,
     "metadata": {},
     "output_type": "execute_result"
    }
   ],
   "source": [
    "# Save the model\n",
    "model_path = Path(_models_directory) / f\"kidd_{label}.pkl\"\n",
    "model_path.parent.mkdir(parents=True, exist_ok=True)\n",
    "joblib.dump(model, model_path)"
   ]
  },
  {
   "cell_type": "markdown",
   "metadata": {},
   "source": [
    "# Kidd AISNPs to predict population"
   ]
  },
  {
   "cell_type": "code",
   "execution_count": 13,
   "metadata": {},
   "outputs": [],
   "source": [
    "label = \"population\""
   ]
  },
  {
   "cell_type": "code",
   "execution_count": 14,
   "metadata": {},
   "outputs": [],
   "source": [
    "X_train, X_test, y_train, y_test = train_test_split(\n",
    "    kidd1kg.drop(columns=todrop),\n",
    "    kidd1kg[label],\n",
    "    test_size=0.2,\n",
    "    random_state=42,\n",
    ")"
   ]
  },
  {
   "cell_type": "code",
   "execution_count": 15,
   "metadata": {},
   "outputs": [],
   "source": [
    "topk_scorer = make_scorer(top_k_accuracy_score, needs_proba=True, k=2)"
   ]
  },
  {
   "cell_type": "code",
   "execution_count": 16,
   "metadata": {},
   "outputs": [],
   "source": [
    "def objective(trial):\n",
    "    weights = trial.suggest_categorical(\"weights\", [\"uniform\", \"distance\"])\n",
    "    n_components = trial.suggest_int(\"n_components\", 3, 50)\n",
    "    n_neighbors = trial.suggest_int(\"n_neighbors\", 11, 100)\n",
    "\n",
    "    model = make_pipeline(\n",
    "        OneHotEncoder(handle_unknown=\"ignore\", sparse_output=False, dtype=np.int8),\n",
    "        PCA(n_components=n_components),\n",
    "        KNeighborsClassifier(n_neighbors=n_neighbors, weights=weights, n_jobs=4),\n",
    "    )\n",
    "\n",
    "    return cross_val_score(model, X_train, y_train, n_jobs=4, scoring=topk_scorer, cv=StratifiedKFold(5)).mean()"
   ]
  },
  {
   "cell_type": "code",
   "execution_count": 17,
   "metadata": {},
   "outputs": [
    {
     "name": "stderr",
     "output_type": "stream",
     "text": [
      "[I 2024-02-20 04:37:39,644] A new study created in memory with name: no-name-56f1bb87-aeed-4eec-8ab3-2c61f0b0008d\n",
      "[I 2024-02-20 04:37:39,912] Trial 1 finished with value: 0.4982593516209476 and parameters: {'weights': 'distance', 'n_components': 37, 'n_neighbors': 57}. Best is trial 1 with value: 0.4982593516209476.\n",
      "[I 2024-02-20 04:37:40,042] Trial 0 finished with value: 0.5092431421446384 and parameters: {'weights': 'distance', 'n_components': 32, 'n_neighbors': 33}. Best is trial 0 with value: 0.5092431421446384.\n",
      "[I 2024-02-20 04:37:40,185] Trial 2 finished with value: 0.47679551122194513 and parameters: {'weights': 'distance', 'n_components': 43, 'n_neighbors': 30}. Best is trial 0 with value: 0.5092431421446384.\n",
      "[I 2024-02-20 04:37:40,363] Trial 3 finished with value: 0.5147319201995013 and parameters: {'weights': 'distance', 'n_components': 38, 'n_neighbors': 47}. Best is trial 3 with value: 0.5147319201995013.\n",
      "[I 2024-02-20 04:37:40,535] Trial 4 finished with value: 0.5227132169576059 and parameters: {'weights': 'distance', 'n_components': 15, 'n_neighbors': 83}. Best is trial 4 with value: 0.5227132169576059.\n",
      "[I 2024-02-20 04:37:40,672] Trial 5 finished with value: 0.473285536159601 and parameters: {'weights': 'uniform', 'n_components': 48, 'n_neighbors': 49}. Best is trial 4 with value: 0.5227132169576059.\n",
      "[I 2024-02-20 04:37:40,856] Trial 6 finished with value: 0.4817830423940149 and parameters: {'weights': 'uniform', 'n_components': 35, 'n_neighbors': 63}. Best is trial 4 with value: 0.5227132169576059.\n",
      "[I 2024-02-20 04:37:41,008] Trial 7 finished with value: 0.5376758104738155 and parameters: {'weights': 'distance', 'n_components': 12, 'n_neighbors': 46}. Best is trial 7 with value: 0.5376758104738155.\n",
      "[I 2024-02-20 04:37:41,137] Trial 8 finished with value: 0.4992493765586035 and parameters: {'weights': 'distance', 'n_components': 30, 'n_neighbors': 61}. Best is trial 7 with value: 0.5376758104738155.\n",
      "[I 2024-02-20 04:37:41,278] Trial 9 finished with value: 0.49775935162094764 and parameters: {'weights': 'distance', 'n_components': 49, 'n_neighbors': 44}. Best is trial 7 with value: 0.5376758104738155.\n",
      "[I 2024-02-20 04:37:41,432] Trial 10 finished with value: 0.4733042394014963 and parameters: {'weights': 'distance', 'n_components': 41, 'n_neighbors': 18}. Best is trial 7 with value: 0.5376758104738155.\n",
      "[I 2024-02-20 04:37:41,776] Trial 11 finished with value: 0.5107481296758104 and parameters: {'weights': 'uniform', 'n_components': 3, 'n_neighbors': 15}. Best is trial 7 with value: 0.5376758104738155.\n",
      "[I 2024-02-20 04:37:41,975] Trial 12 finished with value: 0.5162344139650873 and parameters: {'weights': 'uniform', 'n_components': 14, 'n_neighbors': 90}. Best is trial 7 with value: 0.5376758104738155.\n",
      "[I 2024-02-20 04:37:42,119] Trial 13 finished with value: 0.5237182044887781 and parameters: {'weights': 'distance', 'n_components': 15, 'n_neighbors': 89}. Best is trial 7 with value: 0.5376758104738155.\n",
      "[I 2024-02-20 04:37:42,247] Trial 14 finished with value: 0.523708229426434 and parameters: {'weights': 'distance', 'n_components': 18, 'n_neighbors': 81}. Best is trial 7 with value: 0.5376758104738155.\n",
      "[I 2024-02-20 04:37:42,539] Trial 15 finished with value: 0.5182032418952619 and parameters: {'weights': 'distance', 'n_components': 21, 'n_neighbors': 77}. Best is trial 7 with value: 0.5376758104738155.\n",
      "[I 2024-02-20 04:37:42,869] Trial 16 finished with value: 0.5391807980049874 and parameters: {'weights': 'distance', 'n_components': 6, 'n_neighbors': 98}. Best is trial 16 with value: 0.5391807980049874.\n",
      "[I 2024-02-20 04:37:43,125] Trial 17 finished with value: 0.5461720698254364 and parameters: {'weights': 'distance', 'n_components': 7, 'n_neighbors': 97}. Best is trial 17 with value: 0.5461720698254364.\n",
      "[I 2024-02-20 04:37:43,262] Trial 18 finished with value: 0.5676608478802992 and parameters: {'weights': 'distance', 'n_components': 4, 'n_neighbors': 70}. Best is trial 18 with value: 0.5676608478802992.\n",
      "[I 2024-02-20 04:37:43,460] Trial 19 finished with value: 0.5127406483790524 and parameters: {'weights': 'uniform', 'n_components': 3, 'n_neighbors': 100}. Best is trial 18 with value: 0.5676608478802992.\n",
      "[I 2024-02-20 04:37:43,589] Trial 20 finished with value: 0.5257019950124688 and parameters: {'weights': 'uniform', 'n_components': 8, 'n_neighbors': 71}. Best is trial 18 with value: 0.5676608478802992.\n",
      "[I 2024-02-20 04:37:43,753] Trial 21 finished with value: 0.5366895261845387 and parameters: {'weights': 'distance', 'n_components': 8, 'n_neighbors': 68}. Best is trial 18 with value: 0.5676608478802992.\n",
      "[I 2024-02-20 04:37:43,897] Trial 22 finished with value: 0.5337231920199501 and parameters: {'weights': 'distance', 'n_components': 8, 'n_neighbors': 98}. Best is trial 18 with value: 0.5676608478802992.\n",
      "[I 2024-02-20 04:37:44,117] Trial 23 finished with value: 0.5017531172069825 and parameters: {'weights': 'distance', 'n_components': 23, 'n_neighbors': 100}. Best is trial 18 with value: 0.5676608478802992.\n",
      "[I 2024-02-20 04:37:44,247] Trial 24 finished with value: 0.5102294264339153 and parameters: {'weights': 'distance', 'n_components': 23, 'n_neighbors': 92}. Best is trial 18 with value: 0.5676608478802992.\n",
      "[I 2024-02-20 04:37:44,378] Trial 25 finished with value: 0.5496770573566085 and parameters: {'weights': 'distance', 'n_components': 6, 'n_neighbors': 91}. Best is trial 18 with value: 0.5676608478802992.\n",
      "[I 2024-02-20 04:37:44,609] Trial 26 finished with value: 0.5511596009975063 and parameters: {'weights': 'distance', 'n_components': 6, 'n_neighbors': 75}. Best is trial 18 with value: 0.5676608478802992.\n",
      "[I 2024-02-20 04:37:44,835] Trial 27 finished with value: 0.5396882793017456 and parameters: {'weights': 'distance', 'n_components': 11, 'n_neighbors': 75}. Best is trial 18 with value: 0.5676608478802992.\n",
      "[I 2024-02-20 04:37:44,981] Trial 28 finished with value: 0.526715710723192 and parameters: {'weights': 'distance', 'n_components': 12, 'n_neighbors': 75}. Best is trial 18 with value: 0.5676608478802992.\n",
      "[I 2024-02-20 04:37:45,122] Trial 29 finished with value: 0.5232394014962594 and parameters: {'weights': 'distance', 'n_components': 3, 'n_neighbors': 83}. Best is trial 18 with value: 0.5676608478802992.\n",
      "[I 2024-02-20 04:37:45,275] Trial 30 finished with value: 0.4987568578553616 and parameters: {'weights': 'distance', 'n_components': 28, 'n_neighbors': 84}. Best is trial 18 with value: 0.5676608478802992.\n",
      "[I 2024-02-20 04:37:45,413] Trial 31 finished with value: 0.5037406483790524 and parameters: {'weights': 'distance', 'n_components': 27, 'n_neighbors': 69}. Best is trial 18 with value: 0.5676608478802992.\n",
      "[I 2024-02-20 04:37:45,545] Trial 32 finished with value: 0.5306970074812967 and parameters: {'weights': 'distance', 'n_components': 6, 'n_neighbors': 69}. Best is trial 18 with value: 0.5676608478802992.\n",
      "[I 2024-02-20 04:37:45,724] Trial 33 finished with value: 0.5541670822942644 and parameters: {'weights': 'distance', 'n_components': 5, 'n_neighbors': 93}. Best is trial 18 with value: 0.5676608478802992.\n",
      "[I 2024-02-20 04:37:45,887] Trial 34 finished with value: 0.5372094763092269 and parameters: {'weights': 'distance', 'n_components': 10, 'n_neighbors': 93}. Best is trial 18 with value: 0.5676608478802992.\n",
      "[I 2024-02-20 04:37:46,035] Trial 35 finished with value: 0.5347057356608479 and parameters: {'weights': 'distance', 'n_components': 10, 'n_neighbors': 88}. Best is trial 18 with value: 0.5676608478802992.\n",
      "[I 2024-02-20 04:37:46,187] Trial 36 finished with value: 0.5476633416458853 and parameters: {'weights': 'distance', 'n_components': 5, 'n_neighbors': 55}. Best is trial 18 with value: 0.5676608478802992.\n",
      "[I 2024-02-20 04:37:46,320] Trial 37 finished with value: 0.5701608478802992 and parameters: {'weights': 'distance', 'n_components': 4, 'n_neighbors': 58}. Best is trial 37 with value: 0.5701608478802992.\n",
      "[I 2024-02-20 04:37:46,461] Trial 38 finished with value: 0.5287107231920201 and parameters: {'weights': 'distance', 'n_components': 17, 'n_neighbors': 79}. Best is trial 37 with value: 0.5701608478802992.\n",
      "[I 2024-02-20 04:37:46,624] Trial 39 finished with value: 0.525224438902743 and parameters: {'weights': 'uniform', 'n_components': 14, 'n_neighbors': 37}. Best is trial 37 with value: 0.5701608478802992.\n",
      "[I 2024-02-20 04:37:46,743] Trial 40 finished with value: 0.5097568578553616 and parameters: {'weights': 'uniform', 'n_components': 3, 'n_neighbors': 38}. Best is trial 37 with value: 0.5701608478802992.\n",
      "[I 2024-02-20 04:37:46,877] Trial 41 finished with value: 0.5057506234413965 and parameters: {'weights': 'distance', 'n_components': 18, 'n_neighbors': 53}. Best is trial 37 with value: 0.5701608478802992.\n",
      "[I 2024-02-20 04:37:47,117] Trial 42 finished with value: 0.5501733167082294 and parameters: {'weights': 'distance', 'n_components': 6, 'n_neighbors': 60}. Best is trial 37 with value: 0.5701608478802992.\n",
      "[I 2024-02-20 04:37:47,223] Trial 43 finished with value: 0.5356845386533665 and parameters: {'weights': 'distance', 'n_components': 9, 'n_neighbors': 62}. Best is trial 37 with value: 0.5701608478802992.\n",
      "[I 2024-02-20 04:37:47,399] Trial 44 finished with value: 0.5461708229426434 and parameters: {'weights': 'distance', 'n_components': 9, 'n_neighbors': 59}. Best is trial 37 with value: 0.5701608478802992.\n",
      "[I 2024-02-20 04:37:47,563] Trial 45 finished with value: 0.5501608478802992 and parameters: {'weights': 'distance', 'n_components': 5, 'n_neighbors': 64}. Best is trial 37 with value: 0.5701608478802992.\n",
      "[I 2024-02-20 04:37:47,715] Trial 46 finished with value: 0.5501683291770574 and parameters: {'weights': 'distance', 'n_components': 5, 'n_neighbors': 54}. Best is trial 37 with value: 0.5701608478802992.\n",
      "[I 2024-02-20 04:37:47,869] Trial 47 finished with value: 0.5172094763092269 and parameters: {'weights': 'distance', 'n_components': 13, 'n_neighbors': 53}. Best is trial 37 with value: 0.5701608478802992.\n",
      "[I 2024-02-20 04:37:47,996] Trial 48 finished with value: 0.5057406483790523 and parameters: {'weights': 'distance', 'n_components': 33, 'n_neighbors': 51}. Best is trial 37 with value: 0.5701608478802992.\n",
      "[I 2024-02-20 04:37:48,164] Trial 49 finished with value: 0.49626558603491266 and parameters: {'weights': 'distance', 'n_components': 38, 'n_neighbors': 49}. Best is trial 37 with value: 0.5701608478802992.\n",
      "[I 2024-02-20 04:37:48,308] Trial 50 finished with value: 0.49525311720698256 and parameters: {'weights': 'distance', 'n_components': 42, 'n_neighbors': 45}. Best is trial 37 with value: 0.5701608478802992.\n",
      "[I 2024-02-20 04:37:48,445] Trial 51 finished with value: 0.514224438902743 and parameters: {'weights': 'uniform', 'n_components': 16, 'n_neighbors': 43}. Best is trial 37 with value: 0.5701608478802992.\n",
      "[I 2024-02-20 04:37:48,601] Trial 52 finished with value: 0.5446745635910225 and parameters: {'weights': 'distance', 'n_components': 5, 'n_neighbors': 66}. Best is trial 37 with value: 0.5701608478802992.\n",
      "[I 2024-02-20 04:37:48,748] Trial 53 finished with value: 0.5486546134663343 and parameters: {'weights': 'distance', 'n_components': 5, 'n_neighbors': 65}. Best is trial 37 with value: 0.5701608478802992.\n",
      "[I 2024-02-20 04:37:48,894] Trial 54 finished with value: 0.5671658354114714 and parameters: {'weights': 'distance', 'n_components': 4, 'n_neighbors': 59}. Best is trial 37 with value: 0.5701608478802992.\n",
      "[I 2024-02-20 04:37:49,036] Trial 55 finished with value: 0.5212381546134663 and parameters: {'weights': 'distance', 'n_components': 3, 'n_neighbors': 58}. Best is trial 37 with value: 0.5701608478802992.\n",
      "[I 2024-02-20 04:37:49,306] Trial 56 finished with value: 0.5007693266832918 and parameters: {'weights': 'distance', 'n_components': 46, 'n_neighbors': 57}. Best is trial 37 with value: 0.5701608478802992.\n",
      "[I 2024-02-20 04:37:49,494] Trial 57 finished with value: 0.5426895261845386 and parameters: {'weights': 'distance', 'n_components': 7, 'n_neighbors': 72}. Best is trial 37 with value: 0.5701608478802992.\n",
      "[I 2024-02-20 04:37:49,648] Trial 58 finished with value: 0.5506633416458853 and parameters: {'weights': 'distance', 'n_components': 7, 'n_neighbors': 73}. Best is trial 37 with value: 0.5701608478802992.\n",
      "[I 2024-02-20 04:37:49,808] Trial 59 finished with value: 0.5247082294264339 and parameters: {'weights': 'distance', 'n_components': 11, 'n_neighbors': 61}. Best is trial 37 with value: 0.5701608478802992.\n",
      "[I 2024-02-20 04:37:49,970] Trial 60 finished with value: 0.5302019950124689 and parameters: {'weights': 'uniform', 'n_components': 11, 'n_neighbors': 73}. Best is trial 37 with value: 0.5701608478802992.\n",
      "[I 2024-02-20 04:37:50,099] Trial 61 finished with value: 0.5372044887780548 and parameters: {'weights': 'uniform', 'n_components': 8, 'n_neighbors': 73}. Best is trial 37 with value: 0.5701608478802992.\n",
      "[I 2024-02-20 04:37:50,271] Trial 62 finished with value: 0.5481758104738155 and parameters: {'weights': 'distance', 'n_components': 7, 'n_neighbors': 86}. Best is trial 37 with value: 0.5701608478802992.\n",
      "[I 2024-02-20 04:37:50,375] Trial 63 finished with value: 0.5681633416458853 and parameters: {'weights': 'distance', 'n_components': 4, 'n_neighbors': 79}. Best is trial 37 with value: 0.5701608478802992.\n",
      "[I 2024-02-20 04:37:50,551] Trial 64 finished with value: 0.5691633416458852 and parameters: {'weights': 'distance', 'n_components': 4, 'n_neighbors': 79}. Best is trial 37 with value: 0.5701608478802992.\n",
      "[I 2024-02-20 04:37:50,680] Trial 65 finished with value: 0.5711546134663342 and parameters: {'weights': 'distance', 'n_components': 4, 'n_neighbors': 80}. Best is trial 65 with value: 0.5711546134663342.\n",
      "[I 2024-02-20 04:37:50,862] Trial 66 finished with value: 0.5691608478802992 and parameters: {'weights': 'distance', 'n_components': 4, 'n_neighbors': 78}. Best is trial 65 with value: 0.5711546134663342.\n",
      "[I 2024-02-20 04:37:50,999] Trial 67 finished with value: 0.5332256857855361 and parameters: {'weights': 'distance', 'n_components': 3, 'n_neighbors': 80}. Best is trial 65 with value: 0.5711546134663342.\n",
      "[I 2024-02-20 04:37:51,115] Trial 68 finished with value: 0.5317294264339152 and parameters: {'weights': 'distance', 'n_components': 3, 'n_neighbors': 79}. Best is trial 65 with value: 0.5711546134663342.\n",
      "[I 2024-02-20 04:37:51,269] Trial 69 finished with value: 0.5696496259351621 and parameters: {'weights': 'distance', 'n_components': 4, 'n_neighbors': 82}. Best is trial 65 with value: 0.5711546134663342.\n",
      "[I 2024-02-20 04:37:51,412] Trial 70 finished with value: 0.5711533665835412 and parameters: {'weights': 'distance', 'n_components': 4, 'n_neighbors': 82}. Best is trial 65 with value: 0.5711546134663342.\n",
      "[I 2024-02-20 04:37:51,625] Trial 71 finished with value: 0.5067369077306733 and parameters: {'weights': 'distance', 'n_components': 9, 'n_neighbors': 23}. Best is trial 65 with value: 0.5711546134663342.\n",
      "[I 2024-02-20 04:37:51,759] Trial 72 finished with value: 0.5371982543640897 and parameters: {'weights': 'distance', 'n_components': 9, 'n_neighbors': 85}. Best is trial 65 with value: 0.5711546134663342.\n",
      "[I 2024-02-20 04:37:51,894] Trial 73 finished with value: 0.5746483790523691 and parameters: {'weights': 'distance', 'n_components': 4, 'n_neighbors': 83}. Best is trial 73 with value: 0.5746483790523691.\n",
      "[I 2024-02-20 04:37:52,072] Trial 74 finished with value: 0.5371982543640897 and parameters: {'weights': 'distance', 'n_components': 7, 'n_neighbors': 77}. Best is trial 73 with value: 0.5746483790523691.\n",
      "[I 2024-02-20 04:37:52,187] Trial 75 finished with value: 0.5676558603491271 and parameters: {'weights': 'distance', 'n_components': 4, 'n_neighbors': 82}. Best is trial 73 with value: 0.5746483790523691.\n",
      "[I 2024-02-20 04:37:52,327] Trial 76 finished with value: 0.5696558603491273 and parameters: {'weights': 'distance', 'n_components': 4, 'n_neighbors': 82}. Best is trial 73 with value: 0.5746483790523691.\n",
      "[I 2024-02-20 04:37:52,485] Trial 77 finished with value: 0.5736533665835412 and parameters: {'weights': 'distance', 'n_components': 4, 'n_neighbors': 88}. Best is trial 73 with value: 0.5746483790523691.\n",
      "[I 2024-02-20 04:37:52,641] Trial 78 finished with value: 0.5391708229426434 and parameters: {'weights': 'distance', 'n_components': 6, 'n_neighbors': 88}. Best is trial 73 with value: 0.5746483790523691.\n",
      "[I 2024-02-20 04:37:52,795] Trial 79 finished with value: 0.5007493765586035 and parameters: {'weights': 'distance', 'n_components': 21, 'n_neighbors': 95}. Best is trial 73 with value: 0.5746483790523691.\n",
      "[I 2024-02-20 04:37:52,921] Trial 80 finished with value: 0.5361995012468828 and parameters: {'weights': 'distance', 'n_components': 8, 'n_neighbors': 95}. Best is trial 73 with value: 0.5746483790523691.\n",
      "[I 2024-02-20 04:37:53,100] Trial 81 finished with value: 0.5326957605985038 and parameters: {'weights': 'distance', 'n_components': 8, 'n_neighbors': 90}. Best is trial 73 with value: 0.5746483790523691.\n",
      "[I 2024-02-20 04:37:53,207] Trial 82 finished with value: 0.5691558603491271 and parameters: {'weights': 'distance', 'n_components': 4, 'n_neighbors': 86}. Best is trial 73 with value: 0.5746483790523691.\n",
      "[I 2024-02-20 04:37:53,386] Trial 83 finished with value: 0.5711521197007481 and parameters: {'weights': 'distance', 'n_components': 4, 'n_neighbors': 85}. Best is trial 73 with value: 0.5746483790523691.\n",
      "[I 2024-02-20 04:37:53,514] Trial 84 finished with value: 0.5312219451371571 and parameters: {'weights': 'distance', 'n_components': 3, 'n_neighbors': 82}. Best is trial 73 with value: 0.5746483790523691.\n",
      "[I 2024-02-20 04:37:53,669] Trial 85 finished with value: 0.5441770573566085 and parameters: {'weights': 'distance', 'n_components': 5, 'n_neighbors': 82}. Best is trial 73 with value: 0.5746483790523691.\n",
      "[I 2024-02-20 04:37:53,867] Trial 86 finished with value: 0.5431783042394015 and parameters: {'weights': 'distance', 'n_components': 6, 'n_neighbors': 84}. Best is trial 73 with value: 0.5746483790523691.\n",
      "[I 2024-02-20 04:37:53,992] Trial 87 finished with value: 0.5456857855361597 and parameters: {'weights': 'distance', 'n_components': 6, 'n_neighbors': 86}. Best is trial 73 with value: 0.5746483790523691.\n",
      "[I 2024-02-20 04:37:54,139] Trial 88 finished with value: 0.5446807980049876 and parameters: {'weights': 'distance', 'n_components': 7, 'n_neighbors': 88}. Best is trial 73 with value: 0.5746483790523691.\n",
      "[I 2024-02-20 04:37:54,367] Trial 89 finished with value: 0.5491645885286782 and parameters: {'weights': 'distance', 'n_components': 7, 'n_neighbors': 88}. Best is trial 73 with value: 0.5746483790523691.\n",
      "[I 2024-02-20 04:37:54,511] Trial 90 finished with value: 0.5376945137157106 and parameters: {'weights': 'distance', 'n_components': 10, 'n_neighbors': 91}. Best is trial 73 with value: 0.5746483790523691.\n",
      "[I 2024-02-20 04:37:54,640] Trial 91 finished with value: 0.5301957605985038 and parameters: {'weights': 'uniform', 'n_components': 10, 'n_neighbors': 76}. Best is trial 73 with value: 0.5746483790523691.\n",
      "[I 2024-02-20 04:37:54,839] Trial 92 finished with value: 0.5716533665835412 and parameters: {'weights': 'distance', 'n_components': 4, 'n_neighbors': 76}. Best is trial 73 with value: 0.5746483790523691.\n",
      "[I 2024-02-20 04:37:54,953] Trial 93 finished with value: 0.5716558603491272 and parameters: {'weights': 'distance', 'n_components': 4, 'n_neighbors': 80}. Best is trial 73 with value: 0.5746483790523691.\n",
      "[I 2024-02-20 04:37:55,117] Trial 94 finished with value: 0.5282306733167083 and parameters: {'weights': 'distance', 'n_components': 3, 'n_neighbors': 81}. Best is trial 73 with value: 0.5746483790523691.\n",
      "[I 2024-02-20 04:37:55,245] Trial 95 finished with value: 0.5292281795511222 and parameters: {'weights': 'distance', 'n_components': 3, 'n_neighbors': 81}. Best is trial 73 with value: 0.5746483790523691.\n",
      "[I 2024-02-20 04:37:55,405] Trial 96 finished with value: 0.5491695760598503 and parameters: {'weights': 'distance', 'n_components': 5, 'n_neighbors': 84}. Best is trial 73 with value: 0.5746483790523691.\n",
      "[I 2024-02-20 04:37:55,531] Trial 97 finished with value: 0.5486695760598503 and parameters: {'weights': 'distance', 'n_components': 5, 'n_neighbors': 75}. Best is trial 73 with value: 0.5746483790523691.\n",
      "[I 2024-02-20 04:37:55,655] Trial 98 finished with value: 0.5441670822942644 and parameters: {'weights': 'distance', 'n_components': 5, 'n_neighbors': 75}. Best is trial 73 with value: 0.5746483790523691.\n",
      "[I 2024-02-20 04:37:55,806] Trial 99 finished with value: 0.524220698254364 and parameters: {'weights': 'distance', 'n_components': 12, 'n_neighbors': 68}. Best is trial 73 with value: 0.5746483790523691.\n"
     ]
    }
   ],
   "source": [
    "study = optuna.create_study(direction=\"maximize\")\n",
    "study.optimize(objective, n_trials=100, n_jobs=2)"
   ]
  },
  {
   "cell_type": "code",
   "execution_count": 18,
   "metadata": {},
   "outputs": [
    {
     "name": "stdout",
     "output_type": "stream",
     "text": [
      "Accuracy: 0.337\n",
      "Balanced accuracy: 0.344\n",
      "Top-2 accuracy: 0.557\n",
      "Top-3 accuracy: 0.731\n"
     ]
    }
   ],
   "source": [
    "model = make_pipeline(\n",
    "    OneHotEncoder(handle_unknown=\"ignore\", sparse_output=False, dtype=np.int8),\n",
    "    PCA(n_components=study.best_params[\"n_components\"]),\n",
    "    KNeighborsClassifier(n_neighbors=study.best_params[\"n_neighbors\"], weights=study.best_params[\"weights\"], n_jobs=4),\n",
    ")\n",
    "\n",
    "model.fit(X_train, y_train)\n",
    "y_test_pred = model.predict(X_test)\n",
    "\n",
    "print(f\"Accuracy: {accuracy_score(y_test, y_test_pred).round(3)}\")\n",
    "print(f\"Balanced accuracy: {balanced_accuracy_score(y_test, y_test_pred).round(3)}\")\n",
    "print(f\"Top-2 accuracy: {top_k_accuracy_score(y_test, model.predict_proba(X_test), k=2).round(3)}\")\n",
    "print(f\"Top-3 accuracy: {top_k_accuracy_score(y_test, model.predict_proba(X_test), k=3).round(3)}\")"
   ]
  },
  {
   "cell_type": "code",
   "execution_count": 19,
   "metadata": {},
   "outputs": [
    {
     "data": {
      "text/plain": [
       "['/home/vscode/.ezancestry/data/models/kidd_population.pkl']"
      ]
     },
     "execution_count": 19,
     "metadata": {},
     "output_type": "execute_result"
    }
   ],
   "source": [
    "# Save the model\n",
    "model_path = Path(_models_directory) / f\"kidd_{label}.pkl\"\n",
    "model_path.parent.mkdir(parents=True, exist_ok=True)\n",
    "joblib.dump(model, model_path)"
   ]
  },
  {
   "cell_type": "markdown",
   "metadata": {},
   "source": [
    "# Seldin AISNPs to predict superpopulation"
   ]
  },
  {
   "cell_type": "code",
   "execution_count": 20,
   "metadata": {},
   "outputs": [],
   "source": [
    "todrop = [\"superpopulation\", \"population\", \"gender\"]\n",
    "label = \"superpopulation\""
   ]
  },
  {
   "cell_type": "code",
   "execution_count": 21,
   "metadata": {},
   "outputs": [],
   "source": [
    "X_train, X_test, y_train, y_test = train_test_split(\n",
    "    seldin1kg.drop(columns=todrop),\n",
    "    seldin1kg[label],\n",
    "    test_size=0.2,\n",
    "    random_state=42,\n",
    ")"
   ]
  },
  {
   "cell_type": "code",
   "execution_count": 22,
   "metadata": {},
   "outputs": [],
   "source": [
    "def objective(trial):\n",
    "    weights = trial.suggest_categorical(\"weights\", [\"uniform\", \"distance\"])\n",
    "    n_components = trial.suggest_int(\"n_components\", 3, 50)\n",
    "    n_neighbors = trial.suggest_int(\"n_neighbors\", 11, 100)\n",
    "    \n",
    "    model = make_pipeline(\n",
    "        OneHotEncoder(handle_unknown=\"ignore\", sparse_output=False, dtype=np.int8),\n",
    "        PCA(n_components=n_components),\n",
    "        KNeighborsClassifier(n_neighbors=n_neighbors, weights=weights, n_jobs=4),\n",
    "    )\n",
    "\n",
    "    return cross_val_score(model, X_train, y_train, n_jobs=4, scoring=\"accuracy\", cv=StratifiedKFold(5)).mean()"
   ]
  },
  {
   "cell_type": "code",
   "execution_count": 23,
   "metadata": {},
   "outputs": [
    {
     "name": "stderr",
     "output_type": "stream",
     "text": [
      "[I 2024-02-20 04:38:10,843] A new study created in memory with name: no-name-475bf2a9-0057-45bf-aae8-b7e00f207d3a\n",
      "[I 2024-02-20 04:38:11,165] Trial 0 finished with value: 0.9306172069825436 and parameters: {'weights': 'uniform', 'n_components': 23, 'n_neighbors': 74}. Best is trial 0 with value: 0.9306172069825436.\n",
      "[I 2024-02-20 04:38:11,326] Trial 1 finished with value: 0.9281197007481297 and parameters: {'weights': 'uniform', 'n_components': 26, 'n_neighbors': 75}. Best is trial 0 with value: 0.9306172069825436.\n",
      "[I 2024-02-20 04:38:11,475] Trial 2 finished with value: 0.9645598503740649 and parameters: {'weights': 'uniform', 'n_components': 8, 'n_neighbors': 21}. Best is trial 2 with value: 0.9645598503740649.\n",
      "[I 2024-02-20 04:38:11,612] Trial 3 finished with value: 0.9535798004987532 and parameters: {'weights': 'distance', 'n_components': 11, 'n_neighbors': 54}. Best is trial 2 with value: 0.9645598503740649.\n",
      "[I 2024-02-20 04:38:11,774] Trial 4 finished with value: 0.9226296758104737 and parameters: {'weights': 'distance', 'n_components': 27, 'n_neighbors': 100}. Best is trial 2 with value: 0.9645598503740649.\n",
      "[I 2024-02-20 04:38:11,907] Trial 5 finished with value: 0.9336109725685786 and parameters: {'weights': 'uniform', 'n_components': 19, 'n_neighbors': 85}. Best is trial 2 with value: 0.9645598503740649.\n",
      "[I 2024-02-20 04:38:12,056] Trial 6 finished with value: 0.9366034912718204 and parameters: {'weights': 'distance', 'n_components': 17, 'n_neighbors': 93}. Best is trial 2 with value: 0.9645598503740649.\n",
      "[I 2024-02-20 04:38:12,195] Trial 7 finished with value: 0.9361072319201995 and parameters: {'weights': 'uniform', 'n_components': 19, 'n_neighbors': 81}. Best is trial 2 with value: 0.9645598503740649.\n",
      "[I 2024-02-20 04:38:12,420] Trial 8 finished with value: 0.9470897755610972 and parameters: {'weights': 'distance', 'n_components': 11, 'n_neighbors': 93}. Best is trial 2 with value: 0.9645598503740649.\n",
      "[I 2024-02-20 04:38:12,569] Trial 9 finished with value: 0.9565760598503742 and parameters: {'weights': 'uniform', 'n_components': 9, 'n_neighbors': 63}. Best is trial 2 with value: 0.9645598503740649.\n",
      "[I 2024-02-20 04:38:12,746] Trial 10 finished with value: 0.9615673316708231 and parameters: {'weights': 'uniform', 'n_components': 9, 'n_neighbors': 26}. Best is trial 2 with value: 0.9645598503740649.\n",
      "[I 2024-02-20 04:38:12,852] Trial 11 finished with value: 0.919135910224439 and parameters: {'weights': 'uniform', 'n_components': 46, 'n_neighbors': 14}. Best is trial 2 with value: 0.9645598503740649.\n",
      "[I 2024-02-20 04:38:13,036] Trial 12 finished with value: 0.9236271820448877 and parameters: {'weights': 'uniform', 'n_components': 39, 'n_neighbors': 20}. Best is trial 2 with value: 0.9645598503740649.\n",
      "[I 2024-02-20 04:38:13,204] Trial 13 finished with value: 0.9176359102244389 and parameters: {'weights': 'uniform', 'n_components': 3, 'n_neighbors': 20}. Best is trial 2 with value: 0.9645598503740649.\n",
      "[I 2024-02-20 04:38:13,355] Trial 14 finished with value: 0.9206321695760599 and parameters: {'weights': 'uniform', 'n_components': 3, 'n_neighbors': 34}. Best is trial 2 with value: 0.9645598503740649.\n",
      "[I 2024-02-20 04:38:13,525] Trial 15 finished with value: 0.9675548628428927 and parameters: {'weights': 'uniform', 'n_components': 4, 'n_neighbors': 37}. Best is trial 15 with value: 0.9675548628428927.\n",
      "[I 2024-02-20 04:38:13,643] Trial 16 finished with value: 0.9301234413965087 and parameters: {'weights': 'uniform', 'n_components': 30, 'n_neighbors': 40}. Best is trial 15 with value: 0.9675548628428927.\n",
      "[I 2024-02-20 04:38:13,785] Trial 17 finished with value: 0.9276234413965087 and parameters: {'weights': 'uniform', 'n_components': 31, 'n_neighbors': 40}. Best is trial 15 with value: 0.9675548628428927.\n",
      "[I 2024-02-20 04:38:13,948] Trial 18 finished with value: 0.9156384039900249 and parameters: {'weights': 'uniform', 'n_components': 3, 'n_neighbors': 46}. Best is trial 15 with value: 0.9675548628428927.\n",
      "[I 2024-02-20 04:38:14,116] Trial 19 finished with value: 0.9480885286783043 and parameters: {'weights': 'distance', 'n_components': 15, 'n_neighbors': 52}. Best is trial 15 with value: 0.9675548628428927.\n",
      "[I 2024-02-20 04:38:14,248] Trial 20 finished with value: 0.957072319201995 and parameters: {'weights': 'distance', 'n_components': 14, 'n_neighbors': 28}. Best is trial 15 with value: 0.9675548628428927.\n",
      "[I 2024-02-20 04:38:14,418] Trial 21 finished with value: 0.908149625935162 and parameters: {'weights': 'uniform', 'n_components': 50, 'n_neighbors': 30}. Best is trial 15 with value: 0.9675548628428927.\n",
      "[I 2024-02-20 04:38:14,671] Trial 22 finished with value: 0.9650635910224439 and parameters: {'weights': 'uniform', 'n_components': 7, 'n_neighbors': 28}. Best is trial 15 with value: 0.9675548628428927.\n",
      "[I 2024-02-20 04:38:14,853] Trial 23 finished with value: 0.9675548628428927 and parameters: {'weights': 'uniform', 'n_components': 8, 'n_neighbors': 22}. Best is trial 15 with value: 0.9675548628428927.\n",
      "[I 2024-02-20 04:38:15,052] Trial 24 finished with value: 0.9660573566084789 and parameters: {'weights': 'uniform', 'n_components': 6, 'n_neighbors': 13}. Best is trial 15 with value: 0.9675548628428927.\n",
      "[I 2024-02-20 04:38:15,279] Trial 25 finished with value: 0.9680561097256859 and parameters: {'weights': 'uniform', 'n_components': 6, 'n_neighbors': 12}. Best is trial 25 with value: 0.9680561097256859.\n",
      "[I 2024-02-20 04:38:15,498] Trial 26 finished with value: 0.967557356608479 and parameters: {'weights': 'uniform', 'n_components': 5, 'n_neighbors': 11}. Best is trial 25 with value: 0.9680561097256859.\n",
      "[I 2024-02-20 04:38:15,701] Trial 27 finished with value: 0.9590698254364088 and parameters: {'weights': 'uniform', 'n_components': 15, 'n_neighbors': 12}. Best is trial 25 with value: 0.9680561097256859.\n",
      "[I 2024-02-20 04:38:15,845] Trial 28 finished with value: 0.9595698254364089 and parameters: {'weights': 'uniform', 'n_components': 13, 'n_neighbors': 11}. Best is trial 25 with value: 0.9680561097256859.\n",
      "[I 2024-02-20 04:38:16,015] Trial 29 finished with value: 0.950084788029925 and parameters: {'weights': 'uniform', 'n_components': 12, 'n_neighbors': 62}. Best is trial 25 with value: 0.9680561097256859.\n",
      "[I 2024-02-20 04:38:16,191] Trial 30 finished with value: 0.9326122194513715 and parameters: {'weights': 'uniform', 'n_components': 22, 'n_neighbors': 67}. Best is trial 25 with value: 0.9680561097256859.\n",
      "[I 2024-02-20 04:38:16,284] Trial 31 finished with value: 0.9381022443890273 and parameters: {'weights': 'uniform', 'n_components': 22, 'n_neighbors': 36}. Best is trial 25 with value: 0.9680561097256859.\n",
      "[I 2024-02-20 04:38:16,540] Trial 32 finished with value: 0.967058603491272 and parameters: {'weights': 'uniform', 'n_components': 6, 'n_neighbors': 22}. Best is trial 25 with value: 0.9680561097256859.\n",
      "[I 2024-02-20 04:38:16,667] Trial 33 finished with value: 0.9685536159600998 and parameters: {'weights': 'uniform', 'n_components': 6, 'n_neighbors': 20}. Best is trial 33 with value: 0.9685536159600998.\n",
      "[I 2024-02-20 04:38:16,872] Trial 34 finished with value: 0.9665561097256857 and parameters: {'weights': 'uniform', 'n_components': 5, 'n_neighbors': 18}. Best is trial 33 with value: 0.9685536159600998.\n",
      "[I 2024-02-20 04:38:17,044] Trial 35 finished with value: 0.9695536159600998 and parameters: {'weights': 'uniform', 'n_components': 5, 'n_neighbors': 17}. Best is trial 35 with value: 0.9695536159600998.\n",
      "[I 2024-02-20 04:38:17,248] Trial 36 finished with value: 0.9635673316708229 and parameters: {'weights': 'uniform', 'n_components': 10, 'n_neighbors': 17}. Best is trial 35 with value: 0.9695536159600998.\n",
      "[I 2024-02-20 04:38:17,466] Trial 37 finished with value: 0.9640623441396509 and parameters: {'weights': 'distance', 'n_components': 10, 'n_neighbors': 16}. Best is trial 35 with value: 0.9695536159600998.\n",
      "[I 2024-02-20 04:38:17,691] Trial 38 finished with value: 0.9680548628428929 and parameters: {'weights': 'distance', 'n_components': 7, 'n_neighbors': 25}. Best is trial 35 with value: 0.9695536159600998.\n",
      "[I 2024-02-20 04:38:17,802] Trial 39 finished with value: 0.9490872817955112 and parameters: {'weights': 'uniform', 'n_components': 19, 'n_neighbors': 25}. Best is trial 35 with value: 0.9695536159600998.\n",
      "[I 2024-02-20 04:38:17,949] Trial 40 finished with value: 0.9510822942643392 and parameters: {'weights': 'distance', 'n_components': 18, 'n_neighbors': 24}. Best is trial 35 with value: 0.9695536159600998.\n",
      "[I 2024-02-20 04:38:18,092] Trial 41 finished with value: 0.9490885286783042 and parameters: {'weights': 'distance', 'n_components': 16, 'n_neighbors': 47}. Best is trial 35 with value: 0.9695536159600998.\n",
      "[I 2024-02-20 04:38:18,270] Trial 42 finished with value: 0.9645635910224438 and parameters: {'weights': 'distance', 'n_components': 7, 'n_neighbors': 32}. Best is trial 35 with value: 0.9695536159600998.\n",
      "[I 2024-02-20 04:38:18,445] Trial 43 finished with value: 0.964063591022444 and parameters: {'weights': 'distance', 'n_components': 7, 'n_neighbors': 31}. Best is trial 35 with value: 0.9695536159600998.\n",
      "[I 2024-02-20 04:38:18,588] Trial 44 finished with value: 0.9665573566084789 and parameters: {'weights': 'distance', 'n_components': 5, 'n_neighbors': 17}. Best is trial 35 with value: 0.9695536159600998.\n",
      "[I 2024-02-20 04:38:18,750] Trial 45 finished with value: 0.963567331670823 and parameters: {'weights': 'distance', 'n_components': 10, 'n_neighbors': 11}. Best is trial 35 with value: 0.9695536159600998.\n",
      "[I 2024-02-20 04:38:18,893] Trial 46 finished with value: 0.9610673316708229 and parameters: {'weights': 'distance', 'n_components': 11, 'n_neighbors': 12}. Best is trial 35 with value: 0.9695536159600998.\n",
      "[I 2024-02-20 04:38:19,021] Trial 47 finished with value: 0.9266221945137157 and parameters: {'weights': 'uniform', 'n_components': 39, 'n_neighbors': 15}. Best is trial 35 with value: 0.9695536159600998.\n",
      "[I 2024-02-20 04:38:19,194] Trial 48 finished with value: 0.9600698254364088 and parameters: {'weights': 'uniform', 'n_components': 13, 'n_neighbors': 20}. Best is trial 35 with value: 0.9695536159600998.\n",
      "[I 2024-02-20 04:38:19,324] Trial 49 finished with value: 0.9181346633416458 and parameters: {'weights': 'uniform', 'n_components': 3, 'n_neighbors': 21}. Best is trial 35 with value: 0.9695536159600998.\n",
      "[I 2024-02-20 04:38:19,515] Trial 50 finished with value: 0.9680536159600998 and parameters: {'weights': 'uniform', 'n_components': 4, 'n_neighbors': 24}. Best is trial 35 with value: 0.9695536159600998.\n",
      "[I 2024-02-20 04:38:19,694] Trial 51 finished with value: 0.9525810473815461 and parameters: {'weights': 'uniform', 'n_components': 9, 'n_neighbors': 75}. Best is trial 35 with value: 0.9695536159600998.\n",
      "[I 2024-02-20 04:38:19,932] Trial 52 finished with value: 0.9675561097256857 and parameters: {'weights': 'uniform', 'n_components': 8, 'n_neighbors': 16}. Best is trial 35 with value: 0.9695536159600998.\n",
      "[I 2024-02-20 04:38:20,121] Trial 53 finished with value: 0.9685561097256858 and parameters: {'weights': 'uniform', 'n_components': 5, 'n_neighbors': 25}. Best is trial 35 with value: 0.9695536159600998.\n",
      "[I 2024-02-20 04:38:20,315] Trial 54 finished with value: 0.9675586034912719 and parameters: {'weights': 'uniform', 'n_components': 5, 'n_neighbors': 25}. Best is trial 35 with value: 0.9695536159600998.\n",
      "[I 2024-02-20 04:38:20,478] Trial 55 finished with value: 0.9196346633416459 and parameters: {'weights': 'uniform', 'n_components': 3, 'n_neighbors': 27}. Best is trial 35 with value: 0.9695536159600998.\n",
      "[I 2024-02-20 04:38:20,636] Trial 56 finished with value: 0.9186359102244388 and parameters: {'weights': 'uniform', 'n_components': 3, 'n_neighbors': 27}. Best is trial 35 with value: 0.9695536159600998.\n",
      "[I 2024-02-20 04:38:20,802] Trial 57 finished with value: 0.9595723192019949 and parameters: {'weights': 'uniform', 'n_components': 8, 'n_neighbors': 39}. Best is trial 35 with value: 0.9695536159600998.\n",
      "[I 2024-02-20 04:38:20,956] Trial 58 finished with value: 0.9336109725685786 and parameters: {'weights': 'uniform', 'n_components': 26, 'n_neighbors': 34}. Best is trial 35 with value: 0.9695536159600998.\n",
      "[I 2024-02-20 04:38:21,151] Trial 59 finished with value: 0.9535785536159601 and parameters: {'weights': 'uniform', 'n_components': 12, 'n_neighbors': 33}. Best is trial 35 with value: 0.9695536159600998.\n",
      "[I 2024-02-20 04:38:21,270] Trial 60 finished with value: 0.912143391521197 and parameters: {'weights': 'distance', 'n_components': 35, 'n_neighbors': 85}. Best is trial 35 with value: 0.9695536159600998.\n",
      "[I 2024-02-20 04:38:21,448] Trial 61 finished with value: 0.908649625935162 and parameters: {'weights': 'distance', 'n_components': 38, 'n_neighbors': 82}. Best is trial 35 with value: 0.9695536159600998.\n",
      "[I 2024-02-20 04:38:21,643] Trial 62 finished with value: 0.9675561097256858 and parameters: {'weights': 'uniform', 'n_components': 5, 'n_neighbors': 24}. Best is trial 35 with value: 0.9695536159600998.\n",
      "[I 2024-02-20 04:38:21,796] Trial 63 finished with value: 0.9685536159600998 and parameters: {'weights': 'uniform', 'n_components': 5, 'n_neighbors': 23}. Best is trial 35 with value: 0.9695536159600998.\n",
      "[I 2024-02-20 04:38:22,008] Trial 64 finished with value: 0.9680561097256859 and parameters: {'weights': 'uniform', 'n_components': 6, 'n_neighbors': 20}. Best is trial 35 with value: 0.9695536159600998.\n",
      "[I 2024-02-20 04:38:22,194] Trial 65 finished with value: 0.9675586034912719 and parameters: {'weights': 'uniform', 'n_components': 7, 'n_neighbors': 19}. Best is trial 35 with value: 0.9695536159600998.\n",
      "[I 2024-02-20 04:38:22,318] Trial 66 finished with value: 0.9680586034912718 and parameters: {'weights': 'uniform', 'n_components': 7, 'n_neighbors': 20}. Best is trial 35 with value: 0.9695536159600998.\n",
      "[I 2024-02-20 04:38:22,521] Trial 67 finished with value: 0.9620685785536158 and parameters: {'weights': 'uniform', 'n_components': 9, 'n_neighbors': 29}. Best is trial 35 with value: 0.9695536159600998.\n",
      "[I 2024-02-20 04:38:22,652] Trial 68 finished with value: 0.960571072319202 and parameters: {'weights': 'uniform', 'n_components': 9, 'n_neighbors': 29}. Best is trial 35 with value: 0.9695536159600998.\n",
      "[I 2024-02-20 04:38:22,812] Trial 69 finished with value: 0.9680561097256859 and parameters: {'weights': 'uniform', 'n_components': 6, 'n_neighbors': 14}. Best is trial 35 with value: 0.9695536159600998.\n",
      "[I 2024-02-20 04:38:22,958] Trial 70 finished with value: 0.9675561097256858 and parameters: {'weights': 'uniform', 'n_components': 6, 'n_neighbors': 14}. Best is trial 35 with value: 0.9695536159600998.\n",
      "[I 2024-02-20 04:38:23,113] Trial 71 finished with value: 0.9585685785536159 and parameters: {'weights': 'uniform', 'n_components': 11, 'n_neighbors': 21}. Best is trial 35 with value: 0.9695536159600998.\n",
      "[I 2024-02-20 04:38:23,289] Trial 72 finished with value: 0.9700498753117207 and parameters: {'weights': 'uniform', 'n_components': 4, 'n_neighbors': 20}. Best is trial 72 with value: 0.9700498753117207.\n",
      "[I 2024-02-20 04:38:23,437] Trial 73 finished with value: 0.9695498753117207 and parameters: {'weights': 'uniform', 'n_components': 4, 'n_neighbors': 15}. Best is trial 72 with value: 0.9700498753117207.\n",
      "[I 2024-02-20 04:38:23,568] Trial 74 finished with value: 0.9695511221945138 and parameters: {'weights': 'uniform', 'n_components': 4, 'n_neighbors': 18}. Best is trial 72 with value: 0.9700498753117207.\n",
      "[I 2024-02-20 04:38:23,706] Trial 75 finished with value: 0.9705486284289278 and parameters: {'weights': 'uniform', 'n_components': 4, 'n_neighbors': 18}. Best is trial 75 with value: 0.9705486284289278.\n",
      "[I 2024-02-20 04:38:23,867] Trial 76 finished with value: 0.9700511221945138 and parameters: {'weights': 'uniform', 'n_components': 4, 'n_neighbors': 22}. Best is trial 75 with value: 0.9705486284289278.\n",
      "[I 2024-02-20 04:38:24,034] Trial 77 finished with value: 0.962564837905237 and parameters: {'weights': 'uniform', 'n_components': 4, 'n_neighbors': 97}. Best is trial 75 with value: 0.9705486284289278.\n",
      "[I 2024-02-20 04:38:24,182] Trial 78 finished with value: 0.9705498753117208 and parameters: {'weights': 'uniform', 'n_components': 4, 'n_neighbors': 18}. Best is trial 78 with value: 0.9705498753117208.\n",
      "[I 2024-02-20 04:38:24,380] Trial 79 finished with value: 0.9700498753117207 and parameters: {'weights': 'uniform', 'n_components': 4, 'n_neighbors': 18}. Best is trial 78 with value: 0.9705498753117208.\n",
      "[I 2024-02-20 04:38:24,558] Trial 80 finished with value: 0.9700486284289276 and parameters: {'weights': 'uniform', 'n_components': 4, 'n_neighbors': 16}. Best is trial 78 with value: 0.9705498753117208.\n",
      "[I 2024-02-20 04:38:24,688] Trial 81 finished with value: 0.9161396508728179 and parameters: {'weights': 'uniform', 'n_components': 3, 'n_neighbors': 17}. Best is trial 78 with value: 0.9705498753117208.\n",
      "[I 2024-02-20 04:38:24,842] Trial 82 finished with value: 0.9700486284289276 and parameters: {'weights': 'uniform', 'n_components': 4, 'n_neighbors': 16}. Best is trial 78 with value: 0.9705498753117208.\n",
      "[I 2024-02-20 04:38:25,022] Trial 83 finished with value: 0.9685511221945138 and parameters: {'weights': 'uniform', 'n_components': 4, 'n_neighbors': 14}. Best is trial 78 with value: 0.9705498753117208.\n",
      "[I 2024-02-20 04:38:25,182] Trial 84 finished with value: 0.9705486284289278 and parameters: {'weights': 'uniform', 'n_components': 4, 'n_neighbors': 18}. Best is trial 78 with value: 0.9705498753117208.\n",
      "[I 2024-02-20 04:38:25,321] Trial 85 finished with value: 0.964063591022444 and parameters: {'weights': 'uniform', 'n_components': 8, 'n_neighbors': 18}. Best is trial 78 with value: 0.9705498753117208.\n",
      "[I 2024-02-20 04:38:25,482] Trial 86 finished with value: 0.9660586034912718 and parameters: {'weights': 'uniform', 'n_components': 8, 'n_neighbors': 18}. Best is trial 78 with value: 0.9705498753117208.\n",
      "[I 2024-02-20 04:38:25,623] Trial 87 finished with value: 0.9191346633416458 and parameters: {'weights': 'uniform', 'n_components': 43, 'n_neighbors': 22}. Best is trial 78 with value: 0.9705498753117208.\n",
      "[I 2024-02-20 04:38:25,777] Trial 88 finished with value: 0.9251234413965086 and parameters: {'weights': 'uniform', 'n_components': 44, 'n_neighbors': 11}. Best is trial 78 with value: 0.9705498753117208.\n",
      "[I 2024-02-20 04:38:25,933] Trial 89 finished with value: 0.9131446384039901 and parameters: {'weights': 'uniform', 'n_components': 3, 'n_neighbors': 11}. Best is trial 78 with value: 0.9705498753117208.\n",
      "[I 2024-02-20 04:38:26,067] Trial 90 finished with value: 0.9101483790523691 and parameters: {'weights': 'uniform', 'n_components': 3, 'n_neighbors': 72}. Best is trial 78 with value: 0.9705498753117208.\n",
      "[I 2024-02-20 04:38:26,259] Trial 91 finished with value: 0.9151421446384042 and parameters: {'weights': 'uniform', 'n_components': 3, 'n_neighbors': 56}. Best is trial 78 with value: 0.9705498753117208.\n",
      "[I 2024-02-20 04:38:26,405] Trial 92 finished with value: 0.9695486284289275 and parameters: {'weights': 'uniform', 'n_components': 4, 'n_neighbors': 16}. Best is trial 78 with value: 0.9705498753117208.\n",
      "[I 2024-02-20 04:38:26,582] Trial 93 finished with value: 0.9690511221945137 and parameters: {'weights': 'uniform', 'n_components': 4, 'n_neighbors': 17}. Best is trial 78 with value: 0.9705498753117208.\n",
      "[I 2024-02-20 04:38:26,740] Trial 94 finished with value: 0.9670598503740649 and parameters: {'weights': 'uniform', 'n_components': 6, 'n_neighbors': 22}. Best is trial 78 with value: 0.9705498753117208.\n",
      "[I 2024-02-20 04:38:26,913] Trial 95 finished with value: 0.966559850374065 and parameters: {'weights': 'uniform', 'n_components': 6, 'n_neighbors': 22}. Best is trial 78 with value: 0.9705498753117208.\n",
      "[I 2024-02-20 04:38:27,074] Trial 96 finished with value: 0.9665573566084789 and parameters: {'weights': 'uniform', 'n_components': 5, 'n_neighbors': 13}. Best is trial 78 with value: 0.9705498753117208.\n",
      "[I 2024-02-20 04:38:27,243] Trial 97 finished with value: 0.9680561097256859 and parameters: {'weights': 'uniform', 'n_components': 5, 'n_neighbors': 19}. Best is trial 78 with value: 0.9705498753117208.\n",
      "[I 2024-02-20 04:38:27,409] Trial 98 finished with value: 0.9625660847880297 and parameters: {'weights': 'uniform', 'n_components': 10, 'n_neighbors': 19}. Best is trial 78 with value: 0.9705498753117208.\n",
      "[I 2024-02-20 04:38:27,552] Trial 99 finished with value: 0.9585710723192019 and parameters: {'weights': 'uniform', 'n_components': 10, 'n_neighbors': 27}. Best is trial 78 with value: 0.9705498753117208.\n"
     ]
    }
   ],
   "source": [
    "study = optuna.create_study(direction=\"maximize\")\n",
    "study.optimize(objective, n_trials=100, n_jobs=2)"
   ]
  },
  {
   "cell_type": "code",
   "execution_count": 24,
   "metadata": {},
   "outputs": [
    {
     "name": "stdout",
     "output_type": "stream",
     "text": [
      "Accuracy: 0.964\n",
      "Balanced accuracy: 0.954\n"
     ]
    }
   ],
   "source": [
    "model = make_pipeline(\n",
    "    OneHotEncoder(handle_unknown=\"ignore\", sparse_output=False, dtype=np.int8),\n",
    "    PCA(n_components=study.best_params[\"n_components\"]),\n",
    "    KNeighborsClassifier(n_neighbors=study.best_params[\"n_neighbors\"], weights=study.best_params[\"weights\"], n_jobs=4),\n",
    ")\n",
    "\n",
    "model.fit(X_train, y_train)\n",
    "y_test_pred = model.predict(X_test)\n",
    "\n",
    "print(f\"Accuracy: {accuracy_score(y_test, y_test_pred).round(3)}\")\n",
    "print(f\"Balanced accuracy: {balanced_accuracy_score(y_test, y_test_pred).round(3)}\")"
   ]
  },
  {
   "cell_type": "code",
   "execution_count": 25,
   "metadata": {},
   "outputs": [
    {
     "data": {
      "text/plain": [
       "['/home/vscode/.ezancestry/data/models/seldin_superpopulation.pkl']"
      ]
     },
     "execution_count": 25,
     "metadata": {},
     "output_type": "execute_result"
    }
   ],
   "source": [
    "# Save the model\n",
    "model_path = Path(_models_directory) / f\"seldin_{label}.pkl\"\n",
    "model_path.parent.mkdir(parents=True, exist_ok=True)\n",
    "joblib.dump(model, model_path)"
   ]
  },
  {
   "cell_type": "markdown",
   "metadata": {},
   "source": [
    "# Seldin AISNPs to predict population"
   ]
  },
  {
   "cell_type": "code",
   "execution_count": 26,
   "metadata": {},
   "outputs": [],
   "source": [
    "label = \"population\""
   ]
  },
  {
   "cell_type": "code",
   "execution_count": 27,
   "metadata": {},
   "outputs": [],
   "source": [
    "X_train, X_test, y_train, y_test = train_test_split(\n",
    "    seldin1kg.drop(columns=todrop),\n",
    "    seldin1kg[label],\n",
    "    test_size=0.2,\n",
    "    random_state=42,\n",
    ")"
   ]
  },
  {
   "cell_type": "code",
   "execution_count": 28,
   "metadata": {},
   "outputs": [],
   "source": [
    "def objective(trial):\n",
    "    weights = trial.suggest_categorical(\"weights\", [\"uniform\", \"distance\"])\n",
    "    n_components = trial.suggest_int(\"n_components\", 3, 50)\n",
    "    n_neighbors = trial.suggest_int(\"n_neighbors\", 11, 100)\n",
    "\n",
    "    model = make_pipeline(\n",
    "        OneHotEncoder(handle_unknown=\"ignore\", sparse_output=False, dtype=np.int8),\n",
    "        PCA(n_components=n_components),\n",
    "        KNeighborsClassifier(n_neighbors=n_neighbors, weights=weights, n_jobs=4),\n",
    "    )\n",
    "\n",
    "    return cross_val_score(model, X_train, y_train, n_jobs=4, scoring=topk_scorer, cv=StratifiedKFold(5)).mean()"
   ]
  },
  {
   "cell_type": "code",
   "execution_count": 29,
   "metadata": {},
   "outputs": [
    {
     "name": "stderr",
     "output_type": "stream",
     "text": [
      "[I 2024-02-20 04:38:40,790] A new study created in memory with name: no-name-00c591d4-a947-436a-9358-44107747dcae\n",
      "[I 2024-02-20 04:38:41,071] Trial 0 finished with value: 0.4688004987531172 and parameters: {'weights': 'uniform', 'n_components': 50, 'n_neighbors': 20}. Best is trial 0 with value: 0.4688004987531172.\n",
      "[I 2024-02-20 04:38:41,257] Trial 1 finished with value: 0.4922693266832917 and parameters: {'weights': 'uniform', 'n_components': 45, 'n_neighbors': 100}. Best is trial 1 with value: 0.4922693266832917.\n",
      "[I 2024-02-20 04:38:41,386] Trial 2 finished with value: 0.48678304239401493 and parameters: {'weights': 'distance', 'n_components': 33, 'n_neighbors': 27}. Best is trial 1 with value: 0.4922693266832917.\n",
      "[I 2024-02-20 04:38:41,531] Trial 3 finished with value: 0.4977593516209476 and parameters: {'weights': 'distance', 'n_components': 44, 'n_neighbors': 92}. Best is trial 3 with value: 0.4977593516209476.\n",
      "[I 2024-02-20 04:38:41,705] Trial 4 finished with value: 0.5152244389027432 and parameters: {'weights': 'distance', 'n_components': 19, 'n_neighbors': 39}. Best is trial 4 with value: 0.5152244389027432.\n",
      "[I 2024-02-20 04:38:41,893] Trial 5 finished with value: 0.5247094763092269 and parameters: {'weights': 'distance', 'n_components': 13, 'n_neighbors': 80}. Best is trial 5 with value: 0.5247094763092269.\n",
      "[I 2024-02-20 04:38:42,094] Trial 6 finished with value: 0.5152206982543641 and parameters: {'weights': 'distance', 'n_components': 13, 'n_neighbors': 24}. Best is trial 5 with value: 0.5247094763092269.\n",
      "[I 2024-02-20 04:38:42,223] Trial 7 finished with value: 0.48977431421446377 and parameters: {'weights': 'uniform', 'n_components': 29, 'n_neighbors': 57}. Best is trial 5 with value: 0.5247094763092269.\n",
      "[I 2024-02-20 04:38:42,357] Trial 8 finished with value: 0.49677306733167087 and parameters: {'weights': 'distance', 'n_components': 35, 'n_neighbors': 74}. Best is trial 5 with value: 0.5247094763092269.\n",
      "[I 2024-02-20 04:38:42,506] Trial 9 finished with value: 0.4842793017456358 and parameters: {'weights': 'uniform', 'n_components': 14, 'n_neighbors': 18}. Best is trial 5 with value: 0.5247094763092269.\n",
      "[I 2024-02-20 04:38:42,691] Trial 10 finished with value: 0.5322107231920199 and parameters: {'weights': 'uniform', 'n_components': 11, 'n_neighbors': 89}. Best is trial 10 with value: 0.5322107231920199.\n",
      "[I 2024-02-20 04:38:42,793] Trial 11 finished with value: 0.5282294264339152 and parameters: {'weights': 'distance', 'n_components': 3, 'n_neighbors': 75}. Best is trial 10 with value: 0.5322107231920199.\n",
      "[I 2024-02-20 04:38:42,949] Trial 12 finished with value: 0.5451820448877804 and parameters: {'weights': 'uniform', 'n_components': 5, 'n_neighbors': 79}. Best is trial 12 with value: 0.5451820448877804.\n",
      "[I 2024-02-20 04:38:43,085] Trial 13 finished with value: 0.5187506234413964 and parameters: {'weights': 'uniform', 'n_components': 3, 'n_neighbors': 67}. Best is trial 12 with value: 0.5451820448877804.\n",
      "[I 2024-02-20 04:38:43,222] Trial 14 finished with value: 0.5212431421446384 and parameters: {'weights': 'uniform', 'n_components': 3, 'n_neighbors': 61}. Best is trial 12 with value: 0.5451820448877804.\n",
      "[I 2024-02-20 04:38:43,367] Trial 15 finished with value: 0.49922693266832924 and parameters: {'weights': 'uniform', 'n_components': 21, 'n_neighbors': 88}. Best is trial 12 with value: 0.5451820448877804.\n",
      "[I 2024-02-20 04:38:43,560] Trial 16 finished with value: 0.49873690773067325 and parameters: {'weights': 'uniform', 'n_components': 21, 'n_neighbors': 87}. Best is trial 12 with value: 0.5451820448877804.\n",
      "[I 2024-02-20 04:38:43,758] Trial 17 finished with value: 0.518218204488778 and parameters: {'weights': 'uniform', 'n_components': 9, 'n_neighbors': 47}. Best is trial 12 with value: 0.5451820448877804.\n",
      "[I 2024-02-20 04:38:43,898] Trial 18 finished with value: 0.5237157107231921 and parameters: {'weights': 'uniform', 'n_components': 8, 'n_neighbors': 44}. Best is trial 12 with value: 0.5451820448877804.\n",
      "[I 2024-02-20 04:38:44,086] Trial 19 finished with value: 0.5421745635910226 and parameters: {'weights': 'uniform', 'n_components': 9, 'n_neighbors': 97}. Best is trial 12 with value: 0.5451820448877804.\n",
      "[I 2024-02-20 04:38:44,221] Trial 20 finished with value: 0.5252219451371571 and parameters: {'weights': 'uniform', 'n_components': 8, 'n_neighbors': 96}. Best is trial 12 with value: 0.5451820448877804.\n",
      "[I 2024-02-20 04:38:44,334] Trial 21 finished with value: 0.4982543640897756 and parameters: {'weights': 'uniform', 'n_components': 26, 'n_neighbors': 99}. Best is trial 12 with value: 0.5451820448877804.\n",
      "[I 2024-02-20 04:38:44,496] Trial 22 finished with value: 0.5132344139650873 and parameters: {'weights': 'uniform', 'n_components': 17, 'n_neighbors': 84}. Best is trial 12 with value: 0.5451820448877804.\n",
      "[I 2024-02-20 04:38:44,644] Trial 23 finished with value: 0.5222231920199502 and parameters: {'weights': 'uniform', 'n_components': 16, 'n_neighbors': 83}. Best is trial 12 with value: 0.5451820448877804.\n",
      "[I 2024-02-20 04:38:44,793] Trial 24 finished with value: 0.5336783042394015 and parameters: {'weights': 'uniform', 'n_components': 8, 'n_neighbors': 68}. Best is trial 12 with value: 0.5451820448877804.\n",
      "[I 2024-02-20 04:38:44,990] Trial 25 finished with value: 0.5316995012468828 and parameters: {'weights': 'uniform', 'n_components': 10, 'n_neighbors': 72}. Best is trial 12 with value: 0.5451820448877804.\n",
      "[I 2024-02-20 04:38:45,122] Trial 26 finished with value: 0.5481633416458853 and parameters: {'weights': 'uniform', 'n_components': 7, 'n_neighbors': 68}. Best is trial 26 with value: 0.5481633416458853.\n",
      "[I 2024-02-20 04:38:45,289] Trial 27 finished with value: 0.5441770573566085 and parameters: {'weights': 'uniform', 'n_components': 7, 'n_neighbors': 63}. Best is trial 26 with value: 0.5481633416458853.\n",
      "[I 2024-02-20 04:38:45,400] Trial 28 finished with value: 0.5287032418952619 and parameters: {'weights': 'uniform', 'n_components': 6, 'n_neighbors': 60}. Best is trial 26 with value: 0.5481633416458853.\n",
      "[I 2024-02-20 04:38:45,549] Trial 29 finished with value: 0.5361882793017456 and parameters: {'weights': 'uniform', 'n_components': 6, 'n_neighbors': 63}. Best is trial 26 with value: 0.5481633416458853.\n",
      "[I 2024-02-20 04:38:45,695] Trial 30 finished with value: 0.5077394014962593 and parameters: {'weights': 'uniform', 'n_components': 26, 'n_neighbors': 53}. Best is trial 26 with value: 0.5481633416458853.\n",
      "[I 2024-02-20 04:38:45,867] Trial 31 finished with value: 0.4977593516209476 and parameters: {'weights': 'uniform', 'n_components': 26, 'n_neighbors': 52}. Best is trial 26 with value: 0.5481633416458853.\n",
      "[I 2024-02-20 04:38:46,097] Trial 32 finished with value: 0.5396982543640898 and parameters: {'weights': 'uniform', 'n_components': 5, 'n_neighbors': 78}. Best is trial 26 with value: 0.5481633416458853.\n",
      "[I 2024-02-20 04:38:46,225] Trial 33 finished with value: 0.5391832917705737 and parameters: {'weights': 'uniform', 'n_components': 5, 'n_neighbors': 78}. Best is trial 26 with value: 0.5481633416458853.\n",
      "[I 2024-02-20 04:38:46,493] Trial 34 finished with value: 0.5147281795511222 and parameters: {'weights': 'uniform', 'n_components': 12, 'n_neighbors': 67}. Best is trial 26 with value: 0.5481633416458853.\n",
      "[I 2024-02-20 04:38:46,657] Trial 35 finished with value: 0.518208229426434 and parameters: {'weights': 'uniform', 'n_components': 11, 'n_neighbors': 68}. Best is trial 26 with value: 0.5481633416458853.\n",
      "[I 2024-02-20 04:38:46,821] Trial 36 finished with value: 0.47528179551122196 and parameters: {'weights': 'uniform', 'n_components': 39, 'n_neighbors': 12}. Best is trial 26 with value: 0.5481633416458853.\n",
      "[I 2024-02-20 04:38:47,060] Trial 37 finished with value: 0.486290523690773 and parameters: {'weights': 'uniform', 'n_components': 43, 'n_neighbors': 96}. Best is trial 26 with value: 0.5481633416458853.\n",
      "[I 2024-02-20 04:38:47,153] Trial 38 finished with value: 0.5102256857855361 and parameters: {'weights': 'distance', 'n_components': 16, 'n_neighbors': 38}. Best is trial 26 with value: 0.5481633416458853.\n",
      "[I 2024-02-20 04:38:47,305] Trial 39 finished with value: 0.5277206982543641 and parameters: {'weights': 'distance', 'n_components': 16, 'n_neighbors': 92}. Best is trial 26 with value: 0.5481633416458853.\n",
      "[I 2024-02-20 04:38:47,453] Trial 40 finished with value: 0.5246995012468829 and parameters: {'weights': 'distance', 'n_components': 20, 'n_neighbors': 94}. Best is trial 26 with value: 0.5481633416458853.\n",
      "[I 2024-02-20 04:38:47,607] Trial 41 finished with value: 0.5242269326683292 and parameters: {'weights': 'uniform', 'n_components': 20, 'n_neighbors': 73}. Best is trial 26 with value: 0.5481633416458853.\n",
      "[I 2024-02-20 04:38:47,794] Trial 42 finished with value: 0.5296945137157107 and parameters: {'weights': 'uniform', 'n_components': 6, 'n_neighbors': 80}. Best is trial 26 with value: 0.5481633416458853.\n",
      "[I 2024-02-20 04:38:47,916] Trial 43 finished with value: 0.5426907730673316 and parameters: {'weights': 'uniform', 'n_components': 6, 'n_neighbors': 79}. Best is trial 26 with value: 0.5481633416458853.\n",
      "[I 2024-02-20 04:38:48,109] Trial 44 finished with value: 0.5401807980049875 and parameters: {'weights': 'uniform', 'n_components': 5, 'n_neighbors': 84}. Best is trial 26 with value: 0.5481633416458853.\n",
      "[I 2024-02-20 04:38:48,339] Trial 45 finished with value: 0.5257294264339152 and parameters: {'weights': 'uniform', 'n_components': 13, 'n_neighbors': 84}. Best is trial 26 with value: 0.5481633416458853.\n",
      "[I 2024-02-20 04:38:48,555] Trial 46 finished with value: 0.4957655860349127 and parameters: {'weights': 'uniform', 'n_components': 50, 'n_neighbors': 56}. Best is trial 26 with value: 0.5481633416458853.\n",
      "[I 2024-02-20 04:38:48,733] Trial 47 finished with value: 0.4877793017456359 and parameters: {'weights': 'uniform', 'n_components': 50, 'n_neighbors': 64}. Best is trial 26 with value: 0.5481633416458853.\n",
      "[I 2024-02-20 04:38:48,889] Trial 48 finished with value: 0.5381920199501248 and parameters: {'weights': 'uniform', 'n_components': 9, 'n_neighbors': 71}. Best is trial 26 with value: 0.5481633416458853.\n",
      "[I 2024-02-20 04:38:49,049] Trial 49 finished with value: 0.5232431421446384 and parameters: {'weights': 'distance', 'n_components': 3, 'n_neighbors': 70}. Best is trial 26 with value: 0.5481633416458853.\n",
      "[I 2024-02-20 04:38:49,181] Trial 50 finished with value: 0.5142543640897757 and parameters: {'weights': 'distance', 'n_components': 3, 'n_neighbors': 100}. Best is trial 26 with value: 0.5481633416458853.\n",
      "[I 2024-02-20 04:38:49,347] Trial 51 finished with value: 0.5007543640897756 and parameters: {'weights': 'uniform', 'n_components': 23, 'n_neighbors': 76}. Best is trial 26 with value: 0.5481633416458853.\n",
      "[I 2024-02-20 04:38:49,473] Trial 52 finished with value: 0.5391770573566085 and parameters: {'weights': 'uniform', 'n_components': 7, 'n_neighbors': 90}. Best is trial 26 with value: 0.5481633416458853.\n",
      "[I 2024-02-20 04:38:49,670] Trial 53 finished with value: 0.5361733167082294 and parameters: {'weights': 'uniform', 'n_components': 7, 'n_neighbors': 89}. Best is trial 26 with value: 0.5481633416458853.\n",
      "[I 2024-02-20 04:38:49,883] Trial 54 finished with value: 0.531715710723192 and parameters: {'weights': 'uniform', 'n_components': 11, 'n_neighbors': 82}. Best is trial 26 with value: 0.5481633416458853.\n",
      "[I 2024-02-20 04:38:50,015] Trial 55 finished with value: 0.5157206982543641 and parameters: {'weights': 'uniform', 'n_components': 14, 'n_neighbors': 86}. Best is trial 26 with value: 0.5481633416458853.\n",
      "[I 2024-02-20 04:38:50,167] Trial 56 finished with value: 0.5162306733167082 and parameters: {'weights': 'uniform', 'n_components': 14, 'n_neighbors': 86}. Best is trial 26 with value: 0.5481633416458853.\n",
      "[I 2024-02-20 04:38:50,360] Trial 57 finished with value: 0.5411920199501248 and parameters: {'weights': 'uniform', 'n_components': 5, 'n_neighbors': 76}. Best is trial 26 with value: 0.5481633416458853.\n",
      "[I 2024-02-20 04:38:50,520] Trial 58 finished with value: 0.483284289276808 and parameters: {'weights': 'uniform', 'n_components': 31, 'n_neighbors': 75}. Best is trial 26 with value: 0.5481633416458853.\n",
      "[I 2024-02-20 04:38:50,682] Trial 59 finished with value: 0.5316970074812968 and parameters: {'weights': 'uniform', 'n_components': 9, 'n_neighbors': 59}. Best is trial 26 with value: 0.5481633416458853.\n",
      "[I 2024-02-20 04:38:50,838] Trial 60 finished with value: 0.5207057356608479 and parameters: {'weights': 'uniform', 'n_components': 9, 'n_neighbors': 59}. Best is trial 26 with value: 0.5481633416458853.\n",
      "[I 2024-02-20 04:38:51,030] Trial 61 finished with value: 0.5636558603491271 and parameters: {'weights': 'uniform', 'n_components': 4, 'n_neighbors': 80}. Best is trial 61 with value: 0.5636558603491271.\n",
      "[I 2024-02-20 04:38:51,175] Trial 62 finished with value: 0.5641658354114714 and parameters: {'weights': 'uniform', 'n_components': 4, 'n_neighbors': 79}. Best is trial 62 with value: 0.5641658354114714.\n",
      "[I 2024-02-20 04:38:51,320] Trial 63 finished with value: 0.5656558603491272 and parameters: {'weights': 'uniform', 'n_components': 4, 'n_neighbors': 80}. Best is trial 63 with value: 0.5656558603491272.\n",
      "[I 2024-02-20 04:38:51,453] Trial 64 finished with value: 0.5611695760598504 and parameters: {'weights': 'uniform', 'n_components': 4, 'n_neighbors': 64}. Best is trial 63 with value: 0.5656558603491272.\n",
      "[I 2024-02-20 04:38:51,571] Trial 65 finished with value: 0.5641583541147132 and parameters: {'weights': 'uniform', 'n_components': 4, 'n_neighbors': 80}. Best is trial 63 with value: 0.5656558603491272.\n",
      "[I 2024-02-20 04:38:51,768] Trial 66 finished with value: 0.5606733167082295 and parameters: {'weights': 'uniform', 'n_components': 4, 'n_neighbors': 64}. Best is trial 63 with value: 0.5656558603491272.\n",
      "[I 2024-02-20 04:38:51,892] Trial 67 finished with value: 0.5631633416458852 and parameters: {'weights': 'uniform', 'n_components': 4, 'n_neighbors': 65}. Best is trial 63 with value: 0.5656558603491272.\n",
      "[I 2024-02-20 04:38:52,050] Trial 68 finished with value: 0.5621733167082295 and parameters: {'weights': 'uniform', 'n_components': 4, 'n_neighbors': 67}. Best is trial 63 with value: 0.5656558603491272.\n",
      "[I 2024-02-20 04:38:52,233] Trial 69 finished with value: 0.5536957605985038 and parameters: {'weights': 'uniform', 'n_components': 4, 'n_neighbors': 46}. Best is trial 63 with value: 0.5656558603491272.\n",
      "[I 2024-02-20 04:38:52,369] Trial 70 finished with value: 0.5212406483790524 and parameters: {'weights': 'uniform', 'n_components': 3, 'n_neighbors': 73}. Best is trial 63 with value: 0.5656558603491272.\n",
      "[I 2024-02-20 04:38:52,555] Trial 71 finished with value: 0.5177418952618453 and parameters: {'weights': 'uniform', 'n_components': 3, 'n_neighbors': 81}. Best is trial 63 with value: 0.5656558603491272.\n",
      "[I 2024-02-20 04:38:52,683] Trial 72 finished with value: 0.5601745635910225 and parameters: {'weights': 'uniform', 'n_components': 4, 'n_neighbors': 63}. Best is trial 63 with value: 0.5656558603491272.\n",
      "[I 2024-02-20 04:38:52,816] Trial 73 finished with value: 0.5626683291770573 and parameters: {'weights': 'uniform', 'n_components': 4, 'n_neighbors': 65}. Best is trial 63 with value: 0.5656558603491272.\n",
      "[I 2024-02-20 04:38:52,982] Trial 74 finished with value: 0.5601720698254364 and parameters: {'weights': 'uniform', 'n_components': 4, 'n_neighbors': 65}. Best is trial 63 with value: 0.5656558603491272.\n",
      "[I 2024-02-20 04:38:53,103] Trial 75 finished with value: 0.5486645885286784 and parameters: {'weights': 'uniform', 'n_components': 7, 'n_neighbors': 66}. Best is trial 63 with value: 0.5656558603491272.\n",
      "[I 2024-02-20 04:38:53,235] Trial 76 finished with value: 0.5356957605985038 and parameters: {'weights': 'uniform', 'n_components': 8, 'n_neighbors': 70}. Best is trial 63 with value: 0.5656558603491272.\n",
      "[I 2024-02-20 04:38:53,435] Trial 77 finished with value: 0.529714463840399 and parameters: {'weights': 'uniform', 'n_components': 10, 'n_neighbors': 70}. Best is trial 63 with value: 0.5656558603491272.\n",
      "[I 2024-02-20 04:38:53,569] Trial 78 finished with value: 0.52822319201995 and parameters: {'weights': 'uniform', 'n_components': 10, 'n_neighbors': 77}. Best is trial 63 with value: 0.5656558603491272.\n",
      "[I 2024-02-20 04:38:53,720] Trial 79 finished with value: 0.5501783042394015 and parameters: {'weights': 'distance', 'n_components': 6, 'n_neighbors': 77}. Best is trial 63 with value: 0.5656558603491272.\n",
      "[I 2024-02-20 04:38:53,850] Trial 80 finished with value: 0.5381807980049875 and parameters: {'weights': 'distance', 'n_components': 6, 'n_neighbors': 58}. Best is trial 63 with value: 0.5656558603491272.\n",
      "[I 2024-02-20 04:38:54,015] Trial 81 finished with value: 0.5456633416458854 and parameters: {'weights': 'uniform', 'n_components': 5, 'n_neighbors': 51}. Best is trial 63 with value: 0.5656558603491272.\n",
      "[I 2024-02-20 04:38:54,130] Trial 82 finished with value: 0.5686658354114714 and parameters: {'weights': 'uniform', 'n_components': 4, 'n_neighbors': 54}. Best is trial 82 with value: 0.5686658354114714.\n",
      "[I 2024-02-20 04:38:54,304] Trial 83 finished with value: 0.5661658354114714 and parameters: {'weights': 'uniform', 'n_components': 4, 'n_neighbors': 55}. Best is trial 82 with value: 0.5686658354114714.\n",
      "[I 2024-02-20 04:38:54,420] Trial 84 finished with value: 0.5521820448877806 and parameters: {'weights': 'uniform', 'n_components': 4, 'n_neighbors': 38}. Best is trial 82 with value: 0.5686658354114714.\n",
      "[I 2024-02-20 04:38:54,572] Trial 85 finished with value: 0.5212231920199502 and parameters: {'weights': 'uniform', 'n_components': 8, 'n_neighbors': 54}. Best is trial 82 with value: 0.5686658354114714.\n",
      "[I 2024-02-20 04:38:54,768] Trial 86 finished with value: 0.5326970074812968 and parameters: {'weights': 'uniform', 'n_components': 8, 'n_neighbors': 49}. Best is trial 82 with value: 0.5686658354114714.\n",
      "[I 2024-02-20 04:38:54,922] Trial 87 finished with value: 0.5187369077306733 and parameters: {'weights': 'uniform', 'n_components': 3, 'n_neighbors': 51}. Best is trial 82 with value: 0.5686658354114714.\n",
      "[I 2024-02-20 04:38:55,050] Trial 88 finished with value: 0.5002568578553616 and parameters: {'weights': 'uniform', 'n_components': 35, 'n_neighbors': 41}. Best is trial 82 with value: 0.5686658354114714.\n",
      "[I 2024-02-20 04:38:55,254] Trial 89 finished with value: 0.5317094763092269 and parameters: {'weights': 'uniform', 'n_components': 6, 'n_neighbors': 34}. Best is trial 82 with value: 0.5686658354114714.\n",
      "[I 2024-02-20 04:38:55,377] Trial 90 finished with value: 0.5446770573566085 and parameters: {'weights': 'uniform', 'n_components': 6, 'n_neighbors': 31}. Best is trial 82 with value: 0.5686658354114714.\n",
      "[I 2024-02-20 04:38:55,537] Trial 91 finished with value: 0.5466783042394014 and parameters: {'weights': 'uniform', 'n_components': 5, 'n_neighbors': 61}. Best is trial 82 with value: 0.5686658354114714.\n",
      "[I 2024-02-20 04:38:55,655] Trial 92 finished with value: 0.5431783042394016 and parameters: {'weights': 'uniform', 'n_components': 5, 'n_neighbors': 61}. Best is trial 82 with value: 0.5686658354114714.\n",
      "[I 2024-02-20 04:38:55,815] Trial 93 finished with value: 0.5651720698254366 and parameters: {'weights': 'uniform', 'n_components': 4, 'n_neighbors': 57}. Best is trial 82 with value: 0.5686658354114714.\n",
      "[I 2024-02-20 04:38:55,950] Trial 94 finished with value: 0.5182356608478804 and parameters: {'weights': 'uniform', 'n_components': 3, 'n_neighbors': 56}. Best is trial 82 with value: 0.5686658354114714.\n",
      "[I 2024-02-20 04:38:56,100] Trial 95 finished with value: 0.5147443890274314 and parameters: {'weights': 'uniform', 'n_components': 3, 'n_neighbors': 56}. Best is trial 82 with value: 0.5686658354114714.\n",
      "[I 2024-02-20 04:38:56,231] Trial 96 finished with value: 0.5396945137157108 and parameters: {'weights': 'uniform', 'n_components': 7, 'n_neighbors': 55}. Best is trial 82 with value: 0.5686658354114714.\n",
      "[I 2024-02-20 04:38:56,385] Trial 97 finished with value: 0.536704488778055 and parameters: {'weights': 'uniform', 'n_components': 7, 'n_neighbors': 48}. Best is trial 82 with value: 0.5686658354114714.\n",
      "[I 2024-02-20 04:38:56,507] Trial 98 finished with value: 0.5381932668329178 and parameters: {'weights': 'uniform', 'n_components': 5, 'n_neighbors': 49}. Best is trial 82 with value: 0.5686658354114714.\n",
      "[I 2024-02-20 04:38:56,636] Trial 99 finished with value: 0.5381845386533668 and parameters: {'weights': 'uniform', 'n_components': 5, 'n_neighbors': 73}. Best is trial 82 with value: 0.5686658354114714.\n"
     ]
    }
   ],
   "source": [
    "study = optuna.create_study(direction=\"maximize\")\n",
    "study.optimize(objective, n_trials=100, n_jobs=2)"
   ]
  },
  {
   "cell_type": "code",
   "execution_count": 30,
   "metadata": {},
   "outputs": [
    {
     "name": "stdout",
     "output_type": "stream",
     "text": [
      "Accuracy: 0.313\n",
      "Balanced accuracy: 0.322\n",
      "Top-2 accuracy: 0.545\n",
      "Top-3 accuracy: 0.735\n"
     ]
    }
   ],
   "source": [
    "model = make_pipeline(\n",
    "    OneHotEncoder(handle_unknown=\"ignore\", sparse_output=False, dtype=np.int8),\n",
    "    PCA(n_components=study.best_params[\"n_components\"]),\n",
    "    KNeighborsClassifier(n_neighbors=study.best_params[\"n_neighbors\"], weights=study.best_params[\"weights\"], n_jobs=4),\n",
    ")\n",
    "\n",
    "model.fit(X_train, y_train)\n",
    "y_test_pred = model.predict(X_test)\n",
    "\n",
    "print(f\"Accuracy: {accuracy_score(y_test, y_test_pred).round(3)}\")\n",
    "print(f\"Balanced accuracy: {balanced_accuracy_score(y_test, y_test_pred).round(3)}\")\n",
    "print(f\"Top-2 accuracy: {top_k_accuracy_score(y_test, model.predict_proba(X_test), k=2).round(3)}\")\n",
    "print(f\"Top-3 accuracy: {top_k_accuracy_score(y_test, model.predict_proba(X_test), k=3).round(3)}\")"
   ]
  },
  {
   "cell_type": "code",
   "execution_count": 31,
   "metadata": {},
   "outputs": [
    {
     "data": {
      "text/plain": [
       "['/home/vscode/.ezancestry/data/models/seldin_population.pkl']"
      ]
     },
     "execution_count": 31,
     "metadata": {},
     "output_type": "execute_result"
    }
   ],
   "source": [
    "# Save the model\n",
    "model_path = Path(_models_directory) / f\"seldin_{label}.pkl\"\n",
    "model_path.parent.mkdir(parents=True, exist_ok=True)\n",
    "joblib.dump(model, model_path)"
   ]
  },
  {
   "cell_type": "code",
   "execution_count": null,
   "metadata": {},
   "outputs": [],
   "source": []
  }
 ],
 "metadata": {
  "kernelspec": {
   "display_name": ".venv",
   "language": "python",
   "name": "python3"
  },
  "language_info": {
   "codemirror_mode": {
    "name": "ipython",
    "version": 3
   },
   "file_extension": ".py",
   "mimetype": "text/x-python",
   "name": "python",
   "nbconvert_exporter": "python",
   "pygments_lexer": "ipython3",
   "version": "3.11.8"
  }
 },
 "nbformat": 4,
 "nbformat_minor": 2
}
