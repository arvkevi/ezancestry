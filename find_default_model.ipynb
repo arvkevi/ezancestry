{
 "cells": [
  {
   "cell_type": "markdown",
   "metadata": {},
   "source": [
    "This notebook performs cross-validation to identify the best parameters for a KNN model to predict the genetic ancestry of the 1000 Genomes individuals."
   ]
  },
  {
   "cell_type": "code",
   "execution_count": 48,
   "metadata": {},
   "outputs": [],
   "source": [
    "from pathlib import Path\n",
    "\n",
    "import numpy as np\n",
    "import pandas as pd\n",
    "from sklearn.model_selection import train_test_split\n",
    "import joblib\n",
    "\n",
    "# load config variables\n",
    "from ezancestry.config import aisnps_directory as _aisnps_directory\n",
    "from ezancestry.config import aisnps_set as _aisnps_set\n",
    "from ezancestry.config import models_directory as _models_directory\n",
    "from ezancestry.config import population_level as _population_level\n",
    "from ezancestry.evaluate import export_performance\n",
    "\n",
    "# load functions\n",
    "from ezancestry.fetch import get_thousand_genomes_aisnps\n",
    "from ezancestry.model import DEFAULT_PIPELINE, predict_ancestry, train"
   ]
  },
  {
   "cell_type": "code",
   "execution_count": 3,
   "metadata": {},
   "outputs": [
    {
     "name": "stdout",
     "output_type": "stream",
     "text": [
      "Requirement already satisfied: optuna in ./.venv/lib/python3.11/site-packages (3.5.0)\n",
      "Requirement already satisfied: alembic>=1.5.0 in ./.venv/lib/python3.11/site-packages (from optuna) (1.13.1)\n",
      "Requirement already satisfied: colorlog in ./.venv/lib/python3.11/site-packages (from optuna) (6.8.2)\n",
      "Requirement already satisfied: numpy in ./.venv/lib/python3.11/site-packages (from optuna) (1.24.4)\n",
      "Requirement already satisfied: packaging>=20.0 in ./.venv/lib/python3.11/site-packages (from optuna) (23.2)\n",
      "Requirement already satisfied: sqlalchemy>=1.3.0 in ./.venv/lib/python3.11/site-packages (from optuna) (2.0.27)\n",
      "Requirement already satisfied: tqdm in ./.venv/lib/python3.11/site-packages (from optuna) (4.66.2)\n",
      "Requirement already satisfied: PyYAML in ./.venv/lib/python3.11/site-packages (from optuna) (6.0.1)\n",
      "Requirement already satisfied: Mako in ./.venv/lib/python3.11/site-packages (from alembic>=1.5.0->optuna) (1.3.2)\n",
      "Requirement already satisfied: typing-extensions>=4 in ./.venv/lib/python3.11/site-packages (from alembic>=1.5.0->optuna) (4.9.0)\n",
      "Requirement already satisfied: greenlet!=0.4.17 in ./.venv/lib/python3.11/site-packages (from sqlalchemy>=1.3.0->optuna) (3.0.3)\n",
      "Requirement already satisfied: MarkupSafe>=0.9.2 in ./.venv/lib/python3.11/site-packages (from Mako->alembic>=1.5.0->optuna) (2.1.5)\n",
      "\n",
      "\u001b[1m[\u001b[0m\u001b[34;49mnotice\u001b[0m\u001b[1;39;49m]\u001b[0m\u001b[39;49m A new release of pip is available: \u001b[0m\u001b[31;49m23.3.1\u001b[0m\u001b[39;49m -> \u001b[0m\u001b[32;49m24.0\u001b[0m\n",
      "\u001b[1m[\u001b[0m\u001b[34;49mnotice\u001b[0m\u001b[1;39;49m]\u001b[0m\u001b[39;49m To update, run: \u001b[0m\u001b[32;49mpip install --upgrade pip\u001b[0m\n"
     ]
    }
   ],
   "source": [
    "!pip install optuna"
   ]
  },
  {
   "cell_type": "code",
   "execution_count": 56,
   "metadata": {},
   "outputs": [],
   "source": [
    "import optuna\n",
    "from sklearn.decomposition import PCA\n",
    "from sklearn.impute import KNNImputer\n",
    "from sklearn.metrics import accuracy_score, balanced_accuracy_score, top_k_accuracy_score, make_scorer\n",
    "from sklearn.model_selection import StratifiedKFold, cross_val_score, train_test_split\n",
    "from sklearn.neighbors import KNeighborsClassifier\n",
    "from sklearn.pipeline import make_pipeline\n",
    "from sklearn.preprocessing import OneHotEncoder"
   ]
  },
  {
   "cell_type": "code",
   "execution_count": 17,
   "metadata": {},
   "outputs": [],
   "source": [
    "candidate_pipeline = make_pipeline(\n",
    "    OneHotEncoder(handle_unknown=\"ignore\", sparse_output=False, dtype=np.int8),\n",
    "    KNNImputer(n_neighbors=7),\n",
    "    PCA(n_components=10),\n",
    "    KNeighborsClassifier(n_neighbors=11, weights=\"distance\", n_jobs=4),\n",
    ")"
   ]
  },
  {
   "cell_type": "code",
   "execution_count": 18,
   "metadata": {},
   "outputs": [
    {
     "name": "stderr",
     "output_type": "stream",
     "text": [
      "2024-02-14 03:17:56.269 | INFO     | ezancestry.fetch:get_thousand_genomes_aisnps:34 - Loaded: kidd.1kG.csv\n",
      "2024-02-14 03:17:56.283 | INFO     | ezancestry.fetch:get_thousand_genomes_aisnps:34 - Loaded: kidd.1kG.csv\n"
     ]
    }
   ],
   "source": [
    "# If the file exists in the aisnps_directory, you can load it rather than querying the 1000 Genomes VCF\n",
    "kidd1kg = get_thousand_genomes_aisnps(aisnps_directory=\"data/aisnps/\", aisnps_sets=_aisnps_set)\n",
    "seldin1kg = get_thousand_genomes_aisnps(aisnps_directory=\"data/aisnps/\", aisnps_sets=_aisnps_set)"
   ]
  },
  {
   "cell_type": "markdown",
   "metadata": {},
   "source": [
    "# Kidd AISNPs to predict superpopulation"
   ]
  },
  {
   "cell_type": "code",
   "execution_count": 26,
   "metadata": {},
   "outputs": [],
   "source": [
    "todrop = [\"superpopulation\", \"population\", \"gender\"]\n",
    "label = \"superpopulation\""
   ]
  },
  {
   "cell_type": "code",
   "execution_count": 40,
   "metadata": {},
   "outputs": [],
   "source": [
    "X_train, X_test, y_train, y_test = train_test_split(\n",
    "    kidd1kg.drop(columns=todrop),\n",
    "    kidd1kg[label],\n",
    "    test_size=0.2,\n",
    "    random_state=42,\n",
    ")"
   ]
  },
  {
   "cell_type": "code",
   "execution_count": 33,
   "metadata": {},
   "outputs": [],
   "source": [
    "def objective(trial):\n",
    "    weights = trial.suggest_categorical(\"weights\", [\"uniform\", \"distance\"])\n",
    "    n_components = trial.suggest_int(\"n_components\", 3, 50)\n",
    "    n_neighbors = trial.suggest_int(\"n_neighbors\", 11, 100)\n",
    "\n",
    "    model = make_pipeline(\n",
    "        OneHotEncoder(handle_unknown=\"ignore\", sparse_output=False, dtype=np.int8),\n",
    "        KNNImputer(n_neighbors=7),\n",
    "        PCA(n_components=n_components),\n",
    "        KNeighborsClassifier(n_neighbors=n_neighbors, weights=weights, n_jobs=4),\n",
    "    )\n",
    "\n",
    "    return cross_val_score(model, X_train, y_train, n_jobs=4, scoring=\"accuracy\", cv=StratifiedKFold(5)).mean()"
   ]
  },
  {
   "cell_type": "code",
   "execution_count": 34,
   "metadata": {},
   "outputs": [
    {
     "name": "stderr",
     "output_type": "stream",
     "text": [
      "[I 2024-02-14 03:30:24,511] A new study created in memory with name: no-name-dbe49198-8d1a-444e-9d13-ac92e7971897\n",
      "[I 2024-02-14 03:30:26,781] Trial 0 finished with value: 0.9286209476309226 and parameters: {'weights': 'distance', 'n_components': 28, 'n_neighbors': 51}. Best is trial 0 with value: 0.9286209476309226.\n",
      "[I 2024-02-14 03:30:27,320] Trial 1 finished with value: 0.960568578553616 and parameters: {'weights': 'distance', 'n_components': 7, 'n_neighbors': 65}. Best is trial 1 with value: 0.960568578553616.\n",
      "[I 2024-02-14 03:30:28,074] Trial 2 finished with value: 0.9056546134663341 and parameters: {'weights': 'distance', 'n_components': 50, 'n_neighbors': 52}. Best is trial 1 with value: 0.960568578553616.\n",
      "[I 2024-02-14 03:30:28,635] Trial 3 finished with value: 0.9645598503740649 and parameters: {'weights': 'distance', 'n_components': 4, 'n_neighbors': 74}. Best is trial 3 with value: 0.9645598503740649.\n",
      "[I 2024-02-14 03:30:29,272] Trial 4 finished with value: 0.9181346633416458 and parameters: {'weights': 'distance', 'n_components': 31, 'n_neighbors': 90}. Best is trial 3 with value: 0.9645598503740649.\n",
      "[I 2024-02-14 03:30:29,925] Trial 5 finished with value: 0.9116458852867829 and parameters: {'weights': 'uniform', 'n_components': 38, 'n_neighbors': 60}. Best is trial 3 with value: 0.9645598503740649.\n",
      "[I 2024-02-14 03:30:30,633] Trial 6 finished with value: 0.909647132169576 and parameters: {'weights': 'distance', 'n_components': 39, 'n_neighbors': 86}. Best is trial 3 with value: 0.9645598503740649.\n",
      "[I 2024-02-14 03:30:31,224] Trial 7 finished with value: 0.9251271820448878 and parameters: {'weights': 'uniform', 'n_components': 30, 'n_neighbors': 65}. Best is trial 3 with value: 0.9645598503740649.\n",
      "[I 2024-02-14 03:30:31,783] Trial 8 finished with value: 0.9276221945137155 and parameters: {'weights': 'uniform', 'n_components': 24, 'n_neighbors': 91}. Best is trial 3 with value: 0.9645598503740649.\n",
      "[I 2024-02-14 03:30:32,263] Trial 9 finished with value: 0.9605698254364089 and parameters: {'weights': 'uniform', 'n_components': 6, 'n_neighbors': 71}. Best is trial 3 with value: 0.9645598503740649.\n",
      "[I 2024-02-14 03:30:32,811] Trial 10 finished with value: 0.9485847880299252 and parameters: {'weights': 'distance', 'n_components': 18, 'n_neighbors': 26}. Best is trial 3 with value: 0.9645598503740649.\n",
      "[I 2024-02-14 03:30:33,300] Trial 11 finished with value: 0.9086508728179551 and parameters: {'weights': 'uniform', 'n_components': 3, 'n_neighbors': 76}. Best is trial 3 with value: 0.9645598503740649.\n",
      "[I 2024-02-14 03:30:33,851] Trial 12 finished with value: 0.9540785536159602 and parameters: {'weights': 'uniform', 'n_components': 13, 'n_neighbors': 33}. Best is trial 3 with value: 0.9645598503740649.\n",
      "[I 2024-02-14 03:30:34,374] Trial 13 finished with value: 0.9495847880299252 and parameters: {'weights': 'uniform', 'n_components': 11, 'n_neighbors': 73}. Best is trial 3 with value: 0.9645598503740649.\n",
      "[I 2024-02-14 03:30:34,844] Trial 14 finished with value: 0.9086521197007482 and parameters: {'weights': 'distance', 'n_components': 3, 'n_neighbors': 100}. Best is trial 3 with value: 0.9645598503740649.\n",
      "[I 2024-02-14 03:30:35,364] Trial 15 finished with value: 0.9435960099750623 and parameters: {'weights': 'uniform', 'n_components': 18, 'n_neighbors': 39}. Best is trial 3 with value: 0.9645598503740649.\n",
      "[I 2024-02-14 03:30:35,928] Trial 16 finished with value: 0.9475885286783041 and parameters: {'weights': 'uniform', 'n_components': 12, 'n_neighbors': 77}. Best is trial 3 with value: 0.9645598503740649.\n",
      "[I 2024-02-14 03:30:36,483] Trial 17 finished with value: 0.9460922693266832 and parameters: {'weights': 'distance', 'n_components': 20, 'n_neighbors': 14}. Best is trial 3 with value: 0.9645598503740649.\n",
      "[I 2024-02-14 03:30:36,984] Trial 18 finished with value: 0.961568578553616 and parameters: {'weights': 'uniform', 'n_components': 7, 'n_neighbors': 42}. Best is trial 3 with value: 0.9645598503740649.\n",
      "[I 2024-02-14 03:30:37,496] Trial 19 finished with value: 0.9585748129675811 and parameters: {'weights': 'distance', 'n_components': 9, 'n_neighbors': 49}. Best is trial 3 with value: 0.9645598503740649.\n",
      "[I 2024-02-14 03:30:38,059] Trial 20 finished with value: 0.9480910224438901 and parameters: {'weights': 'distance', 'n_components': 15, 'n_neighbors': 45}. Best is trial 3 with value: 0.9645598503740649.\n",
      "[I 2024-02-14 03:30:38,539] Trial 21 finished with value: 0.9610685785536159 and parameters: {'weights': 'uniform', 'n_components': 6, 'n_neighbors': 69}. Best is trial 3 with value: 0.9645598503740649.\n",
      "[I 2024-02-14 03:30:39,076] Trial 22 finished with value: 0.959571072319202 and parameters: {'weights': 'uniform', 'n_components': 7, 'n_neighbors': 58}. Best is trial 3 with value: 0.9645598503740649.\n",
      "[I 2024-02-14 03:30:39,574] Trial 23 finished with value: 0.9076533665835411 and parameters: {'weights': 'uniform', 'n_components': 3, 'n_neighbors': 80}. Best is trial 3 with value: 0.9645598503740649.\n",
      "[I 2024-02-14 03:30:40,138] Trial 24 finished with value: 0.9390985037406484 and parameters: {'weights': 'uniform', 'n_components': 23, 'n_neighbors': 27}. Best is trial 3 with value: 0.9645598503740649.\n",
      "[I 2024-02-14 03:30:40,663] Trial 25 finished with value: 0.9430960099750623 and parameters: {'weights': 'uniform', 'n_components': 16, 'n_neighbors': 66}. Best is trial 3 with value: 0.9645598503740649.\n",
      "[I 2024-02-14 03:30:41,187] Trial 26 finished with value: 0.9550810473815462 and parameters: {'weights': 'uniform', 'n_components': 10, 'n_neighbors': 39}. Best is trial 3 with value: 0.9645598503740649.\n",
      "[I 2024-02-14 03:30:41,663] Trial 27 finished with value: 0.9605698254364089 and parameters: {'weights': 'uniform', 'n_components': 6, 'n_neighbors': 59}. Best is trial 3 with value: 0.9645598503740649.\n",
      "[I 2024-02-14 03:30:42,211] Trial 28 finished with value: 0.9440960099750623 and parameters: {'weights': 'distance', 'n_components': 13, 'n_neighbors': 81}. Best is trial 3 with value: 0.9645598503740649.\n",
      "[I 2024-02-14 03:30:42,720] Trial 29 finished with value: 0.9590723192019951 and parameters: {'weights': 'distance', 'n_components': 9, 'n_neighbors': 43}. Best is trial 3 with value: 0.9645598503740649.\n",
      "[I 2024-02-14 03:30:43,333] Trial 30 finished with value: 0.9356072319201993 and parameters: {'weights': 'uniform', 'n_components': 21, 'n_neighbors': 53}. Best is trial 3 with value: 0.9645598503740649.\n",
      "[I 2024-02-14 03:30:43,835] Trial 31 finished with value: 0.9605698254364089 and parameters: {'weights': 'uniform', 'n_components': 6, 'n_neighbors': 68}. Best is trial 3 with value: 0.9645598503740649.\n",
      "[I 2024-02-14 03:30:44,312] Trial 32 finished with value: 0.9595710723192019 and parameters: {'weights': 'uniform', 'n_components': 6, 'n_neighbors': 70}. Best is trial 3 with value: 0.9645598503740649.\n",
      "[I 2024-02-14 03:30:44,783] Trial 33 finished with value: 0.9066558603491272 and parameters: {'weights': 'uniform', 'n_components': 3, 'n_neighbors': 85}. Best is trial 3 with value: 0.9645598503740649.\n",
      "[I 2024-02-14 03:30:45,281] Trial 34 finished with value: 0.9555773067331671 and parameters: {'weights': 'uniform', 'n_components': 8, 'n_neighbors': 61}. Best is trial 3 with value: 0.9645598503740649.\n",
      "[I 2024-02-14 03:30:45,938] Trial 35 finished with value: 0.91364463840399 and parameters: {'weights': 'distance', 'n_components': 35, 'n_neighbors': 73}. Best is trial 3 with value: 0.9645598503740649.\n",
      "[I 2024-02-14 03:30:46,512] Trial 36 finished with value: 0.9366072319201996 and parameters: {'weights': 'uniform', 'n_components': 15, 'n_neighbors': 94}. Best is trial 3 with value: 0.9645598503740649.\n",
      "[I 2024-02-14 03:30:47,024] Trial 37 finished with value: 0.9660598503740649 and parameters: {'weights': 'distance', 'n_components': 5, 'n_neighbors': 55}. Best is trial 37 with value: 0.9660598503740649.\n",
      "[I 2024-02-14 03:30:47,833] Trial 38 finished with value: 0.9091508728179551 and parameters: {'weights': 'distance', 'n_components': 48, 'n_neighbors': 49}. Best is trial 37 with value: 0.9660598503740649.\n",
      "[I 2024-02-14 03:30:48,334] Trial 39 finished with value: 0.965561097256858 and parameters: {'weights': 'distance', 'n_components': 5, 'n_neighbors': 56}. Best is trial 37 with value: 0.9660598503740649.\n",
      "[I 2024-02-14 03:30:48,874] Trial 40 finished with value: 0.957076059850374 and parameters: {'weights': 'distance', 'n_components': 11, 'n_neighbors': 33}. Best is trial 37 with value: 0.9660598503740649.\n",
      "[I 2024-02-14 03:30:49,393] Trial 41 finished with value: 0.963564837905237 and parameters: {'weights': 'distance', 'n_components': 5, 'n_neighbors': 63}. Best is trial 37 with value: 0.9660598503740649.\n",
      "[I 2024-02-14 03:30:49,914] Trial 42 finished with value: 0.965562344139651 and parameters: {'weights': 'distance', 'n_components': 5, 'n_neighbors': 54}. Best is trial 37 with value: 0.9660598503740649.\n",
      "[I 2024-02-14 03:30:50,402] Trial 43 finished with value: 0.9670598503740649 and parameters: {'weights': 'distance', 'n_components': 5, 'n_neighbors': 55}. Best is trial 43 with value: 0.9670598503740649.\n",
      "[I 2024-02-14 03:30:50,870] Trial 44 finished with value: 0.9675561097256858 and parameters: {'weights': 'distance', 'n_components': 4, 'n_neighbors': 54}. Best is trial 44 with value: 0.9675561097256858.\n",
      "[I 2024-02-14 03:30:51,386] Trial 45 finished with value: 0.9595723192019949 and parameters: {'weights': 'distance', 'n_components': 8, 'n_neighbors': 55}. Best is trial 44 with value: 0.9675561097256858.\n",
      "[I 2024-02-14 03:30:52,175] Trial 46 finished with value: 0.9101508728179551 and parameters: {'weights': 'distance', 'n_components': 45, 'n_neighbors': 49}. Best is trial 44 with value: 0.9675561097256858.\n",
      "[I 2024-02-14 03:30:52,782] Trial 47 finished with value: 0.9311184538653366 and parameters: {'weights': 'distance', 'n_components': 27, 'n_neighbors': 53}. Best is trial 44 with value: 0.9675561097256858.\n",
      "[I 2024-02-14 03:30:53,256] Trial 48 finished with value: 0.9675561097256858 and parameters: {'weights': 'distance', 'n_components': 4, 'n_neighbors': 58}. Best is trial 44 with value: 0.9675561097256858.\n",
      "[I 2024-02-14 03:30:53,759] Trial 49 finished with value: 0.958073566084788 and parameters: {'weights': 'distance', 'n_components': 10, 'n_neighbors': 46}. Best is trial 44 with value: 0.9675561097256858.\n",
      "[I 2024-02-14 03:30:54,269] Trial 50 finished with value: 0.9670573566084787 and parameters: {'weights': 'distance', 'n_components': 4, 'n_neighbors': 64}. Best is trial 44 with value: 0.9675561097256858.\n",
      "[I 2024-02-14 03:30:54,744] Trial 51 finished with value: 0.9665573566084789 and parameters: {'weights': 'distance', 'n_components': 4, 'n_neighbors': 63}. Best is trial 44 with value: 0.9675561097256858.\n",
      "[I 2024-02-14 03:30:55,191] Trial 52 finished with value: 0.9131471321695759 and parameters: {'weights': 'distance', 'n_components': 3, 'n_neighbors': 63}. Best is trial 44 with value: 0.9675561097256858.\n",
      "[I 2024-02-14 03:30:55,683] Trial 53 finished with value: 0.958572319201995 and parameters: {'weights': 'distance', 'n_components': 8, 'n_neighbors': 58}. Best is trial 44 with value: 0.9675561097256858.\n",
      "[I 2024-02-14 03:30:56,161] Trial 54 finished with value: 0.9670573566084787 and parameters: {'weights': 'distance', 'n_components': 4, 'n_neighbors': 64}. Best is trial 44 with value: 0.9675561097256858.\n",
      "[I 2024-02-14 03:30:56,690] Trial 55 finished with value: 0.9500835411471321 and parameters: {'weights': 'distance', 'n_components': 12, 'n_neighbors': 65}. Best is trial 44 with value: 0.9675561097256858.\n",
      "[I 2024-02-14 03:30:57,149] Trial 56 finished with value: 0.9131471321695759 and parameters: {'weights': 'distance', 'n_components': 3, 'n_neighbors': 62}. Best is trial 44 with value: 0.9675561097256858.\n",
      "[I 2024-02-14 03:30:57,664] Trial 57 finished with value: 0.9550760598503741 and parameters: {'weights': 'distance', 'n_components': 9, 'n_neighbors': 76}. Best is trial 44 with value: 0.9675561097256858.\n",
      "[I 2024-02-14 03:30:58,121] Trial 58 finished with value: 0.9665586034912718 and parameters: {'weights': 'distance', 'n_components': 4, 'n_neighbors': 67}. Best is trial 44 with value: 0.9675561097256858.\n",
      "[I 2024-02-14 03:30:58,787] Trial 59 finished with value: 0.9241296758104738 and parameters: {'weights': 'distance', 'n_components': 29, 'n_neighbors': 67}. Best is trial 44 with value: 0.9675561097256858.\n",
      "[I 2024-02-14 03:30:59,297] Trial 60 finished with value: 0.9485922693266833 and parameters: {'weights': 'distance', 'n_components': 14, 'n_neighbors': 59}. Best is trial 44 with value: 0.9675561097256858.\n",
      "[I 2024-02-14 03:30:59,759] Trial 61 finished with value: 0.9675561097256858 and parameters: {'weights': 'distance', 'n_components': 4, 'n_neighbors': 51}. Best is trial 44 with value: 0.9675561097256858.\n",
      "[I 2024-02-14 03:31:00,272] Trial 62 finished with value: 0.9620660847880298 and parameters: {'weights': 'distance', 'n_components': 7, 'n_neighbors': 51}. Best is trial 44 with value: 0.9675561097256858.\n",
      "[I 2024-02-14 03:31:00,737] Trial 63 finished with value: 0.9675548628428927 and parameters: {'weights': 'distance', 'n_components': 4, 'n_neighbors': 47}. Best is trial 44 with value: 0.9675561097256858.\n",
      "[I 2024-02-14 03:31:01,226] Trial 64 finished with value: 0.9620673316708229 and parameters: {'weights': 'distance', 'n_components': 7, 'n_neighbors': 38}. Best is trial 44 with value: 0.9675561097256858.\n",
      "[I 2024-02-14 03:31:01,707] Trial 65 finished with value: 0.9540810473815462 and parameters: {'weights': 'distance', 'n_components': 10, 'n_neighbors': 46}. Best is trial 44 with value: 0.9675561097256858.\n",
      "[I 2024-02-14 03:31:02,169] Trial 66 finished with value: 0.9670573566084787 and parameters: {'weights': 'distance', 'n_components': 4, 'n_neighbors': 57}. Best is trial 44 with value: 0.9675561097256858.\n",
      "[I 2024-02-14 03:31:02,660] Trial 67 finished with value: 0.966559850374065 and parameters: {'weights': 'distance', 'n_components': 5, 'n_neighbors': 49}. Best is trial 44 with value: 0.9675561097256858.\n",
      "[I 2024-02-14 03:31:03,157] Trial 68 finished with value: 0.958571072319202 and parameters: {'weights': 'distance', 'n_components': 8, 'n_neighbors': 51}. Best is trial 44 with value: 0.9675561097256858.\n",
      "[I 2024-02-14 03:31:03,846] Trial 69 finished with value: 0.9246284289276808 and parameters: {'weights': 'distance', 'n_components': 33, 'n_neighbors': 41}. Best is trial 44 with value: 0.9675561097256858.\n",
      "[I 2024-02-14 03:31:04,395] Trial 70 finished with value: 0.9525822942643393 and parameters: {'weights': 'distance', 'n_components': 11, 'n_neighbors': 60}. Best is trial 44 with value: 0.9675561097256858.\n",
      "[I 2024-02-14 03:31:04,863] Trial 71 finished with value: 0.9146433915211969 and parameters: {'weights': 'distance', 'n_components': 3, 'n_neighbors': 57}. Best is trial 44 with value: 0.9675561097256858.\n",
      "[I 2024-02-14 03:31:05,370] Trial 72 finished with value: 0.9675548628428927 and parameters: {'weights': 'distance', 'n_components': 4, 'n_neighbors': 46}. Best is trial 44 with value: 0.9675561097256858.\n",
      "[I 2024-02-14 03:31:05,842] Trial 73 finished with value: 0.965561097256858 and parameters: {'weights': 'distance', 'n_components': 6, 'n_neighbors': 46}. Best is trial 44 with value: 0.9675561097256858.\n",
      "[I 2024-02-14 03:31:06,323] Trial 74 finished with value: 0.9700511221945138 and parameters: {'weights': 'distance', 'n_components': 4, 'n_neighbors': 35}. Best is trial 74 with value: 0.9700511221945138.\n",
      "[I 2024-02-14 03:31:06,837] Trial 75 finished with value: 0.9655623441396509 and parameters: {'weights': 'distance', 'n_components': 7, 'n_neighbors': 29}. Best is trial 74 with value: 0.9700511221945138.\n",
      "[I 2024-02-14 03:31:07,439] Trial 76 finished with value: 0.959573566084788 and parameters: {'weights': 'distance', 'n_components': 9, 'n_neighbors': 36}. Best is trial 74 with value: 0.9700511221945138.\n",
      "[I 2024-02-14 03:31:08,012] Trial 77 finished with value: 0.9665573566084789 and parameters: {'weights': 'distance', 'n_components': 6, 'n_neighbors': 23}. Best is trial 74 with value: 0.9700511221945138.\n",
      "[I 2024-02-14 03:31:08,788] Trial 78 finished with value: 0.912647132169576 and parameters: {'weights': 'distance', 'n_components': 41, 'n_neighbors': 43}. Best is trial 74 with value: 0.9700511221945138.\n",
      "[I 2024-02-14 03:31:09,312] Trial 79 finished with value: 0.9685536159600998 and parameters: {'weights': 'distance', 'n_components': 5, 'n_neighbors': 19}. Best is trial 74 with value: 0.9700511221945138.\n",
      "[I 2024-02-14 03:31:09,941] Trial 80 finished with value: 0.9635623441396509 and parameters: {'weights': 'distance', 'n_components': 8, 'n_neighbors': 32}. Best is trial 74 with value: 0.9700511221945138.\n",
      "[I 2024-02-14 03:31:10,416] Trial 81 finished with value: 0.9161396508728179 and parameters: {'weights': 'distance', 'n_components': 3, 'n_neighbors': 13}. Best is trial 74 with value: 0.9700511221945138.\n",
      "[I 2024-02-14 03:31:10,971] Trial 82 finished with value: 0.9660586034912718 and parameters: {'weights': 'distance', 'n_components': 5, 'n_neighbors': 48}. Best is trial 74 with value: 0.9700511221945138.\n",
      "[I 2024-02-14 03:31:11,473] Trial 83 finished with value: 0.9695511221945136 and parameters: {'weights': 'distance', 'n_components': 4, 'n_neighbors': 22}. Best is trial 74 with value: 0.9700511221945138.\n",
      "[I 2024-02-14 03:31:11,952] Trial 84 finished with value: 0.9655623441396509 and parameters: {'weights': 'distance', 'n_components': 6, 'n_neighbors': 23}. Best is trial 74 with value: 0.9700511221945138.\n",
      "[I 2024-02-14 03:31:12,454] Trial 85 finished with value: 0.9660573566084789 and parameters: {'weights': 'distance', 'n_components': 5, 'n_neighbors': 16}. Best is trial 74 with value: 0.9700511221945138.\n",
      "[I 2024-02-14 03:31:12,912] Trial 86 finished with value: 0.915640897755611 and parameters: {'weights': 'distance', 'n_components': 3, 'n_neighbors': 19}. Best is trial 74 with value: 0.9700511221945138.\n",
      "[I 2024-02-14 03:31:13,399] Trial 87 finished with value: 0.9665623441396509 and parameters: {'weights': 'distance', 'n_components': 7, 'n_neighbors': 21}. Best is trial 74 with value: 0.9700511221945138.\n",
      "[I 2024-02-14 03:31:13,908] Trial 88 finished with value: 0.960067331670823 and parameters: {'weights': 'distance', 'n_components': 10, 'n_neighbors': 17}. Best is trial 74 with value: 0.9700511221945138.\n",
      "[I 2024-02-14 03:31:14,499] Trial 89 finished with value: 0.9400997506234413 and parameters: {'weights': 'distance', 'n_components': 25, 'n_neighbors': 11}. Best is trial 74 with value: 0.9700511221945138.\n",
      "[I 2024-02-14 03:31:14,971] Trial 90 finished with value: 0.9705498753117208 and parameters: {'weights': 'distance', 'n_components': 4, 'n_neighbors': 27}. Best is trial 90 with value: 0.9705498753117208.\n",
      "[I 2024-02-14 03:31:15,425] Trial 91 finished with value: 0.9695523690773069 and parameters: {'weights': 'distance', 'n_components': 4, 'n_neighbors': 29}. Best is trial 90 with value: 0.9705498753117208.\n",
      "[I 2024-02-14 03:31:15,887] Trial 92 finished with value: 0.9700498753117207 and parameters: {'weights': 'distance', 'n_components': 4, 'n_neighbors': 26}. Best is trial 90 with value: 0.9705498753117208.\n",
      "[I 2024-02-14 03:31:16,392] Trial 93 finished with value: 0.9655598503740649 and parameters: {'weights': 'distance', 'n_components': 6, 'n_neighbors': 28}. Best is trial 90 with value: 0.9705498753117208.\n",
      "[I 2024-02-14 03:31:16,882] Trial 94 finished with value: 0.9690498753117206 and parameters: {'weights': 'distance', 'n_components': 4, 'n_neighbors': 24}. Best is trial 90 with value: 0.9705498753117208.\n",
      "[I 2024-02-14 03:31:17,362] Trial 95 finished with value: 0.9645623441396509 and parameters: {'weights': 'distance', 'n_components': 7, 'n_neighbors': 25}. Best is trial 90 with value: 0.9705498753117208.\n",
      "[I 2024-02-14 03:31:17,810] Trial 96 finished with value: 0.917135910224439 and parameters: {'weights': 'distance', 'n_components': 3, 'n_neighbors': 31}. Best is trial 90 with value: 0.9705498753117208.\n",
      "[I 2024-02-14 03:31:18,305] Trial 97 finished with value: 0.9685561097256858 and parameters: {'weights': 'distance', 'n_components': 5, 'n_neighbors': 26}. Best is trial 90 with value: 0.9705498753117208.\n",
      "[I 2024-02-14 03:31:18,838] Trial 98 finished with value: 0.962568578553616 and parameters: {'weights': 'distance', 'n_components': 9, 'n_neighbors': 25}. Best is trial 90 with value: 0.9705498753117208.\n",
      "[I 2024-02-14 03:31:19,359] Trial 99 finished with value: 0.9665586034912719 and parameters: {'weights': 'distance', 'n_components': 5, 'n_neighbors': 30}. Best is trial 90 with value: 0.9705498753117208.\n"
     ]
    }
   ],
   "source": [
    "study = optuna.create_study(direction=\"maximize\")\n",
    "study.optimize(objective, n_trials=100, n_jobs=2)"
   ]
  },
  {
   "cell_type": "code",
   "execution_count": 47,
   "metadata": {},
   "outputs": [
    {
     "name": "stdout",
     "output_type": "stream",
     "text": [
      "Accuracy: 0.966\n",
      "Balanced accuracy: 0.957\n"
     ]
    }
   ],
   "source": [
    "model = make_pipeline(\n",
    "    OneHotEncoder(handle_unknown=\"ignore\", sparse_output=False, dtype=np.int8),\n",
    "    KNNImputer(n_neighbors=7),\n",
    "    PCA(n_components=study.best_params[\"n_components\"]),\n",
    "    KNeighborsClassifier(n_neighbors=study.best_params[\"n_neighbors\"], weights=study.best_params[\"weights\"], n_jobs=4),\n",
    ")\n",
    "\n",
    "model.fit(X_train, y_train)\n",
    "y_test_pred = model.predict(X_test)\n",
    "\n",
    "print(f\"Accuracy: {accuracy_score(y_test, y_test_pred).round(3)}\")\n",
    "print(f\"Balanced accuracy: {balanced_accuracy_score(y_test, y_test_pred).round(3)}\")"
   ]
  },
  {
   "cell_type": "code",
   "execution_count": 49,
   "metadata": {},
   "outputs": [
    {
     "data": {
      "text/plain": [
       "['/home/vscode/.ezancestry/data/models/kidd_superpopulation.joblib']"
      ]
     },
     "execution_count": 49,
     "metadata": {},
     "output_type": "execute_result"
    }
   ],
   "source": [
    "# Save the model\n",
    "model_path = Path(_models_directory) / f\"kidd_{_population_level}.joblib\"\n",
    "model_path.parent.mkdir(parents=True, exist_ok=True)\n",
    "joblib.dump(model, model_path)"
   ]
  },
  {
   "cell_type": "markdown",
   "metadata": {},
   "source": [
    "# Kidd AISNPs to predict population"
   ]
  },
  {
   "cell_type": "code",
   "execution_count": 50,
   "metadata": {},
   "outputs": [],
   "source": [
    "label = \"population\""
   ]
  },
  {
   "cell_type": "code",
   "execution_count": 51,
   "metadata": {},
   "outputs": [],
   "source": [
    "X_train, X_test, y_train, y_test = train_test_split(\n",
    "    kidd1kg.drop(columns=todrop),\n",
    "    kidd1kg[label],\n",
    "    test_size=0.2,\n",
    "    random_state=42,\n",
    ")"
   ]
  },
  {
   "cell_type": "code",
   "execution_count": 57,
   "metadata": {},
   "outputs": [],
   "source": [
    "topk_scorer = make_scorer(top_k_accuracy_score, needs_proba=True, k=2)"
   ]
  },
  {
   "cell_type": "code",
   "execution_count": 58,
   "metadata": {},
   "outputs": [],
   "source": [
    "def objective(trial):\n",
    "    weights = trial.suggest_categorical(\"weights\", [\"uniform\", \"distance\"])\n",
    "    n_components = trial.suggest_int(\"n_components\", 3, 50)\n",
    "    n_neighbors = trial.suggest_int(\"n_neighbors\", 11, 100)\n",
    "\n",
    "    model = make_pipeline(\n",
    "        OneHotEncoder(handle_unknown=\"ignore\", sparse_output=False, dtype=np.int8),\n",
    "        KNNImputer(n_neighbors=7),\n",
    "        PCA(n_components=n_components),\n",
    "        KNeighborsClassifier(n_neighbors=n_neighbors, weights=weights, n_jobs=4),\n",
    "    )\n",
    "\n",
    "    return cross_val_score(model, X_train, y_train, n_jobs=4, scoring=topk_scorer, cv=StratifiedKFold(5)).mean()"
   ]
  },
  {
   "cell_type": "code",
   "execution_count": 59,
   "metadata": {},
   "outputs": [
    {
     "name": "stderr",
     "output_type": "stream",
     "text": [
      "[I 2024-02-14 03:40:44,170] A new study created in memory with name: no-name-044059a7-dcc2-44a8-a189-a6da0b40bd1f\n",
      "[I 2024-02-14 03:40:44,942] Trial 0 finished with value: 0.5122369077306733 and parameters: {'weights': 'distance', 'n_components': 27, 'n_neighbors': 46}. Best is trial 0 with value: 0.5122369077306733.\n",
      "[I 2024-02-14 03:40:45,263] Trial 1 finished with value: 0.5102306733167083 and parameters: {'weights': 'distance', 'n_components': 10, 'n_neighbors': 72}. Best is trial 0 with value: 0.5122369077306733.\n",
      "[I 2024-02-14 03:40:45,861] Trial 2 finished with value: 0.4957643391521197 and parameters: {'weights': 'uniform', 'n_components': 46, 'n_neighbors': 88}. Best is trial 0 with value: 0.5122369077306733.\n",
      "[I 2024-02-14 03:40:46,351] Trial 3 finished with value: 0.49276309226932663 and parameters: {'weights': 'uniform', 'n_components': 40, 'n_neighbors': 45}. Best is trial 0 with value: 0.5122369077306733.\n",
      "[I 2024-02-14 03:40:46,840] Trial 4 finished with value: 0.4962593516209477 and parameters: {'weights': 'uniform', 'n_components': 29, 'n_neighbors': 73}. Best is trial 0 with value: 0.5122369077306733.\n",
      "[I 2024-02-14 03:40:47,616] Trial 5 finished with value: 0.46130798004987533 and parameters: {'weights': 'distance', 'n_components': 41, 'n_neighbors': 15}. Best is trial 0 with value: 0.5122369077306733.\n",
      "[I 2024-02-14 03:40:47,841] Trial 6 finished with value: 0.5057256857855361 and parameters: {'weights': 'uniform', 'n_components': 12, 'n_neighbors': 69}. Best is trial 0 with value: 0.5122369077306733.\n",
      "[I 2024-02-14 03:40:48,320] Trial 7 finished with value: 0.5102394014962593 and parameters: {'weights': 'distance', 'n_components': 17, 'n_neighbors': 39}. Best is trial 0 with value: 0.5122369077306733.\n",
      "[I 2024-02-14 03:40:48,787] Trial 8 finished with value: 0.49226558603491266 and parameters: {'weights': 'distance', 'n_components': 18, 'n_neighbors': 22}. Best is trial 0 with value: 0.5122369077306733.\n",
      "[I 2024-02-14 03:40:49,493] Trial 9 finished with value: 0.48028179551122197 and parameters: {'weights': 'uniform', 'n_components': 45, 'n_neighbors': 33}. Best is trial 0 with value: 0.5122369077306733.\n",
      "[I 2024-02-14 03:40:49,835] Trial 10 finished with value: 0.5157069825436409 and parameters: {'weights': 'uniform', 'n_components': 13, 'n_neighbors': 42}. Best is trial 10 with value: 0.5157069825436409.\n",
      "[I 2024-02-14 03:40:50,309] Trial 11 finished with value: 0.49826932668329177 and parameters: {'weights': 'distance', 'n_components': 31, 'n_neighbors': 56}. Best is trial 10 with value: 0.5157069825436409.\n",
      "[I 2024-02-14 03:40:50,795] Trial 12 finished with value: 0.5047406483790524 and parameters: {'weights': 'distance', 'n_components': 29, 'n_neighbors': 54}. Best is trial 10 with value: 0.5157069825436409.\n",
      "[I 2024-02-14 03:40:51,127] Trial 13 finished with value: 0.5446795511221945 and parameters: {'weights': 'distance', 'n_components': 5, 'n_neighbors': 54}. Best is trial 13 with value: 0.5446795511221945.\n",
      "[I 2024-02-14 03:40:51,503] Trial 14 finished with value: 0.5456832917705735 and parameters: {'weights': 'uniform', 'n_components': 6, 'n_neighbors': 29}. Best is trial 14 with value: 0.5456832917705735.\n",
      "[I 2024-02-14 03:40:51,825] Trial 15 finished with value: 0.5361945137157107 and parameters: {'weights': 'uniform', 'n_components': 5, 'n_neighbors': 31}. Best is trial 14 with value: 0.5456832917705735.\n",
      "[I 2024-02-14 03:40:52,215] Trial 16 finished with value: 0.5127493765586035 and parameters: {'weights': 'uniform', 'n_components': 3, 'n_neighbors': 25}. Best is trial 14 with value: 0.5456832917705735.\n",
      "[I 2024-02-14 03:40:52,541] Trial 17 finished with value: 0.5172331670822943 and parameters: {'weights': 'uniform', 'n_components': 3, 'n_neighbors': 97}. Best is trial 14 with value: 0.5456832917705735.\n",
      "[I 2024-02-14 03:40:52,934] Trial 18 finished with value: 0.467786783042394 and parameters: {'weights': 'distance', 'n_components': 22, 'n_neighbors': 11}. Best is trial 14 with value: 0.5456832917705735.\n",
      "[I 2024-02-14 03:40:53,454] Trial 19 finished with value: 0.4852680798004988 and parameters: {'weights': 'distance', 'n_components': 21, 'n_neighbors': 11}. Best is trial 14 with value: 0.5456832917705735.\n",
      "[I 2024-02-14 03:40:53,785] Trial 20 finished with value: 0.5456770573566085 and parameters: {'weights': 'distance', 'n_components': 7, 'n_neighbors': 54}. Best is trial 14 with value: 0.5456832917705735.\n",
      "[I 2024-02-14 03:40:54,262] Trial 21 finished with value: 0.5346932668329176 and parameters: {'weights': 'distance', 'n_components': 9, 'n_neighbors': 61}. Best is trial 14 with value: 0.5456832917705735.\n",
      "[I 2024-02-14 03:40:54,711] Trial 22 finished with value: 0.5381932668329177 and parameters: {'weights': 'distance', 'n_components': 8, 'n_neighbors': 59}. Best is trial 14 with value: 0.5456832917705735.\n",
      "[I 2024-02-14 03:40:55,047] Trial 23 finished with value: 0.5471845386533666 and parameters: {'weights': 'distance', 'n_components': 7, 'n_neighbors': 65}. Best is trial 23 with value: 0.5471845386533666.\n",
      "[I 2024-02-14 03:40:55,547] Trial 24 finished with value: 0.5272144638403989 and parameters: {'weights': 'distance', 'n_components': 14, 'n_neighbors': 79}. Best is trial 23 with value: 0.5471845386533666.\n",
      "[I 2024-02-14 03:40:56,000] Trial 25 finished with value: 0.5077356608478804 and parameters: {'weights': 'distance', 'n_components': 14, 'n_neighbors': 82}. Best is trial 23 with value: 0.5471845386533666.\n",
      "[I 2024-02-14 03:40:56,534] Trial 26 finished with value: 0.5082394014962593 and parameters: {'weights': 'distance', 'n_components': 34, 'n_neighbors': 65}. Best is trial 23 with value: 0.5471845386533666.\n",
      "[I 2024-02-14 03:40:56,800] Trial 27 finished with value: 0.5386932668329176 and parameters: {'weights': 'uniform', 'n_components': 7, 'n_neighbors': 65}. Best is trial 23 with value: 0.5471845386533666.\n",
      "[I 2024-02-14 03:40:57,262] Trial 28 finished with value: 0.5292019950124688 and parameters: {'weights': 'uniform', 'n_components': 8, 'n_neighbors': 49}. Best is trial 23 with value: 0.5471845386533666.\n",
      "[I 2024-02-14 03:40:57,754] Trial 29 finished with value: 0.5057381546134663 and parameters: {'weights': 'uniform', 'n_components': 23, 'n_neighbors': 50}. Best is trial 23 with value: 0.5471845386533666.\n",
      "[I 2024-02-14 03:40:58,368] Trial 30 finished with value: 0.5142269326683293 and parameters: {'weights': 'distance', 'n_components': 23, 'n_neighbors': 37}. Best is trial 23 with value: 0.5471845386533666.\n",
      "[I 2024-02-14 03:40:58,743] Trial 31 finished with value: 0.49576059850374066 and parameters: {'weights': 'distance', 'n_components': 18, 'n_neighbors': 38}. Best is trial 23 with value: 0.5471845386533666.\n",
      "[I 2024-02-14 03:40:59,033] Trial 32 finished with value: 0.5386895261845387 and parameters: {'weights': 'distance', 'n_components': 6, 'n_neighbors': 51}. Best is trial 23 with value: 0.5471845386533666.\n",
      "[I 2024-02-14 03:40:59,428] Trial 33 finished with value: 0.5436733167082294 and parameters: {'weights': 'distance', 'n_components': 6, 'n_neighbors': 51}. Best is trial 23 with value: 0.5471845386533666.\n",
      "[I 2024-02-14 03:40:59,993] Trial 34 finished with value: 0.527214463840399 and parameters: {'weights': 'distance', 'n_components': 11, 'n_neighbors': 75}. Best is trial 23 with value: 0.5471845386533666.\n",
      "[I 2024-02-14 03:41:00,320] Trial 35 finished with value: 0.5381807980049875 and parameters: {'weights': 'distance', 'n_components': 11, 'n_neighbors': 78}. Best is trial 23 with value: 0.5471845386533666.\n",
      "[I 2024-02-14 03:41:00,658] Trial 36 finished with value: 0.5237094763092269 and parameters: {'weights': 'distance', 'n_components': 10, 'n_neighbors': 45}. Best is trial 23 with value: 0.5471845386533666.\n",
      "[I 2024-02-14 03:41:01,004] Trial 37 finished with value: 0.5277319201995012 and parameters: {'weights': 'distance', 'n_components': 3, 'n_neighbors': 90}. Best is trial 23 with value: 0.5471845386533666.\n",
      "[I 2024-02-14 03:41:01,385] Trial 38 finished with value: 0.5292256857855361 and parameters: {'weights': 'distance', 'n_components': 3, 'n_neighbors': 87}. Best is trial 23 with value: 0.5471845386533666.\n",
      "[I 2024-02-14 03:41:01,730] Trial 39 finished with value: 0.5147356608478804 and parameters: {'weights': 'uniform', 'n_components': 16, 'n_neighbors': 71}. Best is trial 23 with value: 0.5471845386533666.\n",
      "[I 2024-02-14 03:41:02,515] Trial 40 finished with value: 0.48228553615960096 and parameters: {'weights': 'uniform', 'n_components': 49, 'n_neighbors': 70}. Best is trial 23 with value: 0.5471845386533666.\n",
      "[I 2024-02-14 03:41:02,847] Trial 41 finished with value: 0.5042344139650873 and parameters: {'weights': 'uniform', 'n_components': 15, 'n_neighbors': 23}. Best is trial 23 with value: 0.5471845386533666.\n",
      "[I 2024-02-14 03:41:03,164] Trial 42 finished with value: 0.5536633416458853 and parameters: {'weights': 'distance', 'n_components': 5, 'n_neighbors': 64}. Best is trial 42 with value: 0.5536633416458853.\n",
      "[I 2024-02-14 03:41:03,482] Trial 43 finished with value: 0.5326882793017457 and parameters: {'weights': 'distance', 'n_components': 6, 'n_neighbors': 63}. Best is trial 42 with value: 0.5536633416458853.\n",
      "[I 2024-02-14 03:41:03,950] Trial 44 finished with value: 0.5441683291770574 and parameters: {'weights': 'distance', 'n_components': 5, 'n_neighbors': 64}. Best is trial 42 with value: 0.5536633416458853.\n",
      "[I 2024-02-14 03:41:04,349] Trial 45 finished with value: 0.5361807980049875 and parameters: {'weights': 'distance', 'n_components': 9, 'n_neighbors': 57}. Best is trial 42 with value: 0.5536633416458853.\n",
      "[I 2024-02-14 03:41:04,815] Trial 46 finished with value: 0.5306920199501246 and parameters: {'weights': 'distance', 'n_components': 9, 'n_neighbors': 56}. Best is trial 42 with value: 0.5536633416458853.\n",
      "[I 2024-02-14 03:41:05,232] Trial 47 finished with value: 0.5242107231920199 and parameters: {'weights': 'distance', 'n_components': 12, 'n_neighbors': 45}. Best is trial 42 with value: 0.5536633416458853.\n",
      "[I 2024-02-14 03:41:05,615] Trial 48 finished with value: 0.5197032418952618 and parameters: {'weights': 'distance', 'n_components': 12, 'n_neighbors': 28}. Best is trial 42 with value: 0.5536633416458853.\n",
      "[I 2024-02-14 03:41:06,146] Trial 49 finished with value: 0.48876433915211975 and parameters: {'weights': 'distance', 'n_components': 39, 'n_neighbors': 32}. Best is trial 42 with value: 0.5536633416458853.\n",
      "[I 2024-02-14 03:41:06,546] Trial 50 finished with value: 0.47129675810473814 and parameters: {'weights': 'uniform', 'n_components': 38, 'n_neighbors': 18}. Best is trial 42 with value: 0.5536633416458853.\n",
      "[I 2024-02-14 03:41:07,005] Trial 51 finished with value: 0.4907643391521197 and parameters: {'weights': 'uniform', 'n_components': 20, 'n_neighbors': 17}. Best is trial 42 with value: 0.5536633416458853.\n",
      "[I 2024-02-14 03:41:07,493] Trial 52 finished with value: 0.5406832917705736 and parameters: {'weights': 'distance', 'n_components': 5, 'n_neighbors': 67}. Best is trial 42 with value: 0.5536633416458853.\n",
      "[I 2024-02-14 03:41:07,974] Trial 53 finished with value: 0.5466596009975062 and parameters: {'weights': 'distance', 'n_components': 5, 'n_neighbors': 66}. Best is trial 42 with value: 0.5536633416458853.\n",
      "[I 2024-02-14 03:41:08,393] Trial 54 finished with value: 0.5426857855361595 and parameters: {'weights': 'distance', 'n_components': 5, 'n_neighbors': 62}. Best is trial 42 with value: 0.5536633416458853.\n",
      "[I 2024-02-14 03:41:08,906] Trial 55 finished with value: 0.5706633416458853 and parameters: {'weights': 'distance', 'n_components': 4, 'n_neighbors': 61}. Best is trial 55 with value: 0.5706633416458853.\n",
      "[I 2024-02-14 03:41:09,339] Trial 56 finished with value: 0.5431783042394015 and parameters: {'weights': 'distance', 'n_components': 7, 'n_neighbors': 75}. Best is trial 55 with value: 0.5706633416458853.\n",
      "[I 2024-02-14 03:41:09,855] Trial 57 finished with value: 0.5381758104738155 and parameters: {'weights': 'distance', 'n_components': 7, 'n_neighbors': 75}. Best is trial 55 with value: 0.5706633416458853.\n",
      "[I 2024-02-14 03:41:10,420] Trial 58 finished with value: 0.5172456359102244 and parameters: {'weights': 'distance', 'n_components': 3, 'n_neighbors': 58}. Best is trial 55 with value: 0.5706633416458853.\n",
      "[I 2024-02-14 03:41:10,763] Trial 59 finished with value: 0.5227381546134663 and parameters: {'weights': 'distance', 'n_components': 3, 'n_neighbors': 67}. Best is trial 55 with value: 0.5706633416458853.\n",
      "[I 2024-02-14 03:41:11,237] Trial 60 finished with value: 0.5212157107231921 and parameters: {'weights': 'distance', 'n_components': 26, 'n_neighbors': 68}. Best is trial 55 with value: 0.5706633416458853.\n",
      "[I 2024-02-14 03:41:11,564] Trial 61 finished with value: 0.5317019950124688 and parameters: {'weights': 'distance', 'n_components': 9, 'n_neighbors': 60}. Best is trial 55 with value: 0.5706633416458853.\n",
      "[I 2024-02-14 03:41:11,925] Trial 62 finished with value: 0.5466683291770573 and parameters: {'weights': 'distance', 'n_components': 5, 'n_neighbors': 54}. Best is trial 55 with value: 0.5706633416458853.\n",
      "[I 2024-02-14 03:41:12,311] Trial 63 finished with value: 0.5461670822942644 and parameters: {'weights': 'distance', 'n_components': 5, 'n_neighbors': 55}. Best is trial 55 with value: 0.5706633416458853.\n",
      "[I 2024-02-14 03:41:12,703] Trial 64 finished with value: 0.5371832917705736 and parameters: {'weights': 'distance', 'n_components': 5, 'n_neighbors': 41}. Best is trial 55 with value: 0.5706633416458853.\n",
      "[I 2024-02-14 03:41:13,040] Trial 65 finished with value: 0.5486620947630924 and parameters: {'weights': 'distance', 'n_components': 5, 'n_neighbors': 72}. Best is trial 55 with value: 0.5706633416458853.\n",
      "[I 2024-02-14 03:41:13,405] Trial 66 finished with value: 0.5716658354114713 and parameters: {'weights': 'distance', 'n_components': 4, 'n_neighbors': 53}. Best is trial 66 with value: 0.5716658354114713.\n",
      "[I 2024-02-14 03:41:13,798] Trial 67 finished with value: 0.5666633416458853 and parameters: {'weights': 'distance', 'n_components': 4, 'n_neighbors': 73}. Best is trial 66 with value: 0.5716658354114713.\n",
      "[I 2024-02-14 03:41:14,230] Trial 68 finished with value: 0.5247219451371572 and parameters: {'weights': 'distance', 'n_components': 8, 'n_neighbors': 48}. Best is trial 66 with value: 0.5716658354114713.\n",
      "[I 2024-02-14 03:41:14,714] Trial 69 finished with value: 0.5351957605985037 and parameters: {'weights': 'distance', 'n_components': 8, 'n_neighbors': 82}. Best is trial 66 with value: 0.5716658354114713.\n",
      "[I 2024-02-14 03:41:15,198] Trial 70 finished with value: 0.5272032418952618 and parameters: {'weights': 'distance', 'n_components': 10, 'n_neighbors': 72}. Best is trial 66 with value: 0.5716658354114713.\n",
      "[I 2024-02-14 03:41:15,526] Trial 71 finished with value: 0.5746508728179551 and parameters: {'weights': 'distance', 'n_components': 4, 'n_neighbors': 60}. Best is trial 71 with value: 0.5746508728179551.\n",
      "[I 2024-02-14 03:41:16,010] Trial 72 finished with value: 0.5751546134663341 and parameters: {'weights': 'distance', 'n_components': 4, 'n_neighbors': 60}. Best is trial 72 with value: 0.5751546134663341.\n",
      "[I 2024-02-14 03:41:16,447] Trial 73 finished with value: 0.5721546134663342 and parameters: {'weights': 'distance', 'n_components': 4, 'n_neighbors': 60}. Best is trial 72 with value: 0.5751546134663341.\n",
      "[I 2024-02-14 03:41:16,806] Trial 74 finished with value: 0.5711596009975063 and parameters: {'weights': 'distance', 'n_components': 4, 'n_neighbors': 61}. Best is trial 72 with value: 0.5751546134663341.\n",
      "[I 2024-02-14 03:41:17,251] Trial 75 finished with value: 0.5686620947630923 and parameters: {'weights': 'distance', 'n_components': 4, 'n_neighbors': 62}. Best is trial 72 with value: 0.5751546134663341.\n",
      "[I 2024-02-14 03:41:17,595] Trial 76 finished with value: 0.5686620947630923 and parameters: {'weights': 'distance', 'n_components': 4, 'n_neighbors': 62}. Best is trial 72 with value: 0.5751546134663341.\n",
      "[I 2024-02-14 03:41:17,862] Trial 77 finished with value: 0.5192431421446384 and parameters: {'weights': 'distance', 'n_components': 3, 'n_neighbors': 61}. Best is trial 72 with value: 0.5751546134663341.\n",
      "[I 2024-02-14 03:41:18,219] Trial 78 finished with value: 0.5217344139650872 and parameters: {'weights': 'distance', 'n_components': 3, 'n_neighbors': 60}. Best is trial 72 with value: 0.5751546134663341.\n",
      "[I 2024-02-14 03:41:18,619] Trial 79 finished with value: 0.5331870324189526 and parameters: {'weights': 'distance', 'n_components': 7, 'n_neighbors': 52}. Best is trial 72 with value: 0.5751546134663341.\n",
      "[I 2024-02-14 03:41:19,026] Trial 80 finished with value: 0.5521645885286783 and parameters: {'weights': 'distance', 'n_components': 7, 'n_neighbors': 58}. Best is trial 72 with value: 0.5751546134663341.\n",
      "[I 2024-02-14 03:41:19,385] Trial 81 finished with value: 0.5137231920199501 and parameters: {'weights': 'distance', 'n_components': 10, 'n_neighbors': 58}. Best is trial 72 with value: 0.5751546134663341.\n",
      "[I 2024-02-14 03:41:19,716] Trial 82 finished with value: 0.5761620947630923 and parameters: {'weights': 'distance', 'n_components': 4, 'n_neighbors': 52}. Best is trial 82 with value: 0.5761620947630923.\n",
      "[I 2024-02-14 03:41:20,094] Trial 83 finished with value: 0.5152481296758105 and parameters: {'weights': 'distance', 'n_components': 3, 'n_neighbors': 48}. Best is trial 82 with value: 0.5761620947630923.\n",
      "[I 2024-02-14 03:41:20,464] Trial 84 finished with value: 0.5751645885286784 and parameters: {'weights': 'distance', 'n_components': 4, 'n_neighbors': 48}. Best is trial 82 with value: 0.5761620947630923.\n",
      "[I 2024-02-14 03:41:20,815] Trial 85 finished with value: 0.5686733167082295 and parameters: {'weights': 'distance', 'n_components': 4, 'n_neighbors': 53}. Best is trial 82 with value: 0.5761620947630923.\n",
      "[I 2024-02-14 03:41:21,095] Trial 86 finished with value: 0.5766596009975062 and parameters: {'weights': 'distance', 'n_components': 4, 'n_neighbors': 52}. Best is trial 86 with value: 0.5766596009975062.\n",
      "[I 2024-02-14 03:41:21,437] Trial 87 finished with value: 0.5431882793017457 and parameters: {'weights': 'distance', 'n_components': 6, 'n_neighbors': 43}. Best is trial 86 with value: 0.5766596009975062.\n",
      "[I 2024-02-14 03:41:21,962] Trial 88 finished with value: 0.5281895261845386 and parameters: {'weights': 'distance', 'n_components': 6, 'n_neighbors': 41}. Best is trial 86 with value: 0.5766596009975062.\n",
      "[I 2024-02-14 03:41:22,312] Trial 89 finished with value: 0.5276970074812967 and parameters: {'weights': 'distance', 'n_components': 8, 'n_neighbors': 47}. Best is trial 86 with value: 0.5766596009975062.\n",
      "[I 2024-02-14 03:41:22,646] Trial 90 finished with value: 0.5266945137157106 and parameters: {'weights': 'distance', 'n_components': 8, 'n_neighbors': 46}. Best is trial 86 with value: 0.5766596009975062.\n",
      "[I 2024-02-14 03:41:23,026] Trial 91 finished with value: 0.5301982543640897 and parameters: {'weights': 'distance', 'n_components': 11, 'n_neighbors': 50}. Best is trial 86 with value: 0.5766596009975062.\n",
      "[I 2024-02-14 03:41:23,370] Trial 92 finished with value: 0.5701683291770574 and parameters: {'weights': 'distance', 'n_components': 4, 'n_neighbors': 53}. Best is trial 86 with value: 0.5766596009975062.\n",
      "[I 2024-02-14 03:41:23,727] Trial 93 finished with value: 0.5676745635910224 and parameters: {'weights': 'distance', 'n_components': 4, 'n_neighbors': 55}. Best is trial 86 with value: 0.5766596009975062.\n",
      "[I 2024-02-14 03:41:24,148] Trial 94 finished with value: 0.5736608478802993 and parameters: {'weights': 'distance', 'n_components': 4, 'n_neighbors': 56}. Best is trial 86 with value: 0.5766596009975062.\n",
      "[I 2024-02-14 03:41:24,600] Trial 95 finished with value: 0.5351957605985037 and parameters: {'weights': 'distance', 'n_components': 6, 'n_neighbors': 51}. Best is trial 86 with value: 0.5766596009975062.\n",
      "[I 2024-02-14 03:41:24,948] Trial 96 finished with value: 0.5332019950124688 and parameters: {'weights': 'distance', 'n_components': 6, 'n_neighbors': 51}. Best is trial 86 with value: 0.5766596009975062.\n",
      "[I 2024-02-14 03:41:25,345] Trial 97 finished with value: 0.5416783042394016 and parameters: {'weights': 'distance', 'n_components': 6, 'n_neighbors': 57}. Best is trial 86 with value: 0.5766596009975062.\n",
      "[I 2024-02-14 03:41:25,932] Trial 98 finished with value: 0.4882743142144639 and parameters: {'weights': 'distance', 'n_components': 35, 'n_neighbors': 36}. Best is trial 86 with value: 0.5766596009975062.\n",
      "[I 2024-02-14 03:41:26,188] Trial 99 finished with value: 0.5167331670822943 and parameters: {'weights': 'distance', 'n_components': 9, 'n_neighbors': 56}. Best is trial 86 with value: 0.5766596009975062.\n"
     ]
    }
   ],
   "source": [
    "study = optuna.create_study(direction=\"maximize\")\n",
    "study.optimize(objective, n_trials=100, n_jobs=2)"
   ]
  },
  {
   "cell_type": "code",
   "execution_count": 60,
   "metadata": {},
   "outputs": [
    {
     "name": "stdout",
     "output_type": "stream",
     "text": [
      "Accuracy: 0.327\n",
      "Balanced accuracy: 0.33\n",
      "Top-2 accuracy: 0.551\n",
      "Top-3 accuracy: 0.727\n"
     ]
    }
   ],
   "source": [
    "model = make_pipeline(\n",
    "    OneHotEncoder(handle_unknown=\"ignore\", sparse_output=False, dtype=np.int8),\n",
    "    KNNImputer(n_neighbors=7),\n",
    "    PCA(n_components=study.best_params[\"n_components\"]),\n",
    "    KNeighborsClassifier(n_neighbors=study.best_params[\"n_neighbors\"], weights=study.best_params[\"weights\"], n_jobs=4),\n",
    ")\n",
    "\n",
    "model.fit(X_train, y_train)\n",
    "y_test_pred = model.predict(X_test)\n",
    "\n",
    "print(f\"Accuracy: {accuracy_score(y_test, y_test_pred).round(3)}\")\n",
    "print(f\"Balanced accuracy: {balanced_accuracy_score(y_test, y_test_pred).round(3)}\")\n",
    "print(f\"Top-2 accuracy: {top_k_accuracy_score(y_test, model.predict_proba(X_test), k=2).round(3)}\")\n",
    "print(f\"Top-3 accuracy: {top_k_accuracy_score(y_test, model.predict_proba(X_test), k=3).round(3)}\")"
   ]
  },
  {
   "cell_type": "code",
   "execution_count": 61,
   "metadata": {},
   "outputs": [
    {
     "data": {
      "text/plain": [
       "['/home/vscode/.ezancestry/data/models/kidd_superpopulation.joblib']"
      ]
     },
     "execution_count": 61,
     "metadata": {},
     "output_type": "execute_result"
    }
   ],
   "source": [
    "# Save the model\n",
    "model_path = Path(_models_directory) / f\"kidd_{_population_level}.joblib\"\n",
    "model_path.parent.mkdir(parents=True, exist_ok=True)\n",
    "joblib.dump(model, model_path)"
   ]
  },
  {
   "cell_type": "markdown",
   "metadata": {},
   "source": [
    "# Seldin AISNPs to predict superpopulation"
   ]
  },
  {
   "cell_type": "code",
   "execution_count": 63,
   "metadata": {},
   "outputs": [],
   "source": [
    "todrop = [\"superpopulation\", \"population\", \"gender\"]\n",
    "label = \"superpopulation\""
   ]
  },
  {
   "cell_type": "code",
   "execution_count": 64,
   "metadata": {},
   "outputs": [],
   "source": [
    "X_train, X_test, y_train, y_test = train_test_split(\n",
    "    seldin1kg.drop(columns=todrop),\n",
    "    seldin1kg[label],\n",
    "    test_size=0.2,\n",
    "    random_state=42,\n",
    ")"
   ]
  },
  {
   "cell_type": "code",
   "execution_count": 65,
   "metadata": {},
   "outputs": [],
   "source": [
    "def objective(trial):\n",
    "    weights = trial.suggest_categorical(\"weights\", [\"uniform\", \"distance\"])\n",
    "    n_components = trial.suggest_int(\"n_components\", 3, 50)\n",
    "    n_neighbors = trial.suggest_int(\"n_neighbors\", 11, 100)\n",
    "\n",
    "    model = make_pipeline(\n",
    "        OneHotEncoder(handle_unknown=\"ignore\", sparse_output=False, dtype=np.int8),\n",
    "        KNNImputer(n_neighbors=7),\n",
    "        PCA(n_components=n_components),\n",
    "        KNeighborsClassifier(n_neighbors=n_neighbors, weights=weights, n_jobs=4),\n",
    "    )\n",
    "\n",
    "    return cross_val_score(model, X_train, y_train, n_jobs=4, scoring=\"accuracy\", cv=StratifiedKFold(5)).mean()"
   ]
  },
  {
   "cell_type": "code",
   "execution_count": 66,
   "metadata": {},
   "outputs": [
    {
     "name": "stderr",
     "output_type": "stream",
     "text": [
      "[I 2024-02-14 03:43:05,460] A new study created in memory with name: no-name-629a589d-309a-44b1-b94b-c300a27b5e73\n",
      "[I 2024-02-14 03:43:06,407] Trial 1 finished with value: 0.9026596009975062 and parameters: {'weights': 'distance', 'n_components': 46, 'n_neighbors': 95}. Best is trial 1 with value: 0.9026596009975062.\n",
      "[I 2024-02-14 03:43:06,723] Trial 0 finished with value: 0.9445960099750623 and parameters: {'weights': 'distance', 'n_components': 13, 'n_neighbors': 85}. Best is trial 0 with value: 0.9445960099750623.\n",
      "[I 2024-02-14 03:43:07,203] Trial 2 finished with value: 0.9216334164588528 and parameters: {'weights': 'uniform', 'n_components': 38, 'n_neighbors': 28}. Best is trial 0 with value: 0.9445960099750623.\n",
      "[I 2024-02-14 03:43:07,578] Trial 3 finished with value: 0.9465910224438904 and parameters: {'weights': 'distance', 'n_components': 13, 'n_neighbors': 78}. Best is trial 3 with value: 0.9465910224438904.\n",
      "[I 2024-02-14 03:43:08,144] Trial 4 finished with value: 0.9216284289276808 and parameters: {'weights': 'uniform', 'n_components': 28, 'n_neighbors': 93}. Best is trial 3 with value: 0.9465910224438904.\n",
      "[I 2024-02-14 03:43:08,660] Trial 5 finished with value: 0.9286209476309226 and parameters: {'weights': 'distance', 'n_components': 28, 'n_neighbors': 55}. Best is trial 3 with value: 0.9465910224438904.\n",
      "[I 2024-02-14 03:43:08,947] Trial 6 finished with value: 0.9600685785536159 and parameters: {'weights': 'distance', 'n_components': 8, 'n_neighbors': 67}. Best is trial 6 with value: 0.9600685785536159.\n",
      "[I 2024-02-14 03:43:09,391] Trial 7 finished with value: 0.9231296758104739 and parameters: {'weights': 'distance', 'n_components': 31, 'n_neighbors': 58}. Best is trial 6 with value: 0.9600685785536159.\n",
      "[I 2024-02-14 03:43:09,836] Trial 8 finished with value: 0.9455947630922694 and parameters: {'weights': 'distance', 'n_components': 12, 'n_neighbors': 87}. Best is trial 6 with value: 0.9600685785536159.\n",
      "[I 2024-02-14 03:43:10,403] Trial 9 finished with value: 0.9640660847880298 and parameters: {'weights': 'uniform', 'n_components': 8, 'n_neighbors': 26}. Best is trial 9 with value: 0.9640660847880298.\n",
      "[I 2024-02-14 03:43:10,867] Trial 10 finished with value: 0.920134663341646 and parameters: {'weights': 'uniform', 'n_components': 34, 'n_neighbors': 57}. Best is trial 9 with value: 0.9640660847880298.\n",
      "[I 2024-02-14 03:43:11,138] Trial 11 finished with value: 0.9680511221945137 and parameters: {'weights': 'uniform', 'n_components': 4, 'n_neighbors': 11}. Best is trial 11 with value: 0.9680511221945137.\n",
      "[I 2024-02-14 03:43:11,536] Trial 12 finished with value: 0.9665561097256858 and parameters: {'weights': 'uniform', 'n_components': 6, 'n_neighbors': 11}. Best is trial 11 with value: 0.9680511221945137.\n",
      "[I 2024-02-14 03:43:12,011] Trial 13 finished with value: 0.9450910224438902 and parameters: {'weights': 'uniform', 'n_components': 20, 'n_neighbors': 16}. Best is trial 11 with value: 0.9680511221945137.\n",
      "[I 2024-02-14 03:43:12,386] Trial 14 finished with value: 0.9675511221945137 and parameters: {'weights': 'uniform', 'n_components': 4, 'n_neighbors': 11}. Best is trial 11 with value: 0.9680511221945137.\n",
      "[I 2024-02-14 03:43:12,730] Trial 15 finished with value: 0.9685511221945138 and parameters: {'weights': 'uniform', 'n_components': 4, 'n_neighbors': 12}. Best is trial 15 with value: 0.9685511221945138.\n",
      "[I 2024-02-14 03:43:13,145] Trial 16 finished with value: 0.9381022443890273 and parameters: {'weights': 'uniform', 'n_components': 21, 'n_neighbors': 38}. Best is trial 15 with value: 0.9685511221945138.\n",
      "[I 2024-02-14 03:43:13,651] Trial 17 finished with value: 0.9381022443890276 and parameters: {'weights': 'uniform', 'n_components': 21, 'n_neighbors': 34}. Best is trial 15 with value: 0.9685511221945138.\n",
      "[I 2024-02-14 03:43:14,118] Trial 18 finished with value: 0.9430972568578554 and parameters: {'weights': 'uniform', 'n_components': 20, 'n_neighbors': 37}. Best is trial 15 with value: 0.9685511221945138.\n",
      "[I 2024-02-14 03:43:14,497] Trial 19 finished with value: 0.9156408977556112 and parameters: {'weights': 'uniform', 'n_components': 3, 'n_neighbors': 42}. Best is trial 15 with value: 0.9685511221945138.\n",
      "[I 2024-02-14 03:43:14,806] Trial 20 finished with value: 0.9181346633416458 and parameters: {'weights': 'uniform', 'n_components': 3, 'n_neighbors': 21}. Best is trial 15 with value: 0.9685511221945138.\n",
      "[I 2024-02-14 03:43:15,522] Trial 21 finished with value: 0.911147132169576 and parameters: {'weights': 'uniform', 'n_components': 50, 'n_neighbors': 21}. Best is trial 15 with value: 0.9685511221945138.\n",
      "[I 2024-02-14 03:43:15,920] Trial 22 finished with value: 0.96156608478803 and parameters: {'weights': 'uniform', 'n_components': 11, 'n_neighbors': 11}. Best is trial 15 with value: 0.9685511221945138.\n",
      "[I 2024-02-14 03:43:16,398] Trial 23 finished with value: 0.9585710723192019 and parameters: {'weights': 'uniform', 'n_components': 15, 'n_neighbors': 13}. Best is trial 15 with value: 0.9685511221945138.\n",
      "[I 2024-02-14 03:43:16,767] Trial 24 finished with value: 0.9480872817955113 and parameters: {'weights': 'uniform', 'n_components': 16, 'n_neighbors': 46}. Best is trial 15 with value: 0.9685511221945138.\n",
      "[I 2024-02-14 03:43:17,175] Trial 25 finished with value: 0.961571072319202 and parameters: {'weights': 'uniform', 'n_components': 6, 'n_neighbors': 45}. Best is trial 15 with value: 0.9685511221945138.\n",
      "[I 2024-02-14 03:43:17,562] Trial 26 finished with value: 0.9650610972568578 and parameters: {'weights': 'uniform', 'n_components': 6, 'n_neighbors': 28}. Best is trial 15 with value: 0.9685511221945138.\n",
      "[I 2024-02-14 03:43:17,980] Trial 27 finished with value: 0.9635660847880299 and parameters: {'weights': 'uniform', 'n_components': 8, 'n_neighbors': 28}. Best is trial 15 with value: 0.9685511221945138.\n",
      "[I 2024-02-14 03:43:18,285] Trial 28 finished with value: 0.9171371571072319 and parameters: {'weights': 'uniform', 'n_components': 3, 'n_neighbors': 20}. Best is trial 15 with value: 0.9685511221945138.\n",
      "[I 2024-02-14 03:43:18,790] Trial 29 finished with value: 0.9510860349127184 and parameters: {'weights': 'uniform', 'n_components': 17, 'n_neighbors': 19}. Best is trial 15 with value: 0.9685511221945138.\n",
      "[I 2024-02-14 03:43:19,241] Trial 30 finished with value: 0.9545748129675811 and parameters: {'weights': 'uniform', 'n_components': 17, 'n_neighbors': 18}. Best is trial 15 with value: 0.9685511221945138.\n",
      "[I 2024-02-14 03:43:19,654] Trial 31 finished with value: 0.960571072319202 and parameters: {'weights': 'uniform', 'n_components': 10, 'n_neighbors': 24}. Best is trial 15 with value: 0.9685511221945138.\n",
      "[I 2024-02-14 03:43:20,006] Trial 32 finished with value: 0.958573566084788 and parameters: {'weights': 'uniform', 'n_components': 10, 'n_neighbors': 11}. Best is trial 15 with value: 0.9685511221945138.\n",
      "[I 2024-02-14 03:43:20,329] Trial 33 finished with value: 0.9665610972568579 and parameters: {'weights': 'uniform', 'n_components': 6, 'n_neighbors': 11}. Best is trial 15 with value: 0.9685511221945138.\n",
      "[I 2024-02-14 03:43:20,648] Trial 34 finished with value: 0.9690523690773067 and parameters: {'weights': 'uniform', 'n_components': 6, 'n_neighbors': 11}. Best is trial 34 with value: 0.9690523690773067.\n",
      "[I 2024-02-14 03:43:21,492] Trial 35 finished with value: 0.9156421446384041 and parameters: {'weights': 'distance', 'n_components': 42, 'n_neighbors': 31}. Best is trial 34 with value: 0.9690523690773067.\n",
      "[I 2024-02-14 03:43:22,030] Trial 36 finished with value: 0.9171384039900248 and parameters: {'weights': 'distance', 'n_components': 41, 'n_neighbors': 31}. Best is trial 34 with value: 0.9690523690773067.\n",
      "[I 2024-02-14 03:43:22,378] Trial 37 finished with value: 0.9580685785536159 and parameters: {'weights': 'uniform', 'n_components': 14, 'n_neighbors': 16}. Best is trial 34 with value: 0.9690523690773067.\n",
      "[I 2024-02-14 03:43:22,747] Trial 38 finished with value: 0.9590698254364091 and parameters: {'weights': 'uniform', 'n_components': 14, 'n_neighbors': 16}. Best is trial 34 with value: 0.9690523690773067.\n",
      "[I 2024-02-14 03:43:23,239] Trial 39 finished with value: 0.91364463840399 and parameters: {'weights': 'uniform', 'n_components': 3, 'n_neighbors': 64}. Best is trial 34 with value: 0.9690523690773067.\n",
      "[I 2024-02-14 03:43:23,582] Trial 40 finished with value: 0.911149625935162 and parameters: {'weights': 'distance', 'n_components': 3, 'n_neighbors': 81}. Best is trial 34 with value: 0.9690523690773067.\n",
      "[I 2024-02-14 03:43:23,953] Trial 41 finished with value: 0.9660648379052368 and parameters: {'weights': 'distance', 'n_components': 8, 'n_neighbors': 23}. Best is trial 34 with value: 0.9690523690773067.\n",
      "[I 2024-02-14 03:43:24,315] Trial 42 finished with value: 0.9670573566084787 and parameters: {'weights': 'uniform', 'n_components': 6, 'n_neighbors': 15}. Best is trial 34 with value: 0.9690523690773067.\n",
      "[I 2024-02-14 03:43:24,758] Trial 43 finished with value: 0.9700523690773067 and parameters: {'weights': 'uniform', 'n_components': 6, 'n_neighbors': 14}. Best is trial 43 with value: 0.9700523690773067.\n",
      "[I 2024-02-14 03:43:25,108] Trial 44 finished with value: 0.9680536159600998 and parameters: {'weights': 'uniform', 'n_components': 6, 'n_neighbors': 16}. Best is trial 43 with value: 0.9700523690773067.\n",
      "[I 2024-02-14 03:43:25,507] Trial 45 finished with value: 0.965561097256858 and parameters: {'weights': 'uniform', 'n_components': 9, 'n_neighbors': 16}. Best is trial 43 with value: 0.9700523690773067.\n",
      "[I 2024-02-14 03:43:25,821] Trial 46 finished with value: 0.96156608478803 and parameters: {'weights': 'uniform', 'n_components': 10, 'n_neighbors': 24}. Best is trial 43 with value: 0.9700523690773067.\n",
      "[I 2024-02-14 03:43:26,271] Trial 47 finished with value: 0.9575735660847879 and parameters: {'weights': 'uniform', 'n_components': 12, 'n_neighbors': 25}. Best is trial 43 with value: 0.9700523690773067.\n",
      "[I 2024-02-14 03:43:26,813] Trial 48 finished with value: 0.9385972568578553 and parameters: {'weights': 'uniform', 'n_components': 24, 'n_neighbors': 26}. Best is trial 43 with value: 0.9700523690773067.\n",
      "[I 2024-02-14 03:43:27,489] Trial 49 finished with value: 0.9291184538653366 and parameters: {'weights': 'uniform', 'n_components': 26, 'n_neighbors': 69}. Best is trial 43 with value: 0.9700523690773067.\n",
      "[I 2024-02-14 03:43:28,000] Trial 50 finished with value: 0.9231334164588528 and parameters: {'weights': 'uniform', 'n_components': 33, 'n_neighbors': 53}. Best is trial 43 with value: 0.9700523690773067.\n",
      "[I 2024-02-14 03:43:28,416] Trial 51 finished with value: 0.915137157107232 and parameters: {'weights': 'distance', 'n_components': 32, 'n_neighbors': 99}. Best is trial 43 with value: 0.9700523690773067.\n",
      "[I 2024-02-14 03:43:28,787] Trial 52 finished with value: 0.9670561097256858 and parameters: {'weights': 'uniform', 'n_components': 5, 'n_neighbors': 13}. Best is trial 43 with value: 0.9700523690773067.\n",
      "[I 2024-02-14 03:43:29,214] Trial 53 finished with value: 0.9695511221945138 and parameters: {'weights': 'uniform', 'n_components': 5, 'n_neighbors': 14}. Best is trial 43 with value: 0.9700523690773067.\n",
      "[I 2024-02-14 03:43:29,754] Trial 54 finished with value: 0.9665586034912718 and parameters: {'weights': 'uniform', 'n_components': 7, 'n_neighbors': 19}. Best is trial 43 with value: 0.9700523690773067.\n",
      "[I 2024-02-14 03:43:30,172] Trial 55 finished with value: 0.9660598503740649 and parameters: {'weights': 'uniform', 'n_components': 7, 'n_neighbors': 15}. Best is trial 43 with value: 0.9700523690773067.\n",
      "[I 2024-02-14 03:43:30,521] Trial 56 finished with value: 0.958569825436409 and parameters: {'weights': 'uniform', 'n_components': 12, 'n_neighbors': 17}. Best is trial 43 with value: 0.9700523690773067.\n",
      "[I 2024-02-14 03:43:30,915] Trial 57 finished with value: 0.957076059850374 and parameters: {'weights': 'uniform', 'n_components': 12, 'n_neighbors': 22}. Best is trial 43 with value: 0.9700523690773067.\n",
      "[I 2024-02-14 03:43:31,305] Trial 58 finished with value: 0.9680548628428929 and parameters: {'weights': 'uniform', 'n_components': 5, 'n_neighbors': 21}. Best is trial 43 with value: 0.9700523690773067.\n",
      "[I 2024-02-14 03:43:31,758] Trial 59 finished with value: 0.9670573566084787 and parameters: {'weights': 'uniform', 'n_components': 5, 'n_neighbors': 14}. Best is trial 43 with value: 0.9700523690773067.\n",
      "[I 2024-02-14 03:43:32,169] Trial 60 finished with value: 0.9670573566084789 and parameters: {'weights': 'uniform', 'n_components': 5, 'n_neighbors': 32}. Best is trial 43 with value: 0.9700523690773067.\n",
      "[I 2024-02-14 03:43:32,576] Trial 61 finished with value: 0.9620648379052369 and parameters: {'weights': 'uniform', 'n_components': 9, 'n_neighbors': 31}. Best is trial 43 with value: 0.9700523690773067.\n",
      "[I 2024-02-14 03:43:32,909] Trial 62 finished with value: 0.9670573566084789 and parameters: {'weights': 'uniform', 'n_components': 8, 'n_neighbors': 20}. Best is trial 43 with value: 0.9700523690773067.\n",
      "[I 2024-02-14 03:43:33,334] Trial 63 finished with value: 0.9700498753117207 and parameters: {'weights': 'uniform', 'n_components': 4, 'n_neighbors': 20}. Best is trial 43 with value: 0.9700523690773067.\n",
      "[I 2024-02-14 03:43:33,776] Trial 64 finished with value: 0.9675523690773067 and parameters: {'weights': 'uniform', 'n_components': 4, 'n_neighbors': 13}. Best is trial 43 with value: 0.9700523690773067.\n",
      "[I 2024-02-14 03:43:34,169] Trial 65 finished with value: 0.9700498753117207 and parameters: {'weights': 'uniform', 'n_components': 4, 'n_neighbors': 18}. Best is trial 43 with value: 0.9700523690773067.\n",
      "[I 2024-02-14 03:43:34,480] Trial 66 finished with value: 0.9675586034912719 and parameters: {'weights': 'uniform', 'n_components': 5, 'n_neighbors': 28}. Best is trial 43 with value: 0.9700523690773067.\n",
      "[I 2024-02-14 03:43:34,834] Trial 67 finished with value: 0.9690536159600999 and parameters: {'weights': 'uniform', 'n_components': 4, 'n_neighbors': 38}. Best is trial 43 with value: 0.9700523690773067.\n",
      "[I 2024-02-14 03:43:35,168] Trial 68 finished with value: 0.9700511221945138 and parameters: {'weights': 'uniform', 'n_components': 4, 'n_neighbors': 36}. Best is trial 43 with value: 0.9700523690773067.\n",
      "[I 2024-02-14 03:43:35,543] Trial 69 finished with value: 0.9171371571072321 and parameters: {'weights': 'uniform', 'n_components': 3, 'n_neighbors': 49}. Best is trial 43 with value: 0.9700523690773067.\n",
      "[I 2024-02-14 03:43:35,924] Trial 70 finished with value: 0.9620673316708229 and parameters: {'weights': 'uniform', 'n_components': 7, 'n_neighbors': 39}. Best is trial 43 with value: 0.9700523690773067.\n",
      "[I 2024-02-14 03:43:36,305] Trial 71 finished with value: 0.962567331670823 and parameters: {'weights': 'distance', 'n_components': 7, 'n_neighbors': 40}. Best is trial 43 with value: 0.9700523690773067.\n",
      "[I 2024-02-14 03:43:36,822] Trial 72 finished with value: 0.9226334164588529 and parameters: {'weights': 'uniform', 'n_components': 36, 'n_neighbors': 38}. Best is trial 43 with value: 0.9700523690773067.\n",
      "[I 2024-02-14 03:43:37,282] Trial 73 finished with value: 0.9660598503740647 and parameters: {'weights': 'uniform', 'n_components': 4, 'n_neighbors': 43}. Best is trial 43 with value: 0.9700523690773067.\n",
      "[I 2024-02-14 03:43:37,579] Trial 74 finished with value: 0.9700498753117207 and parameters: {'weights': 'uniform', 'n_components': 4, 'n_neighbors': 18}. Best is trial 43 with value: 0.9700523690773067.\n",
      "[I 2024-02-14 03:43:37,967] Trial 75 finished with value: 0.9610685785536159 and parameters: {'weights': 'uniform', 'n_components': 10, 'n_neighbors': 18}. Best is trial 43 with value: 0.9700523690773067.\n",
      "[I 2024-02-14 03:43:38,357] Trial 76 finished with value: 0.9635660847880299 and parameters: {'weights': 'uniform', 'n_components': 9, 'n_neighbors': 18}. Best is trial 43 with value: 0.9700523690773067.\n",
      "[I 2024-02-14 03:43:38,960] Trial 77 finished with value: 0.9615698254364089 and parameters: {'weights': 'uniform', 'n_components': 9, 'n_neighbors': 35}. Best is trial 43 with value: 0.9700523690773067.\n",
      "[I 2024-02-14 03:43:39,280] Trial 78 finished with value: 0.9690536159600999 and parameters: {'weights': 'uniform', 'n_components': 4, 'n_neighbors': 34}. Best is trial 43 with value: 0.9700523690773067.\n",
      "[I 2024-02-14 03:43:39,618] Trial 79 finished with value: 0.9695511221945138 and parameters: {'weights': 'uniform', 'n_components': 4, 'n_neighbors': 27}. Best is trial 43 with value: 0.9700523690773067.\n",
      "[I 2024-02-14 03:43:39,983] Trial 80 finished with value: 0.919135910224439 and parameters: {'weights': 'uniform', 'n_components': 3, 'n_neighbors': 35}. Best is trial 43 with value: 0.9700523690773067.\n",
      "[I 2024-02-14 03:43:40,398] Trial 81 finished with value: 0.9191346633416458 and parameters: {'weights': 'uniform', 'n_components': 3, 'n_neighbors': 28}. Best is trial 43 with value: 0.9700523690773067.\n",
      "[I 2024-02-14 03:43:40,799] Trial 82 finished with value: 0.9700536159600999 and parameters: {'weights': 'uniform', 'n_components': 4, 'n_neighbors': 29}. Best is trial 82 with value: 0.9700536159600999.\n",
      "[I 2024-02-14 03:43:41,153] Trial 83 finished with value: 0.9680536159600998 and parameters: {'weights': 'uniform', 'n_components': 4, 'n_neighbors': 26}. Best is trial 82 with value: 0.9700536159600999.\n",
      "[I 2024-02-14 03:43:41,591] Trial 84 finished with value: 0.9645635910224438 and parameters: {'weights': 'uniform', 'n_components': 7, 'n_neighbors': 28}. Best is trial 82 with value: 0.9700536159600999.\n",
      "[I 2024-02-14 03:43:42,135] Trial 85 finished with value: 0.965563591022444 and parameters: {'weights': 'uniform', 'n_components': 8, 'n_neighbors': 23}. Best is trial 82 with value: 0.9700536159600999.\n",
      "[I 2024-02-14 03:43:42,565] Trial 86 finished with value: 0.967058603491272 and parameters: {'weights': 'uniform', 'n_components': 5, 'n_neighbors': 22}. Best is trial 82 with value: 0.9700536159600999.\n",
      "[I 2024-02-14 03:43:42,860] Trial 87 finished with value: 0.9680561097256859 and parameters: {'weights': 'uniform', 'n_components': 5, 'n_neighbors': 22}. Best is trial 82 with value: 0.9700536159600999.\n",
      "[I 2024-02-14 03:43:43,231] Trial 88 finished with value: 0.957572319201995 and parameters: {'weights': 'distance', 'n_components': 11, 'n_neighbors': 29}. Best is trial 82 with value: 0.9700536159600999.\n",
      "[I 2024-02-14 03:43:43,783] Trial 89 finished with value: 0.9600660847880299 and parameters: {'weights': 'distance', 'n_components': 11, 'n_neighbors': 26}. Best is trial 82 with value: 0.9700536159600999.\n",
      "[I 2024-02-14 03:43:44,233] Trial 90 finished with value: 0.965563591022444 and parameters: {'weights': 'uniform', 'n_components': 6, 'n_neighbors': 33}. Best is trial 82 with value: 0.9700536159600999.\n",
      "[I 2024-02-14 03:43:44,666] Trial 91 finished with value: 0.9301184538653366 and parameters: {'weights': 'uniform', 'n_components': 30, 'n_neighbors': 32}. Best is trial 82 with value: 0.9700536159600999.\n",
      "[I 2024-02-14 03:43:44,967] Trial 92 finished with value: 0.9700523690773067 and parameters: {'weights': 'uniform', 'n_components': 4, 'n_neighbors': 30}. Best is trial 82 with value: 0.9700536159600999.\n",
      "[I 2024-02-14 03:43:45,328] Trial 93 finished with value: 0.9695511221945138 and parameters: {'weights': 'uniform', 'n_components': 4, 'n_neighbors': 36}. Best is trial 82 with value: 0.9700536159600999.\n",
      "[I 2024-02-14 03:43:45,947] Trial 94 finished with value: 0.918635910224439 and parameters: {'weights': 'uniform', 'n_components': 3, 'n_neighbors': 36}. Best is trial 82 with value: 0.9700536159600999.\n",
      "[I 2024-02-14 03:43:46,311] Trial 95 finished with value: 0.9680536159600998 and parameters: {'weights': 'uniform', 'n_components': 6, 'n_neighbors': 20}. Best is trial 82 with value: 0.9700536159600999.\n",
      "[I 2024-02-14 03:43:46,721] Trial 96 finished with value: 0.9655623441396509 and parameters: {'weights': 'uniform', 'n_components': 7, 'n_neighbors': 25}. Best is trial 82 with value: 0.9700536159600999.\n",
      "[I 2024-02-14 03:43:47,099] Trial 97 finished with value: 0.9680548628428929 and parameters: {'weights': 'uniform', 'n_components': 7, 'n_neighbors': 14}. Best is trial 82 with value: 0.9700536159600999.\n",
      "[I 2024-02-14 03:43:47,520] Trial 98 finished with value: 0.9675561097256858 and parameters: {'weights': 'uniform', 'n_components': 4, 'n_neighbors': 42}. Best is trial 82 with value: 0.9700536159600999.\n",
      "[I 2024-02-14 03:43:47,900] Trial 99 finished with value: 0.9700523690773067 and parameters: {'weights': 'uniform', 'n_components': 4, 'n_neighbors': 29}. Best is trial 82 with value: 0.9700536159600999.\n"
     ]
    }
   ],
   "source": [
    "study = optuna.create_study(direction=\"maximize\")\n",
    "study.optimize(objective, n_trials=100, n_jobs=2)"
   ]
  },
  {
   "cell_type": "code",
   "execution_count": 67,
   "metadata": {},
   "outputs": [
    {
     "name": "stdout",
     "output_type": "stream",
     "text": [
      "Accuracy: 0.964\n",
      "Balanced accuracy: 0.954\n"
     ]
    }
   ],
   "source": [
    "model = make_pipeline(\n",
    "    OneHotEncoder(handle_unknown=\"ignore\", sparse_output=False, dtype=np.int8),\n",
    "    KNNImputer(n_neighbors=7),\n",
    "    PCA(n_components=study.best_params[\"n_components\"]),\n",
    "    KNeighborsClassifier(n_neighbors=study.best_params[\"n_neighbors\"], weights=study.best_params[\"weights\"], n_jobs=4),\n",
    ")\n",
    "\n",
    "model.fit(X_train, y_train)\n",
    "y_test_pred = model.predict(X_test)\n",
    "\n",
    "print(f\"Accuracy: {accuracy_score(y_test, y_test_pred).round(3)}\")\n",
    "print(f\"Balanced accuracy: {balanced_accuracy_score(y_test, y_test_pred).round(3)}\")"
   ]
  },
  {
   "cell_type": "code",
   "execution_count": 68,
   "metadata": {},
   "outputs": [
    {
     "data": {
      "text/plain": [
       "['/home/vscode/.ezancestry/data/models/seldin_superpopulation.joblib']"
      ]
     },
     "execution_count": 68,
     "metadata": {},
     "output_type": "execute_result"
    }
   ],
   "source": [
    "# Save the model\n",
    "model_path = Path(_models_directory) / f\"seldin_{_population_level}.joblib\"\n",
    "model_path.parent.mkdir(parents=True, exist_ok=True)\n",
    "joblib.dump(model, model_path)"
   ]
  },
  {
   "cell_type": "markdown",
   "metadata": {},
   "source": [
    "# Seldin AISNPs to predict population"
   ]
  },
  {
   "cell_type": "code",
   "execution_count": 70,
   "metadata": {},
   "outputs": [],
   "source": [
    "label = \"population\""
   ]
  },
  {
   "cell_type": "code",
   "execution_count": 71,
   "metadata": {},
   "outputs": [],
   "source": [
    "X_train, X_test, y_train, y_test = train_test_split(\n",
    "    seldin1kg.drop(columns=todrop),\n",
    "    seldin1kg[label],\n",
    "    test_size=0.2,\n",
    "    random_state=42,\n",
    ")"
   ]
  },
  {
   "cell_type": "code",
   "execution_count": 72,
   "metadata": {},
   "outputs": [],
   "source": [
    "def objective(trial):\n",
    "    weights = trial.suggest_categorical(\"weights\", [\"uniform\", \"distance\"])\n",
    "    n_components = trial.suggest_int(\"n_components\", 3, 50)\n",
    "    n_neighbors = trial.suggest_int(\"n_neighbors\", 11, 100)\n",
    "\n",
    "    model = make_pipeline(\n",
    "        OneHotEncoder(handle_unknown=\"ignore\", sparse_output=False, dtype=np.int8),\n",
    "        KNNImputer(n_neighbors=7),\n",
    "        PCA(n_components=n_components),\n",
    "        KNeighborsClassifier(n_neighbors=n_neighbors, weights=weights, n_jobs=4),\n",
    "    )\n",
    "\n",
    "    return cross_val_score(model, X_train, y_train, n_jobs=4, scoring=topk_scorer, cv=StratifiedKFold(5)).mean()"
   ]
  },
  {
   "cell_type": "code",
   "execution_count": 73,
   "metadata": {},
   "outputs": [
    {
     "name": "stderr",
     "output_type": "stream",
     "text": [
      "[I 2024-02-14 03:46:26,674] A new study created in memory with name: no-name-4a4a01ac-047e-4e42-b8f3-423100cc6c8a\n",
      "[I 2024-02-14 03:46:27,409] Trial 0 finished with value: 0.519221945137157 and parameters: {'weights': 'uniform', 'n_components': 16, 'n_neighbors': 86}. Best is trial 0 with value: 0.519221945137157.\n",
      "[I 2024-02-14 03:46:28,077] Trial 1 finished with value: 0.4932693266832917 and parameters: {'weights': 'uniform', 'n_components': 47, 'n_neighbors': 65}. Best is trial 0 with value: 0.519221945137157.\n",
      "[I 2024-02-14 03:46:28,582] Trial 2 finished with value: 0.48678428927680795 and parameters: {'weights': 'uniform', 'n_components': 48, 'n_neighbors': 89}. Best is trial 0 with value: 0.519221945137157.\n",
      "[I 2024-02-14 03:46:29,016] Trial 3 finished with value: 0.49026683291770573 and parameters: {'weights': 'uniform', 'n_components': 32, 'n_neighbors': 97}. Best is trial 0 with value: 0.519221945137157.\n",
      "[I 2024-02-14 03:46:29,455] Trial 4 finished with value: 0.49475935162094764 and parameters: {'weights': 'uniform', 'n_components': 28, 'n_neighbors': 67}. Best is trial 0 with value: 0.519221945137157.\n",
      "[I 2024-02-14 03:46:29,887] Trial 5 finished with value: 0.5182182044887782 and parameters: {'weights': 'distance', 'n_components': 5, 'n_neighbors': 11}. Best is trial 0 with value: 0.519221945137157.\n",
      "[I 2024-02-14 03:46:30,459] Trial 6 finished with value: 0.5017593516209475 and parameters: {'weights': 'uniform', 'n_components': 25, 'n_neighbors': 95}. Best is trial 0 with value: 0.519221945137157.\n",
      "[I 2024-02-14 03:46:30,938] Trial 7 finished with value: 0.5017705735660847 and parameters: {'weights': 'uniform', 'n_components': 33, 'n_neighbors': 46}. Best is trial 0 with value: 0.519221945137157.\n",
      "[I 2024-02-14 03:46:31,311] Trial 8 finished with value: 0.517219451371571 and parameters: {'weights': 'uniform', 'n_components': 13, 'n_neighbors': 49}. Best is trial 0 with value: 0.519221945137157.\n",
      "[I 2024-02-14 03:46:31,958] Trial 9 finished with value: 0.4917730673316708 and parameters: {'weights': 'uniform', 'n_components': 50, 'n_neighbors': 64}. Best is trial 0 with value: 0.519221945137157.\n",
      "[I 2024-02-14 03:46:32,573] Trial 10 finished with value: 0.4688017456359102 and parameters: {'weights': 'distance', 'n_components': 43, 'n_neighbors': 12}. Best is trial 0 with value: 0.519221945137157.\n",
      "[I 2024-02-14 03:46:32,978] Trial 11 finished with value: 0.5197231920199501 and parameters: {'weights': 'distance', 'n_components': 16, 'n_neighbors': 79}. Best is trial 11 with value: 0.5197231920199501.\n",
      "[I 2024-02-14 03:46:33,345] Trial 12 finished with value: 0.4962618453865336 and parameters: {'weights': 'distance', 'n_components': 3, 'n_neighbors': 15}. Best is trial 11 with value: 0.5197231920199501.\n",
      "[I 2024-02-14 03:46:33,698] Trial 13 finished with value: 0.5197306733167083 and parameters: {'weights': 'distance', 'n_components': 16, 'n_neighbors': 80}. Best is trial 13 with value: 0.5197306733167083.\n",
      "[I 2024-02-14 03:46:34,215] Trial 14 finished with value: 0.517714463840399 and parameters: {'weights': 'distance', 'n_components': 19, 'n_neighbors': 84}. Best is trial 13 with value: 0.5197306733167083.\n",
      "[I 2024-02-14 03:46:34,581] Trial 15 finished with value: 0.5097256857855361 and parameters: {'weights': 'distance', 'n_components': 18, 'n_neighbors': 77}. Best is trial 13 with value: 0.5197306733167083.\n",
      "[I 2024-02-14 03:46:35,012] Trial 16 finished with value: 0.5331982543640897 and parameters: {'weights': 'distance', 'n_components': 12, 'n_neighbors': 77}. Best is trial 16 with value: 0.5331982543640897.\n",
      "[I 2024-02-14 03:46:35,392] Trial 17 finished with value: 0.521711970074813 and parameters: {'weights': 'distance', 'n_components': 9, 'n_neighbors': 76}. Best is trial 16 with value: 0.5331982543640897.\n",
      "[I 2024-02-14 03:46:35,791] Trial 18 finished with value: 0.5067431421446383 and parameters: {'weights': 'distance', 'n_components': 10, 'n_neighbors': 33}. Best is trial 16 with value: 0.5331982543640897.\n",
      "[I 2024-02-14 03:46:36,137] Trial 19 finished with value: 0.5192219451371571 and parameters: {'weights': 'distance', 'n_components': 10, 'n_neighbors': 30}. Best is trial 16 with value: 0.5331982543640897.\n",
      "[I 2024-02-14 03:46:36,511] Trial 20 finished with value: 0.5431758104738156 and parameters: {'weights': 'distance', 'n_components': 7, 'n_neighbors': 72}. Best is trial 20 with value: 0.5431758104738156.\n",
      "[I 2024-02-14 03:46:37,170] Trial 21 finished with value: 0.5117319201995013 and parameters: {'weights': 'distance', 'n_components': 24, 'n_neighbors': 73}. Best is trial 20 with value: 0.5431758104738156.\n",
      "[I 2024-02-14 03:46:37,504] Trial 22 finished with value: 0.5416832917705736 and parameters: {'weights': 'distance', 'n_components': 7, 'n_neighbors': 71}. Best is trial 20 with value: 0.5431758104738156.\n",
      "[I 2024-02-14 03:46:37,872] Trial 23 finished with value: 0.5326970074812968 and parameters: {'weights': 'distance', 'n_components': 8, 'n_neighbors': 57}. Best is trial 20 with value: 0.5431758104738156.\n",
      "[I 2024-02-14 03:46:38,230] Trial 24 finished with value: 0.5346895261845386 and parameters: {'weights': 'distance', 'n_components': 6, 'n_neighbors': 57}. Best is trial 20 with value: 0.5431758104738156.\n",
      "[I 2024-02-14 03:46:38,691] Trial 25 finished with value: 0.5187418952618453 and parameters: {'weights': 'distance', 'n_components': 3, 'n_neighbors': 58}. Best is trial 20 with value: 0.5431758104738156.\n",
      "[I 2024-02-14 03:46:39,077] Trial 26 finished with value: 0.5436695760598504 and parameters: {'weights': 'distance', 'n_components': 5, 'n_neighbors': 56}. Best is trial 26 with value: 0.5436695760598504.\n",
      "[I 2024-02-14 03:46:39,639] Trial 27 finished with value: 0.5337019950124688 and parameters: {'weights': 'distance', 'n_components': 7, 'n_neighbors': 48}. Best is trial 26 with value: 0.5436695760598504.\n",
      "[I 2024-02-14 03:46:40,073] Trial 28 finished with value: 0.5202107231920199 and parameters: {'weights': 'distance', 'n_components': 22, 'n_neighbors': 48}. Best is trial 26 with value: 0.5436695760598504.\n",
      "[I 2024-02-14 03:46:40,559] Trial 29 finished with value: 0.5062369077306733 and parameters: {'weights': 'distance', 'n_components': 20, 'n_neighbors': 69}. Best is trial 26 with value: 0.5436695760598504.\n",
      "[I 2024-02-14 03:46:41,020] Trial 30 finished with value: 0.5316907730673316 and parameters: {'weights': 'distance', 'n_components': 13, 'n_neighbors': 70}. Best is trial 26 with value: 0.5436695760598504.\n",
      "[I 2024-02-14 03:46:41,415] Trial 31 finished with value: 0.5112344139650873 and parameters: {'weights': 'distance', 'n_components': 15, 'n_neighbors': 40}. Best is trial 26 with value: 0.5436695760598504.\n",
      "[I 2024-02-14 03:46:41,702] Trial 32 finished with value: 0.5436708229426432 and parameters: {'weights': 'distance', 'n_components': 6, 'n_neighbors': 61}. Best is trial 32 with value: 0.5436708229426432.\n",
      "[I 2024-02-14 03:46:42,126] Trial 33 finished with value: 0.5371857855361596 and parameters: {'weights': 'distance', 'n_components': 7, 'n_neighbors': 62}. Best is trial 32 with value: 0.5436708229426432.\n",
      "[I 2024-02-14 03:46:42,484] Trial 34 finished with value: 0.5182406483790525 and parameters: {'weights': 'distance', 'n_components': 3, 'n_neighbors': 62}. Best is trial 32 with value: 0.5436708229426432.\n",
      "[I 2024-02-14 03:46:42,821] Trial 35 finished with value: 0.5182418952618454 and parameters: {'weights': 'distance', 'n_components': 3, 'n_neighbors': 62}. Best is trial 32 with value: 0.5436708229426432.\n",
      "[I 2024-02-14 03:46:43,202] Trial 36 finished with value: 0.529216957605985 and parameters: {'weights': 'distance', 'n_components': 11, 'n_neighbors': 85}. Best is trial 32 with value: 0.5436708229426432.\n",
      "[I 2024-02-14 03:46:44,031] Trial 37 finished with value: 0.49975311720698257 and parameters: {'weights': 'distance', 'n_components': 40, 'n_neighbors': 86}. Best is trial 32 with value: 0.5436708229426432.\n",
      "[I 2024-02-14 03:46:44,469] Trial 38 finished with value: 0.49126807980049875 and parameters: {'weights': 'uniform', 'n_components': 33, 'n_neighbors': 92}. Best is trial 32 with value: 0.5436708229426432.\n",
      "[I 2024-02-14 03:46:44,946] Trial 39 finished with value: 0.5087381546134664 and parameters: {'weights': 'uniform', 'n_components': 28, 'n_neighbors': 53}. Best is trial 32 with value: 0.5436708229426432.\n",
      "[I 2024-02-14 03:46:45,355] Trial 40 finished with value: 0.49676309226932663 and parameters: {'weights': 'uniform', 'n_components': 30, 'n_neighbors': 52}. Best is trial 32 with value: 0.5436708229426432.\n",
      "[I 2024-02-14 03:46:45,746] Trial 41 finished with value: 0.5391745635910224 and parameters: {'weights': 'distance', 'n_components': 5, 'n_neighbors': 40}. Best is trial 32 with value: 0.5436708229426432.\n",
      "[I 2024-02-14 03:46:46,186] Trial 42 finished with value: 0.5376807980049876 and parameters: {'weights': 'distance', 'n_components': 6, 'n_neighbors': 66}. Best is trial 32 with value: 0.5436708229426432.\n",
      "[I 2024-02-14 03:46:46,499] Trial 43 finished with value: 0.5326970074812967 and parameters: {'weights': 'distance', 'n_components': 6, 'n_neighbors': 42}. Best is trial 32 with value: 0.5436708229426432.\n",
      "[I 2024-02-14 03:46:46,907] Trial 44 finished with value: 0.5416645885286784 and parameters: {'weights': 'distance', 'n_components': 5, 'n_neighbors': 39}. Best is trial 32 with value: 0.5436708229426432.\n",
      "[I 2024-02-14 03:46:47,279] Trial 45 finished with value: 0.49475935162094764 and parameters: {'weights': 'distance', 'n_components': 14, 'n_neighbors': 27}. Best is trial 32 with value: 0.5436708229426432.\n",
      "[I 2024-02-14 03:46:47,626] Trial 46 finished with value: 0.5102431421446383 and parameters: {'weights': 'distance', 'n_components': 14, 'n_neighbors': 24}. Best is trial 32 with value: 0.5436708229426432.\n",
      "[I 2024-02-14 03:46:48,057] Trial 47 finished with value: 0.49525935162094764 and parameters: {'weights': 'distance', 'n_components': 9, 'n_neighbors': 20}. Best is trial 32 with value: 0.5436708229426432.\n",
      "[I 2024-02-14 03:46:48,415] Trial 48 finished with value: 0.5262057356608479 and parameters: {'weights': 'distance', 'n_components': 9, 'n_neighbors': 71}. Best is trial 32 with value: 0.5436708229426432.\n",
      "[I 2024-02-14 03:46:48,884] Trial 49 finished with value: 0.5247007481296759 and parameters: {'weights': 'uniform', 'n_components': 12, 'n_neighbors': 44}. Best is trial 32 with value: 0.5436708229426432.\n",
      "[I 2024-02-14 03:46:49,284] Trial 50 finished with value: 0.5202107231920199 and parameters: {'weights': 'uniform', 'n_components': 12, 'n_neighbors': 35}. Best is trial 32 with value: 0.5436708229426432.\n",
      "[I 2024-02-14 03:46:49,748] Trial 51 finished with value: 0.5456758104738155 and parameters: {'weights': 'distance', 'n_components': 5, 'n_neighbors': 74}. Best is trial 51 with value: 0.5456758104738155.\n",
      "[I 2024-02-14 03:46:50,140] Trial 52 finished with value: 0.5317007481296757 and parameters: {'weights': 'distance', 'n_components': 6, 'n_neighbors': 37}. Best is trial 51 with value: 0.5456758104738155.\n",
      "[I 2024-02-14 03:46:50,543] Trial 53 finished with value: 0.5651670822942644 and parameters: {'weights': 'distance', 'n_components': 4, 'n_neighbors': 73}. Best is trial 53 with value: 0.5651670822942644.\n",
      "[I 2024-02-14 03:46:50,858] Trial 54 finished with value: 0.5741521197007482 and parameters: {'weights': 'distance', 'n_components': 4, 'n_neighbors': 100}. Best is trial 54 with value: 0.5741521197007482.\n",
      "[I 2024-02-14 03:46:51,176] Trial 55 finished with value: 0.5691558603491272 and parameters: {'weights': 'distance', 'n_components': 4, 'n_neighbors': 74}. Best is trial 54 with value: 0.5741521197007482.\n",
      "[I 2024-02-14 03:46:51,564] Trial 56 finished with value: 0.5681558603491272 and parameters: {'weights': 'distance', 'n_components': 4, 'n_neighbors': 81}. Best is trial 54 with value: 0.5741521197007482.\n",
      "[I 2024-02-14 03:46:52,183] Trial 57 finished with value: 0.5172456359102243 and parameters: {'weights': 'distance', 'n_components': 3, 'n_neighbors': 97}. Best is trial 54 with value: 0.5741521197007482.\n",
      "[I 2024-02-14 03:46:52,496] Trial 58 finished with value: 0.5172431421446384 and parameters: {'weights': 'distance', 'n_components': 3, 'n_neighbors': 98}. Best is trial 54 with value: 0.5741521197007482.\n",
      "[I 2024-02-14 03:46:52,903] Trial 59 finished with value: 0.5756521197007481 and parameters: {'weights': 'distance', 'n_components': 4, 'n_neighbors': 100}. Best is trial 59 with value: 0.5756521197007481.\n",
      "[I 2024-02-14 03:46:53,487] Trial 60 finished with value: 0.49776683291770574 and parameters: {'weights': 'distance', 'n_components': 39, 'n_neighbors': 90}. Best is trial 59 with value: 0.5756521197007481.\n",
      "[I 2024-02-14 03:46:53,961] Trial 61 finished with value: 0.49777057356608473 and parameters: {'weights': 'distance', 'n_components': 36, 'n_neighbors': 93}. Best is trial 59 with value: 0.5756521197007481.\n",
      "[I 2024-02-14 03:46:54,256] Trial 62 finished with value: 0.5356945137157108 and parameters: {'weights': 'distance', 'n_components': 8, 'n_neighbors': 82}. Best is trial 59 with value: 0.5756521197007481.\n",
      "[I 2024-02-14 03:46:54,664] Trial 63 finished with value: 0.5401832917705736 and parameters: {'weights': 'distance', 'n_components': 8, 'n_neighbors': 82}. Best is trial 59 with value: 0.5756521197007481.\n",
      "[I 2024-02-14 03:46:55,219] Trial 64 finished with value: 0.5751521197007482 and parameters: {'weights': 'distance', 'n_components': 4, 'n_neighbors': 100}. Best is trial 59 with value: 0.5756521197007481.\n",
      "[I 2024-02-14 03:46:55,627] Trial 65 finished with value: 0.5431758104738155 and parameters: {'weights': 'distance', 'n_components': 5, 'n_neighbors': 74}. Best is trial 59 with value: 0.5756521197007481.\n",
      "[I 2024-02-14 03:46:55,965] Trial 66 finished with value: 0.5771508728179551 and parameters: {'weights': 'distance', 'n_components': 4, 'n_neighbors': 100}. Best is trial 66 with value: 0.5771508728179551.\n",
      "[I 2024-02-14 03:46:56,365] Trial 67 finished with value: 0.5751508728179552 and parameters: {'weights': 'distance', 'n_components': 4, 'n_neighbors': 99}. Best is trial 66 with value: 0.5771508728179551.\n",
      "[I 2024-02-14 03:46:57,035] Trial 68 finished with value: 0.5721521197007482 and parameters: {'weights': 'distance', 'n_components': 4, 'n_neighbors': 99}. Best is trial 66 with value: 0.5771508728179551.\n",
      "[I 2024-02-14 03:46:57,386] Trial 69 finished with value: 0.5426845386533665 and parameters: {'weights': 'distance', 'n_components': 9, 'n_neighbors': 100}. Best is trial 66 with value: 0.5771508728179551.\n",
      "[I 2024-02-14 03:46:57,792] Trial 70 finished with value: 0.5327082294264339 and parameters: {'weights': 'distance', 'n_components': 10, 'n_neighbors': 100}. Best is trial 66 with value: 0.5771508728179551.\n",
      "[I 2024-02-14 03:46:58,103] Trial 71 finished with value: 0.5726496259351622 and parameters: {'weights': 'distance', 'n_components': 4, 'n_neighbors': 95}. Best is trial 66 with value: 0.5771508728179551.\n",
      "[I 2024-02-14 03:46:58,555] Trial 72 finished with value: 0.5751483790523692 and parameters: {'weights': 'distance', 'n_components': 4, 'n_neighbors': 94}. Best is trial 66 with value: 0.5771508728179551.\n",
      "[I 2024-02-14 03:46:58,876] Trial 73 finished with value: 0.5736521197007483 and parameters: {'weights': 'distance', 'n_components': 4, 'n_neighbors': 95}. Best is trial 66 with value: 0.5771508728179551.\n",
      "[I 2024-02-14 03:46:59,213] Trial 74 finished with value: 0.5486620947630922 and parameters: {'weights': 'distance', 'n_components': 7, 'n_neighbors': 95}. Best is trial 66 with value: 0.5771508728179551.\n",
      "[I 2024-02-14 03:46:59,585] Trial 75 finished with value: 0.5351895261845387 and parameters: {'weights': 'distance', 'n_components': 7, 'n_neighbors': 95}. Best is trial 66 with value: 0.5771508728179551.\n",
      "[I 2024-02-14 03:47:00,002] Trial 76 finished with value: 0.536205735660848 and parameters: {'weights': 'distance', 'n_components': 8, 'n_neighbors': 94}. Best is trial 66 with value: 0.5771508728179551.\n",
      "[I 2024-02-14 03:47:00,397] Trial 77 finished with value: 0.5257381546134663 and parameters: {'weights': 'distance', 'n_components': 3, 'n_neighbors': 88}. Best is trial 66 with value: 0.5771508728179551.\n",
      "[I 2024-02-14 03:47:00,886] Trial 78 finished with value: 0.5307019950124688 and parameters: {'weights': 'distance', 'n_components': 11, 'n_neighbors': 90}. Best is trial 66 with value: 0.5771508728179551.\n",
      "[I 2024-02-14 03:47:01,244] Trial 79 finished with value: 0.5167319201995013 and parameters: {'weights': 'distance', 'n_components': 11, 'n_neighbors': 91}. Best is trial 66 with value: 0.5771508728179551.\n",
      "[I 2024-02-14 03:47:01,575] Trial 80 finished with value: 0.5406807980049875 and parameters: {'weights': 'uniform', 'n_components': 5, 'n_neighbors': 97}. Best is trial 66 with value: 0.5771508728179551.\n",
      "[I 2024-02-14 03:47:02,111] Trial 81 finished with value: 0.5192206982543641 and parameters: {'weights': 'uniform', 'n_components': 17, 'n_neighbors': 97}. Best is trial 66 with value: 0.5771508728179551.\n",
      "[I 2024-02-14 03:47:02,540] Trial 82 finished with value: 0.5761496259351622 and parameters: {'weights': 'distance', 'n_components': 4, 'n_neighbors': 100}. Best is trial 66 with value: 0.5771508728179551.\n",
      "[I 2024-02-14 03:47:02,898] Trial 83 finished with value: 0.5736558603491272 and parameters: {'weights': 'distance', 'n_components': 4, 'n_neighbors': 100}. Best is trial 66 with value: 0.5771508728179551.\n",
      "[I 2024-02-14 03:47:03,254] Trial 84 finished with value: 0.5721533665835412 and parameters: {'weights': 'distance', 'n_components': 4, 'n_neighbors': 88}. Best is trial 66 with value: 0.5771508728179551.\n",
      "[I 2024-02-14 03:47:03,691] Trial 85 finished with value: 0.5426957605985038 and parameters: {'weights': 'distance', 'n_components': 6, 'n_neighbors': 100}. Best is trial 66 with value: 0.5771508728179551.\n",
      "[I 2024-02-14 03:47:04,075] Trial 86 finished with value: 0.5406820448877806 and parameters: {'weights': 'distance', 'n_components': 7, 'n_neighbors': 100}. Best is trial 66 with value: 0.5771508728179551.\n",
      "[I 2024-02-14 03:47:04,424] Trial 87 finished with value: 0.538705735660848 and parameters: {'weights': 'distance', 'n_components': 8, 'n_neighbors': 93}. Best is trial 66 with value: 0.5771508728179551.\n",
      "[I 2024-02-14 03:47:05,013] Trial 88 finished with value: 0.4867817955112219 and parameters: {'weights': 'distance', 'n_components': 47, 'n_neighbors': 96}. Best is trial 66 with value: 0.5771508728179551.\n",
      "[I 2024-02-14 03:47:05,511] Trial 89 finished with value: 0.5197394014962594 and parameters: {'weights': 'distance', 'n_components': 3, 'n_neighbors': 97}. Best is trial 66 with value: 0.5771508728179551.\n",
      "[I 2024-02-14 03:47:05,838] Trial 90 finished with value: 0.5257331670822942 and parameters: {'weights': 'distance', 'n_components': 3, 'n_neighbors': 86}. Best is trial 66 with value: 0.5771508728179551.\n",
      "[I 2024-02-14 03:47:06,210] Trial 91 finished with value: 0.5576471321695761 and parameters: {'weights': 'distance', 'n_components': 5, 'n_neighbors': 87}. Best is trial 66 with value: 0.5771508728179551.\n",
      "[I 2024-02-14 03:47:06,732] Trial 92 finished with value: 0.5466683291770573 and parameters: {'weights': 'distance', 'n_components': 5, 'n_neighbors': 92}. Best is trial 66 with value: 0.5771508728179551.\n",
      "[I 2024-02-14 03:47:07,055] Trial 93 finished with value: 0.5531720698254364 and parameters: {'weights': 'distance', 'n_components': 6, 'n_neighbors': 92}. Best is trial 66 with value: 0.5771508728179551.\n",
      "[I 2024-02-14 03:47:07,390] Trial 94 finished with value: 0.5741483790523692 and parameters: {'weights': 'distance', 'n_components': 4, 'n_neighbors': 95}. Best is trial 66 with value: 0.5771508728179551.\n",
      "[I 2024-02-14 03:47:07,715] Trial 95 finished with value: 0.5731521197007482 and parameters: {'weights': 'distance', 'n_components': 4, 'n_neighbors': 95}. Best is trial 66 with value: 0.5771508728179551.\n",
      "[I 2024-02-14 03:47:08,262] Trial 96 finished with value: 0.5217206982543641 and parameters: {'weights': 'distance', 'n_components': 10, 'n_neighbors': 98}. Best is trial 66 with value: 0.5771508728179551.\n",
      "[I 2024-02-14 03:47:08,623] Trial 97 finished with value: 0.533205735660848 and parameters: {'weights': 'distance', 'n_components': 10, 'n_neighbors': 98}. Best is trial 66 with value: 0.5771508728179551.\n",
      "[I 2024-02-14 03:47:08,939] Trial 98 finished with value: 0.5481670822942644 and parameters: {'weights': 'distance', 'n_components': 6, 'n_neighbors': 98}. Best is trial 66 with value: 0.5771508728179551.\n",
      "[I 2024-02-14 03:47:09,212] Trial 99 finished with value: 0.5506620947630922 and parameters: {'weights': 'distance', 'n_components': 6, 'n_neighbors': 94}. Best is trial 66 with value: 0.5771508728179551.\n"
     ]
    }
   ],
   "source": [
    "study = optuna.create_study(direction=\"maximize\")\n",
    "study.optimize(objective, n_trials=100, n_jobs=2)"
   ]
  },
  {
   "cell_type": "code",
   "execution_count": 74,
   "metadata": {},
   "outputs": [
    {
     "name": "stdout",
     "output_type": "stream",
     "text": [
      "Accuracy: 0.321\n",
      "Balanced accuracy: 0.33\n",
      "Top-2 accuracy: 0.545\n",
      "Top-3 accuracy: 0.729\n"
     ]
    }
   ],
   "source": [
    "model = make_pipeline(\n",
    "    OneHotEncoder(handle_unknown=\"ignore\", sparse_output=False, dtype=np.int8),\n",
    "    KNNImputer(n_neighbors=7),\n",
    "    PCA(n_components=study.best_params[\"n_components\"]),\n",
    "    KNeighborsClassifier(n_neighbors=study.best_params[\"n_neighbors\"], weights=study.best_params[\"weights\"], n_jobs=4),\n",
    ")\n",
    "\n",
    "model.fit(X_train, y_train)\n",
    "y_test_pred = model.predict(X_test)\n",
    "\n",
    "print(f\"Accuracy: {accuracy_score(y_test, y_test_pred).round(3)}\")\n",
    "print(f\"Balanced accuracy: {balanced_accuracy_score(y_test, y_test_pred).round(3)}\")\n",
    "print(f\"Top-2 accuracy: {top_k_accuracy_score(y_test, model.predict_proba(X_test), k=2).round(3)}\")\n",
    "print(f\"Top-3 accuracy: {top_k_accuracy_score(y_test, model.predict_proba(X_test), k=3).round(3)}\")"
   ]
  },
  {
   "cell_type": "code",
   "execution_count": 75,
   "metadata": {},
   "outputs": [
    {
     "data": {
      "text/plain": [
       "['/home/vscode/.ezancestry/data/models/seldin_superpopulation.joblib']"
      ]
     },
     "execution_count": 75,
     "metadata": {},
     "output_type": "execute_result"
    }
   ],
   "source": [
    "# Save the model\n",
    "model_path = Path(_models_directory) / f\"seldin_{_population_level}.joblib\"\n",
    "model_path.parent.mkdir(parents=True, exist_ok=True)\n",
    "joblib.dump(model, model_path)"
   ]
  }
 ],
 "metadata": {
  "kernelspec": {
   "display_name": ".venv",
   "language": "python",
   "name": "python3"
  },
  "language_info": {
   "codemirror_mode": {
    "name": "ipython",
    "version": 3
   },
   "file_extension": ".py",
   "mimetype": "text/x-python",
   "name": "python",
   "nbconvert_exporter": "python",
   "pygments_lexer": "ipython3",
   "version": "3.11.8"
  }
 },
 "nbformat": 4,
 "nbformat_minor": 2
}
