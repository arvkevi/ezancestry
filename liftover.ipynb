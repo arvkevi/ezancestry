{
 "cells": [
  {
   "cell_type": "code",
   "execution_count": 2,
   "metadata": {},
   "outputs": [
    {
     "name": "stdout",
     "output_type": "stream",
     "text": [
      "Requirement already satisfied: pyliftover in ./.venv/lib/python3.10/site-packages (0.4.1)\n",
      "\n",
      "\u001b[1m[\u001b[0m\u001b[34;49mnotice\u001b[0m\u001b[1;39;49m]\u001b[0m\u001b[39;49m A new release of pip is available: \u001b[0m\u001b[31;49m23.3.2\u001b[0m\u001b[39;49m -> \u001b[0m\u001b[32;49m24.0\u001b[0m\n",
      "\u001b[1m[\u001b[0m\u001b[34;49mnotice\u001b[0m\u001b[1;39;49m]\u001b[0m\u001b[39;49m To update, run: \u001b[0m\u001b[32;49mpip install --upgrade pip\u001b[0m\n"
     ]
    }
   ],
   "source": [
    "!pip install pyliftover"
   ]
  },
  {
   "cell_type": "code",
   "execution_count": 3,
   "metadata": {},
   "outputs": [],
   "source": [
    "import pandas as pd"
   ]
  },
  {
   "cell_type": "code",
   "execution_count": 4,
   "metadata": {},
   "outputs": [],
   "source": [
    "from pyliftover import LiftOver\n",
    "lo = LiftOver('hg19', 'hg38')"
   ]
  },
  {
   "cell_type": "code",
   "execution_count": 5,
   "metadata": {},
   "outputs": [],
   "source": [
    "kidd_aisnps_filename = \"data/aisnps/kidd.aisnp.txt\"\n",
    "seldin_aisnps_filename = \"data/aisnps/seldin.aisnp.txt\"\n",
    "\n",
    "kidd = pd.read_csv(kidd_aisnps_filename, sep=\"\\t\")\n",
    "seldin = pd.read_csv(seldin_aisnps_filename, sep=\"\\t\")"
   ]
  },
  {
   "cell_type": "code",
   "execution_count": 6,
   "metadata": {},
   "outputs": [],
   "source": [
    "def convert_to_hg38(row):\n",
    "    chrom = f\"chr{row['chromosome']}\"\n",
    "    pos = row['position']\n",
    "    try:\n",
    "        results = lo.convert_coordinate(chrom, pos)\n",
    "        if len(results) > 1:\n",
    "            print(f\"Multiple results for {chrom}:{pos}\")\n",
    "            return None\n",
    "        else:\n",
    "            return results[0][1]\n",
    "    except:\n",
    "        print(f\"Error for {chrom}:{pos}\")\n",
    "        return None"
   ]
  },
  {
   "cell_type": "code",
   "execution_count": 7,
   "metadata": {},
   "outputs": [],
   "source": [
    "kidd[\"position\"] = kidd.apply(convert_to_hg38, axis=1)\n",
    "kidd.to_csv(\"data/aisnps/kidd.aisnp.hg38.txt\", sep=\"\\t\", index=False)"
   ]
  },
  {
   "cell_type": "code",
   "execution_count": 8,
   "metadata": {},
   "outputs": [],
   "source": [
    "seldin[\"position\"] = seldin.apply(convert_to_hg38, axis=1)\n",
    "seldin.to_csv(\"data/aisnps/seldin.aisnp.hg38.txt\", sep=\"\\t\", index=False)"
   ]
  },
  {
   "cell_type": "code",
   "execution_count": null,
   "metadata": {},
   "outputs": [],
   "source": []
  }
 ],
 "metadata": {
  "kernelspec": {
   "display_name": ".venv",
   "language": "python",
   "name": "python3"
  },
  "language_info": {
   "codemirror_mode": {
    "name": "ipython",
    "version": 3
   },
   "file_extension": ".py",
   "mimetype": "text/x-python",
   "name": "python",
   "nbconvert_exporter": "python",
   "pygments_lexer": "ipython3",
   "version": "3.11.2"
  }
 },
 "nbformat": 4,
 "nbformat_minor": 2
}
