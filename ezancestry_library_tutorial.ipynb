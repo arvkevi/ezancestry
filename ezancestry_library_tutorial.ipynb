{
 "cells": [
  {
   "cell_type": "markdown",
   "metadata": {},
   "source": [
    "# Using ezancestry as a Python library"
   ]
  },
  {
   "cell_type": "code",
   "execution_count": 1,
   "metadata": {},
   "outputs": [],
   "source": [
    "from pathlib import Path\n",
    "\n",
    "from sklearn.model_selection import train_test_split"
   ]
  },
  {
   "cell_type": "code",
   "execution_count": 2,
   "metadata": {},
   "outputs": [],
   "source": [
    "# load config variables\n",
    "from ezancestry.config import aisnps_directory as _aisnps_directory\n",
    "from ezancestry.config import aisnps_set as _aisnps_set\n",
    "from ezancestry.config import algorithm as _algorithm\n",
    "from ezancestry.config import k as _k\n",
    "from ezancestry.config import models_directory as _models_directory\n",
    "from ezancestry.config import n_components as _n_components\n",
    "from ezancestry.config import population_level as _population_level\n",
    "from ezancestry.config import samples_directory as _samples_directory\n",
    "from ezancestry.config import thousand_genomes_directory as _thousand_genomes_directory\n",
    "\n",
    "# load functions\n",
    "from ezancestry.aisnps import extract_aisnps\n",
    "from ezancestry.dimred import dimensionality_reduction\n",
    "from ezancestry.evaluate import export_performance\n",
    "from ezancestry.fetch import download_thousand_genomes\n",
    "from ezancestry.model import predict_ancestry, train\n",
    "from ezancestry.process import (encode_genotypes, get_1kg_labels,\n",
    "                                process_user_input, vcf2df)"
   ]
  },
  {
   "cell_type": "markdown",
   "metadata": {},
   "source": [
    "### pull aisnps from 1kG"
   ]
  },
  {
   "cell_type": "code",
   "execution_count": 3,
   "metadata": {},
   "outputs": [
    {
     "name": "stderr",
     "output_type": "stream",
     "text": [
      "2021-09-20 06:24:56.869 | INFO     | ezancestry.aisnps:extract_aisnps:58 - Looking for 1000 genomes data in: /Users/kevin/.ezancestry/data/thousand_genomes\n",
      "2021-09-20 06:24:57.402 | INFO     | ezancestry.aisnps:extract_aisnps:84 - Successfully wrote kidd.aisnp.1kG.vcf\n"
     ]
    }
   ],
   "source": [
    "# kidd\n",
    "aisnps_file = Path(_aisnps_directory).joinpath(\"kidd.aisnp.txt\")\n",
    "extract_aisnps(_thousand_genomes_directory, aisnps_file, aisnps_set=\"kidd\")"
   ]
  },
  {
   "cell_type": "code",
   "execution_count": 4,
   "metadata": {},
   "outputs": [
    {
     "name": "stderr",
     "output_type": "stream",
     "text": [
      "2021-09-20 06:24:57.414 | INFO     | ezancestry.aisnps:extract_aisnps:58 - Looking for 1000 genomes data in: /Users/kevin/.ezancestry/data/thousand_genomes\n",
      "2021-09-20 06:24:58.501 | INFO     | ezancestry.aisnps:extract_aisnps:84 - Successfully wrote Seldin.aisnp.1kG.vcf\n"
     ]
    }
   ],
   "source": [
    "# Seldin\n",
    "aisnps_file = Path(_aisnps_directory).joinpath(\"Seldin.aisnp.txt\")\n",
    "extract_aisnps(_thousand_genomes_directory, aisnps_file, aisnps_set=\"Seldin\")"
   ]
  },
  {
   "cell_type": "code",
   "execution_count": 5,
   "metadata": {},
   "outputs": [],
   "source": [
    "# pull the 1000 Genomes Project samples\n",
    "dfsamples = get_1kg_labels(_samples_directory)"
   ]
  },
  {
   "cell_type": "code",
   "execution_count": 6,
   "metadata": {},
   "outputs": [
    {
     "data": {
      "text/html": [
       "<div>\n",
       "<style scoped>\n",
       "    .dataframe tbody tr th:only-of-type {\n",
       "        vertical-align: middle;\n",
       "    }\n",
       "\n",
       "    .dataframe tbody tr th {\n",
       "        vertical-align: top;\n",
       "    }\n",
       "\n",
       "    .dataframe thead th {\n",
       "        text-align: right;\n",
       "    }\n",
       "</style>\n",
       "<table border=\"1\" class=\"dataframe\">\n",
       "  <thead>\n",
       "    <tr style=\"text-align: right;\">\n",
       "      <th></th>\n",
       "      <th>population</th>\n",
       "      <th>superpopulation</th>\n",
       "      <th>gender</th>\n",
       "    </tr>\n",
       "    <tr>\n",
       "      <th>sample</th>\n",
       "      <th></th>\n",
       "      <th></th>\n",
       "      <th></th>\n",
       "    </tr>\n",
       "  </thead>\n",
       "  <tbody>\n",
       "    <tr>\n",
       "      <th>HG00096</th>\n",
       "      <td>GBR</td>\n",
       "      <td>EUR</td>\n",
       "      <td>male</td>\n",
       "    </tr>\n",
       "    <tr>\n",
       "      <th>HG00097</th>\n",
       "      <td>GBR</td>\n",
       "      <td>EUR</td>\n",
       "      <td>female</td>\n",
       "    </tr>\n",
       "    <tr>\n",
       "      <th>HG00099</th>\n",
       "      <td>GBR</td>\n",
       "      <td>EUR</td>\n",
       "      <td>female</td>\n",
       "    </tr>\n",
       "  </tbody>\n",
       "</table>\n",
       "</div>"
      ],
      "text/plain": [
       "        population superpopulation  gender\n",
       "sample                                    \n",
       "HG00096        GBR             EUR    male\n",
       "HG00097        GBR             EUR  female\n",
       "HG00099        GBR             EUR  female"
      ]
     },
     "execution_count": 6,
     "metadata": {},
     "output_type": "execute_result"
    }
   ],
   "source": [
    "dfsamples.head(3)"
   ]
  },
  {
   "cell_type": "code",
   "execution_count": 7,
   "metadata": {},
   "outputs": [],
   "source": [
    "vcf_fname = Path(_aisnps_directory).joinpath(\"kidd.aisnp.1kG.vcf\")\n",
    "df_kidd = vcf2df(vcf_fname, dfsamples)"
   ]
  },
  {
   "cell_type": "code",
   "execution_count": 8,
   "metadata": {},
   "outputs": [
    {
     "name": "stderr",
     "output_type": "stream",
     "text": [
      "/Users/kevin/projects/ezancestry/ezancestry/process.py:58: PerformanceWarning: DataFrame is highly fragmented.  This is usually the result of calling `frame.insert` many times, which has poor performance.  Consider joining all columns at once using pd.concat(axis=1) instead.  To get a de-fragmented frame, use `newframe = frame.copy()`\n",
      "  df[variant.ID] = [\n"
     ]
    }
   ],
   "source": [
    "vcf_fname = Path(_aisnps_directory).joinpath(\"Seldin.aisnp.1kG.vcf\")\n",
    "df_seldin = vcf2df(vcf_fname, dfsamples)"
   ]
  },
  {
   "cell_type": "markdown",
   "metadata": {},
   "source": [
    "### could start here"
   ]
  },
  {
   "cell_type": "code",
   "execution_count": 9,
   "metadata": {},
   "outputs": [],
   "source": [
    "train_kidd, test_kidd, y_train_kidd, y_test_kidd = train_test_split(\n",
    "    df_kidd,\n",
    "    df_kidd[\"superpopulation\"],\n",
    "    test_size=0.2,\n",
    "    stratify=df_kidd[\"superpopulation\"],\n",
    "    random_state=42,\n",
    ")"
   ]
  },
  {
   "cell_type": "markdown",
   "metadata": {},
   "source": [
    "### one-hot encode snps"
   ]
  },
  {
   "cell_type": "code",
   "execution_count": 10,
   "metadata": {},
   "outputs": [],
   "source": [
    "# The user could have missing snps\n",
    "df_user = df_kidd[df_kidd.columns[0:43]].copy()\n",
    "\n",
    "# The user could have extra snps\n",
    "df_user[\"extra_snp\"] = \"TT\"\n",
    "\n",
    "# The user could have genotypes that weren't in the original encoder\n",
    "df_user.loc[\"HG00096\", \"rs3737576\"] = \"blah\""
   ]
  },
  {
   "cell_type": "code",
   "execution_count": 11,
   "metadata": {},
   "outputs": [
    {
     "name": "stderr",
     "output_type": "stream",
     "text": [
      "2021-09-20 06:25:00.167 | INFO     | ezancestry.process:encode_genotypes:138 - Successfully loaded an encoder from /Users/kevin/.ezancestry/data/models/one_hot_encoder.kidd.bin\n"
     ]
    }
   ],
   "source": [
    "ohe_user = encode_genotypes(df_user, aisnps_set=\"kidd\", overwrite_encoder=False)"
   ]
  },
  {
   "cell_type": "code",
   "execution_count": 12,
   "metadata": {},
   "outputs": [
    {
     "data": {
      "text/plain": [
       "rs3737576_CC    0.0\n",
       "rs3737576_CT    0.0\n",
       "rs3737576_TT    0.0\n",
       "Name: HG00096, dtype: float64"
      ]
     },
     "execution_count": 12,
     "metadata": {},
     "output_type": "execute_result"
    }
   ],
   "source": [
    "# make sure \"blah\" genotype didn't get encoded\n",
    "ohe_user.loc[\"HG00096\", [\"rs3737576_CC\", \"rs3737576_CT\", \"rs3737576_TT\"]]"
   ]
  },
  {
   "cell_type": "code",
   "execution_count": 13,
   "metadata": {},
   "outputs": [],
   "source": [
    "# change to True to write new encoders\n",
    "OVERWRITE_ENCODER = False"
   ]
  },
  {
   "cell_type": "code",
   "execution_count": 14,
   "metadata": {},
   "outputs": [
    {
     "name": "stderr",
     "output_type": "stream",
     "text": [
      "2021-09-20 06:25:00.284 | INFO     | ezancestry.process:encode_genotypes:138 - Successfully loaded an encoder from /Users/kevin/.ezancestry/data/models/one_hot_encoder.kidd.bin\n",
      "2021-09-20 06:25:00.393 | INFO     | ezancestry.process:encode_genotypes:138 - Successfully loaded an encoder from /Users/kevin/.ezancestry/data/models/one_hot_encoder.seldin.bin\n"
     ]
    }
   ],
   "source": [
    "# get an encoder for each snp set\n",
    "df_kidd_encoded = encode_genotypes(df_kidd, aisnps_set=\"kidd\", overwrite_encoder=OVERWRITE_ENCODER)\n",
    "df_seldin_encoded = encode_genotypes(df_seldin, aisnps_set=\"Seldin\", overwrite_encoder=OVERWRITE_ENCODER)"
   ]
  },
  {
   "cell_type": "markdown",
   "metadata": {},
   "source": [
    "### dimensionality reduction & training"
   ]
  },
  {
   "cell_type": "code",
   "execution_count": 15,
   "metadata": {},
   "outputs": [],
   "source": [
    "OVERWRITE_MODEL = False"
   ]
  },
  {
   "cell_type": "code",
   "execution_count": 16,
   "metadata": {},
   "outputs": [
    {
     "name": "stderr",
     "output_type": "stream",
     "text": [
      "2021-09-20 06:25:00.502 | INFO     | ezancestry.dimred:dimensionality_reduction:126 - Successfully loaded a dimensionality reduction model\n",
      "2021-09-20 06:25:17.779 | INFO     | ezancestry.dimred:dimensionality_reduction:126 - Successfully loaded a dimensionality reduction model\n",
      "2021-09-20 06:25:17.796 | INFO     | ezancestry.dimred:dimensionality_reduction:126 - Successfully loaded a dimensionality reduction model\n",
      "2021-09-20 06:25:17.818 | INFO     | ezancestry.dimred:dimensionality_reduction:126 - Successfully loaded a dimensionality reduction model\n",
      "2021-09-20 06:25:31.511 | INFO     | ezancestry.dimred:dimensionality_reduction:126 - Successfully loaded a dimensionality reduction model\n",
      "2021-09-20 06:25:31.531 | INFO     | ezancestry.dimred:dimensionality_reduction:126 - Successfully loaded a dimensionality reduction model\n"
     ]
    }
   ],
   "source": [
    "# write all the super population dimred models for kidd and Seldin\n",
    "for aisnps_set, df, df_labels in zip(\n",
    "    [\"kidd\", \"Seldin\"], \n",
    "    [df_kidd_encoded, df_seldin_encoded], \n",
    "    [df_kidd[\"superpopulation\"], df_seldin[\"superpopulation\"]]\n",
    "):\n",
    "    for algorithm, labels in zip([\"pca\", \"umap\", \"nca\"], [None, None, None, df_labels]):\n",
    "        df_reduced = dimensionality_reduction(df, algorithm=algorithm, aisnps_set=aisnps_set, overwrite_model=OVERWRITE_MODEL, labels=labels, population_level=\"super population\")\n",
    "        knn_model = train(df_reduced, df_labels, algorithm=algorithm, aisnps_set=aisnps_set, k=9, population_level=\"superpopulation\", overwrite_model=OVERWRITE_MODEL)"
   ]
  },
  {
   "cell_type": "code",
   "execution_count": 17,
   "metadata": {
    "scrolled": true
   },
   "outputs": [
    {
     "name": "stderr",
     "output_type": "stream",
     "text": [
      "2021-09-20 06:25:31.567 | INFO     | ezancestry.dimred:dimensionality_reduction:126 - Successfully loaded a dimensionality reduction model\n",
      "2021-09-20 06:25:31.585 | INFO     | ezancestry.dimred:dimensionality_reduction:126 - Successfully loaded a dimensionality reduction model\n"
     ]
    }
   ],
   "source": [
    "# write all the population dimred models for kidd and Seldin\n",
    "for aisnps_set, df, df_labels in zip(\n",
    "    [\"kidd\", \"Seldin\"], \n",
    "    [df_kidd_encoded, df_seldin_encoded], \n",
    "    [df_kidd[\"population\"], df_seldin[\"population\"]]\n",
    "):\n",
    "    for algorithm, labels in zip([\"nca\"], [df_labels]):\n",
    "        df_reduced = dimensionality_reduction(df, algorithm=algorithm, aisnps_set=aisnps_set, overwrite_model=OVERWRITE_MODEL, labels=labels, population_level=\"population\")\n",
    "        knn_model = train(df_reduced, labels, algorithm=algorithm, aisnps_set=aisnps_set, k=9, population_level=\"population\", overwrite_model=OVERWRITE_MODEL)"
   ]
  },
  {
   "cell_type": "markdown",
   "metadata": {},
   "source": [
    "# Predict"
   ]
  },
  {
   "cell_type": "code",
   "execution_count": 18,
   "metadata": {},
   "outputs": [],
   "source": [
    "from ezancestry.commands import predict"
   ]
  },
  {
   "cell_type": "code",
   "execution_count": 19,
   "metadata": {},
   "outputs": [],
   "source": [
    "from snps import SNPs"
   ]
  },
  {
   "cell_type": "code",
   "execution_count": 20,
   "metadata": {},
   "outputs": [],
   "source": [
    "mygenomefile = \"/Users/kevin/mygenome/genome2.txt\""
   ]
  },
  {
   "cell_type": "markdown",
   "metadata": {},
   "source": [
    "## load from DataFrame"
   ]
  },
  {
   "cell_type": "code",
   "execution_count": 21,
   "metadata": {},
   "outputs": [],
   "source": [
    "# the snps Python package will read the genome file properly \n",
    "mygenome = SNPs(mygenomefile)\n",
    "mygenomedf = mygenome.snps"
   ]
  },
  {
   "cell_type": "code",
   "execution_count": 22,
   "metadata": {},
   "outputs": [
    {
     "data": {
      "text/html": [
       "<div>\n",
       "<style scoped>\n",
       "    .dataframe tbody tr th:only-of-type {\n",
       "        vertical-align: middle;\n",
       "    }\n",
       "\n",
       "    .dataframe tbody tr th {\n",
       "        vertical-align: top;\n",
       "    }\n",
       "\n",
       "    .dataframe thead th {\n",
       "        text-align: right;\n",
       "    }\n",
       "</style>\n",
       "<table border=\"1\" class=\"dataframe\">\n",
       "  <thead>\n",
       "    <tr style=\"text-align: right;\">\n",
       "      <th></th>\n",
       "      <th>chrom</th>\n",
       "      <th>pos</th>\n",
       "      <th>genotype</th>\n",
       "    </tr>\n",
       "    <tr>\n",
       "      <th>rsid</th>\n",
       "      <th></th>\n",
       "      <th></th>\n",
       "      <th></th>\n",
       "    </tr>\n",
       "  </thead>\n",
       "  <tbody>\n",
       "    <tr>\n",
       "      <th>rs12564807</th>\n",
       "      <td>1</td>\n",
       "      <td>734462</td>\n",
       "      <td>AA</td>\n",
       "    </tr>\n",
       "    <tr>\n",
       "      <th>rs3131972</th>\n",
       "      <td>1</td>\n",
       "      <td>752721</td>\n",
       "      <td>GG</td>\n",
       "    </tr>\n",
       "  </tbody>\n",
       "</table>\n",
       "</div>"
      ],
      "text/plain": [
       "           chrom     pos genotype\n",
       "rsid                             \n",
       "rs12564807     1  734462       AA\n",
       "rs3131972      1  752721       GG"
      ]
     },
     "execution_count": 22,
     "metadata": {},
     "output_type": "execute_result"
    }
   ],
   "source": [
    "mygenomedf.head(2)"
   ]
  },
  {
   "cell_type": "code",
   "execution_count": 23,
   "metadata": {},
   "outputs": [
    {
     "name": "stderr",
     "output_type": "stream",
     "text": [
      "2021-09-20 06:25:34.289 | INFO     | ezancestry.process:_input_to_dataframe:276 - Sample has a valid genotype for 44 out of a possible 55 (80.0%)\n",
      "2021-09-20 06:25:34.342 | INFO     | ezancestry.process:encode_genotypes:138 - Successfully loaded an encoder from /Users/kevin/.ezancestry/data/models/one_hot_encoder.kidd.bin\n",
      "2021-09-20 06:25:34.351 | INFO     | ezancestry.dimred:dimensionality_reduction:126 - Successfully loaded a dimensionality reduction model\n",
      "2021-09-20 06:25:34.356 | INFO     | ezancestry.model:predict_ancestry:94 - Successfully loaded trained knn model: /Users/kevin/.ezancestry/data/models/knn.pca.kidd.population.bin\n",
      "2021-09-20 06:25:34.403 | INFO     | ezancestry.dimred:dimensionality_reduction:126 - Successfully loaded a dimensionality reduction model\n",
      "2021-09-20 06:25:34.409 | INFO     | ezancestry.model:predict_ancestry:94 - Successfully loaded trained knn model: /Users/kevin/.ezancestry/data/models/knn.pca.kidd.superpopulation.bin\n"
     ]
    }
   ],
   "source": [
    "# predict on the \n",
    "predictions = predict(mygenomedf, \n",
    "                    aisnps_set=\"kidd\",\n",
    "                    k=None,\n",
    "                    n_components=None,\n",
    "                    algorithm=None,\n",
    "                    write_predictions=False,\n",
    "                    models_directory=None,\n",
    "                    output_directory=None,\n",
    "                    aisnps_directory=None,\n",
    "                    thousand_genomes_directory=None,\n",
    "                    samples_directory=None\n",
    "                     )"
   ]
  },
  {
   "cell_type": "code",
   "execution_count": 24,
   "metadata": {},
   "outputs": [
    {
     "data": {
      "text/html": [
       "<div>\n",
       "<style scoped>\n",
       "    .dataframe tbody tr th:only-of-type {\n",
       "        vertical-align: middle;\n",
       "    }\n",
       "\n",
       "    .dataframe tbody tr th {\n",
       "        vertical-align: top;\n",
       "    }\n",
       "\n",
       "    .dataframe thead th {\n",
       "        text-align: right;\n",
       "    }\n",
       "</style>\n",
       "<table border=\"1\" class=\"dataframe\">\n",
       "  <thead>\n",
       "    <tr style=\"text-align: right;\">\n",
       "      <th></th>\n",
       "      <th>component1</th>\n",
       "      <th>component2</th>\n",
       "      <th>component3</th>\n",
       "      <th>predicted_population_population</th>\n",
       "      <th>ACB</th>\n",
       "      <th>ASW</th>\n",
       "      <th>BEB</th>\n",
       "      <th>CDX</th>\n",
       "      <th>CEU</th>\n",
       "      <th>CHB</th>\n",
       "      <th>...</th>\n",
       "      <th>PUR</th>\n",
       "      <th>STU</th>\n",
       "      <th>TSI</th>\n",
       "      <th>YRI</th>\n",
       "      <th>predicted_population_superpopulation</th>\n",
       "      <th>AFR</th>\n",
       "      <th>AMR</th>\n",
       "      <th>EAS</th>\n",
       "      <th>EUR</th>\n",
       "      <th>SAS</th>\n",
       "    </tr>\n",
       "  </thead>\n",
       "  <tbody>\n",
       "    <tr>\n",
       "      <th>sample</th>\n",
       "      <td>-0.820187</td>\n",
       "      <td>-2.58022</td>\n",
       "      <td>-0.768882</td>\n",
       "      <td>IBS</td>\n",
       "      <td>0.0</td>\n",
       "      <td>0.0</td>\n",
       "      <td>0.0</td>\n",
       "      <td>0.0</td>\n",
       "      <td>0.089856</td>\n",
       "      <td>0.0</td>\n",
       "      <td>...</td>\n",
       "      <td>0.0</td>\n",
       "      <td>0.0</td>\n",
       "      <td>0.165606</td>\n",
       "      <td>0.0</td>\n",
       "      <td>EUR</td>\n",
       "      <td>0.0</td>\n",
       "      <td>0.0</td>\n",
       "      <td>0.0</td>\n",
       "      <td>1.0</td>\n",
       "      <td>0.0</td>\n",
       "    </tr>\n",
       "  </tbody>\n",
       "</table>\n",
       "<p>1 rows × 36 columns</p>\n",
       "</div>"
      ],
      "text/plain": [
       "        component1  component2  component3 predicted_population_population  \\\n",
       "sample   -0.820187    -2.58022   -0.768882                             IBS   \n",
       "\n",
       "        ACB  ASW  BEB  CDX       CEU  CHB  ...  PUR  STU       TSI  YRI  \\\n",
       "sample  0.0  0.0  0.0  0.0  0.089856  0.0  ...  0.0  0.0  0.165606  0.0   \n",
       "\n",
       "        predicted_population_superpopulation  AFR  AMR  EAS  EUR  SAS  \n",
       "sample                                   EUR  0.0  0.0  0.0  1.0  0.0  \n",
       "\n",
       "[1 rows x 36 columns]"
      ]
     },
     "execution_count": 24,
     "metadata": {},
     "output_type": "execute_result"
    }
   ],
   "source": [
    "predictions"
   ]
  },
  {
   "cell_type": "markdown",
   "metadata": {},
   "source": [
    "## or load directly from a file"
   ]
  },
  {
   "cell_type": "code",
   "execution_count": 25,
   "metadata": {
    "scrolled": true
   },
   "outputs": [
    {
     "name": "stderr",
     "output_type": "stream",
     "text": [
      "2021-09-20 06:25:36.877 | INFO     | ezancestry.process:_input_to_dataframe:276 - Sample has a valid genotype for 44 out of a possible 55 (80.0%)\n",
      "2021-09-20 06:25:36.955 | INFO     | ezancestry.process:encode_genotypes:138 - Successfully loaded an encoder from /Users/kevin/.ezancestry/data/models/one_hot_encoder.kidd.bin\n",
      "2021-09-20 06:25:36.963 | INFO     | ezancestry.dimred:dimensionality_reduction:126 - Successfully loaded a dimensionality reduction model\n",
      "2021-09-20 06:25:36.971 | INFO     | ezancestry.model:predict_ancestry:94 - Successfully loaded trained knn model: /Users/kevin/.ezancestry/data/models/knn.pca.kidd.population.bin\n",
      "2021-09-20 06:25:37.001 | INFO     | ezancestry.dimred:dimensionality_reduction:126 - Successfully loaded a dimensionality reduction model\n",
      "2021-09-20 06:25:37.005 | INFO     | ezancestry.model:predict_ancestry:94 - Successfully loaded trained knn model: /Users/kevin/.ezancestry/data/models/knn.pca.kidd.superpopulation.bin\n"
     ]
    }
   ],
   "source": [
    "predictions = predict(mygenomefile, \n",
    "                    aisnps_set=\"kidd\",\n",
    "                    k=None,\n",
    "                    n_components=None,\n",
    "                    algorithm=None,\n",
    "                    write_predictions=False,\n",
    "                    models_directory=None,\n",
    "                    output_directory=None,\n",
    "                    aisnps_directory=None,\n",
    "                    thousand_genomes_directory=None,\n",
    "                    samples_directory=None\n",
    "                     )"
   ]
  },
  {
   "cell_type": "code",
   "execution_count": 26,
   "metadata": {},
   "outputs": [
    {
     "data": {
      "text/html": [
       "<div>\n",
       "<style scoped>\n",
       "    .dataframe tbody tr th:only-of-type {\n",
       "        vertical-align: middle;\n",
       "    }\n",
       "\n",
       "    .dataframe tbody tr th {\n",
       "        vertical-align: top;\n",
       "    }\n",
       "\n",
       "    .dataframe thead th {\n",
       "        text-align: right;\n",
       "    }\n",
       "</style>\n",
       "<table border=\"1\" class=\"dataframe\">\n",
       "  <thead>\n",
       "    <tr style=\"text-align: right;\">\n",
       "      <th></th>\n",
       "      <th>component1</th>\n",
       "      <th>component2</th>\n",
       "      <th>component3</th>\n",
       "      <th>predicted_population_population</th>\n",
       "      <th>ACB</th>\n",
       "      <th>ASW</th>\n",
       "      <th>BEB</th>\n",
       "      <th>CDX</th>\n",
       "      <th>CEU</th>\n",
       "      <th>CHB</th>\n",
       "      <th>...</th>\n",
       "      <th>PUR</th>\n",
       "      <th>STU</th>\n",
       "      <th>TSI</th>\n",
       "      <th>YRI</th>\n",
       "      <th>predicted_population_superpopulation</th>\n",
       "      <th>AFR</th>\n",
       "      <th>AMR</th>\n",
       "      <th>EAS</th>\n",
       "      <th>EUR</th>\n",
       "      <th>SAS</th>\n",
       "    </tr>\n",
       "  </thead>\n",
       "  <tbody>\n",
       "    <tr>\n",
       "      <th>sample</th>\n",
       "      <td>-0.820187</td>\n",
       "      <td>-2.58022</td>\n",
       "      <td>-0.768882</td>\n",
       "      <td>IBS</td>\n",
       "      <td>0.0</td>\n",
       "      <td>0.0</td>\n",
       "      <td>0.0</td>\n",
       "      <td>0.0</td>\n",
       "      <td>0.089856</td>\n",
       "      <td>0.0</td>\n",
       "      <td>...</td>\n",
       "      <td>0.0</td>\n",
       "      <td>0.0</td>\n",
       "      <td>0.165606</td>\n",
       "      <td>0.0</td>\n",
       "      <td>EUR</td>\n",
       "      <td>0.0</td>\n",
       "      <td>0.0</td>\n",
       "      <td>0.0</td>\n",
       "      <td>1.0</td>\n",
       "      <td>0.0</td>\n",
       "    </tr>\n",
       "  </tbody>\n",
       "</table>\n",
       "<p>1 rows × 36 columns</p>\n",
       "</div>"
      ],
      "text/plain": [
       "        component1  component2  component3 predicted_population_population  \\\n",
       "sample   -0.820187    -2.58022   -0.768882                             IBS   \n",
       "\n",
       "        ACB  ASW  BEB  CDX       CEU  CHB  ...  PUR  STU       TSI  YRI  \\\n",
       "sample  0.0  0.0  0.0  0.0  0.089856  0.0  ...  0.0  0.0  0.165606  0.0   \n",
       "\n",
       "        predicted_population_superpopulation  AFR  AMR  EAS  EUR  SAS  \n",
       "sample                                   EUR  0.0  0.0  0.0  1.0  0.0  \n",
       "\n",
       "[1 rows x 36 columns]"
      ]
     },
     "execution_count": 26,
     "metadata": {},
     "output_type": "execute_result"
    }
   ],
   "source": [
    "predictions"
   ]
  }
 ],
 "metadata": {
  "kernelspec": {
   "display_name": "Python 3 (ipykernel)",
   "language": "python",
   "name": "python3"
  },
  "language_info": {
   "codemirror_mode": {
    "name": "ipython",
    "version": 3
   },
   "file_extension": ".py",
   "mimetype": "text/x-python",
   "name": "python",
   "nbconvert_exporter": "python",
   "pygments_lexer": "ipython3",
   "version": "3.8.12"
  }
 },
 "nbformat": 4,
 "nbformat_minor": 4
}
