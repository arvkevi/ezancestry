{
 "cells": [
  {
   "cell_type": "markdown",
   "metadata": {},
   "source": [
    "# Using ezancestry as a Python library"
   ]
  },
  {
   "cell_type": "code",
   "execution_count": 1,
   "metadata": {},
   "outputs": [],
   "source": [
    "from pathlib import Path\n",
    "\n",
    "import pandas as pd\n",
    "from sklearn.model_selection import train_test_split\n",
    "\n",
    "# load config variables\n",
    "from ezancestry.config import aisnps_directory as _aisnps_directory\n",
    "from ezancestry.config import aisnps_set as _aisnps_set\n",
    "from ezancestry.config import models_directory as _models_directory\n",
    "from ezancestry.config import population_level as _population_level\n",
    "from ezancestry.evaluate import export_performance\n",
    "\n",
    "# load functions\n",
    "from ezancestry.fetch import get_thousand_genomes_aisnps\n",
    "from ezancestry.model import DEFAULT_PIPELINE, predict_ancestry, train\n",
    "from ezancestry.process import process_user_input  #, vcf2df"
   ]
  },
  {
   "cell_type": "markdown",
   "metadata": {},
   "source": [
    "### pull aisnps from 1kG\n",
    "\n",
    "This will query the 1000 Genomes VCF for the Kidd et al. AISNPs and save the results as a .csv when it does not exist on your local disk.  \n",
    "The function also returns a results as a pandas DataFrame.\n",
    "\n",
    "Note that this will take a few minutes to run as it is querying the 1000 Genomes VCF.\n",
    "It will download `.tbi` files for the VCFs.\n",
    "\n",
    "**optional**\n",
    "The Kidd andn Seldin files are included when you install `ezancestry` and are located in the `ezancestry` directory. You do not need to run `get_thousand_genomes_aisnps` function if you have already installed or cloned the `ezancestry` repository.\n",
    "\n",
    "If you want to load the 1000 Genomes aisnps without downloading anything, you can use the following code:\n",
    "\n",
    "```python\n",
    "pd.read_csv(f\"{_aisnps_directory}/kidd.1kG.csv\")\n",
    "```"
   ]
  },
  {
   "cell_type": "code",
   "execution_count": 2,
   "metadata": {},
   "outputs": [],
   "source": [
    "# kidd1kg = get_thousand_genomes_aisnps(aisnps_directory=None, aisnps_sets=\"kidd\")\n",
    "# seldin1kg = get_thousand_genomes_aisnps(aisnps_directory=None, aisnps_sets=\"seldin\")\n",
    "\n",
    "# If you have a custom AISNPs file, named custom.aisnps.txt, you can load it using the following function to query the 1000 Genomes VCF\n",
    "# custom1kg = get_thousand_genomes_aisnps(aisnps_directory=None, aisnps_sets=\"custom\")"
   ]
  },
  {
   "cell_type": "code",
   "execution_count": 3,
   "metadata": {},
   "outputs": [
    {
     "name": "stderr",
     "output_type": "stream",
     "text": [
      "2024-02-12 22:03:25.842 | INFO     | ezancestry.fetch:get_thousand_genomes_aisnps:34 - Loaded: kidd.1kG.csv\n"
     ]
    }
   ],
   "source": [
    "# If the file exists in the aisnps_directory, you can load it rather than querying the 1000 Genomes VCF\n",
    "kidd1kg = get_thousand_genomes_aisnps(aisnps_directory=\"data/aisnps/\", aisnps_sets=_aisnps_set)"
   ]
  },
  {
   "cell_type": "code",
   "execution_count": 13,
   "metadata": {},
   "outputs": [
    {
     "ename": "",
     "evalue": "",
     "output_type": "error",
     "traceback": [
      "\u001b[1;31mThe Kernel crashed while executing code in the current cell or a previous cell. \n",
      "\u001b[1;31mPlease review the code in the cell(s) to identify a possible cause of the failure. \n",
      "\u001b[1;31mClick <a href='https://aka.ms/vscodeJupyterKernelCrash'>here</a> for more info. \n",
      "\u001b[1;31mView Jupyter <a href='command:jupyter.viewOutput'>log</a> for further details."
     ]
    }
   ],
   "source": [
    "DEFAULT_PIPELINE.fit(kidd1kg.drop(columns=[\"population\", \"superpopulation\", \"gender\"]), kidd1kg[\"superpopulation\"])"
   ]
  },
  {
   "cell_type": "code",
   "execution_count": 8,
   "metadata": {},
   "outputs": [
    {
     "ename": "",
     "evalue": "",
     "output_type": "error",
     "traceback": [
      "\u001b[1;31mThe Kernel crashed while executing code in the current cell or a previous cell. \n",
      "\u001b[1;31mPlease review the code in the cell(s) to identify a possible cause of the failure. \n",
      "\u001b[1;31mClick <a href='https://aka.ms/vscodeJupyterKernelCrash'>here</a> for more info. \n",
      "\u001b[1;31mView Jupyter <a href='command:jupyter.viewOutput'>log</a> for further details."
     ]
    }
   ],
   "source": [
    "model = train(\n",
    "    kidd1kg.drop(columns=[\"population\", \"superpopulation\", \"gender\"]),\n",
    "    kidd1kg[\"superpopulation\"],\n",
    "    sklearn_pipeline=None,\n",
    "    aisnps_set=\"kidd\",\n",
    "    models_directory=None,\n",
    "    population_level=\"superpopulation\",\n",
    "    overwrite_model=False,\n",
    ")"
   ]
  },
  {
   "cell_type": "code",
   "execution_count": null,
   "metadata": {},
   "outputs": [],
   "source": []
  },
  {
   "cell_type": "code",
   "execution_count": null,
   "metadata": {},
   "outputs": [],
   "source": [
    "vcf_fname = Path(_aisnps_directory).joinpath(\"kidd.aisnp.1kG.vcf\")\n",
    "df_kidd = vcf2df(vcf_fname, dfsamples)"
   ]
  },
  {
   "cell_type": "code",
   "execution_count": null,
   "metadata": {},
   "outputs": [],
   "source": [
    "vcf_fname = Path(_aisnps_directory).joinpath(\"Seldin.aisnp.1kG.vcf\")\n",
    "df_seldin = vcf2df(vcf_fname, dfsamples)"
   ]
  },
  {
   "cell_type": "markdown",
   "metadata": {},
   "source": [
    "### could start here"
   ]
  },
  {
   "cell_type": "code",
   "execution_count": null,
   "metadata": {},
   "outputs": [],
   "source": [
    "train_kidd, test_kidd, y_train_kidd, y_test_kidd = train_test_split(\n",
    "    df_kidd,\n",
    "    df_kidd[\"superpopulation\"],\n",
    "    test_size=0.2,\n",
    "    stratify=df_kidd[\"superpopulation\"],\n",
    "    random_state=42,\n",
    ")"
   ]
  },
  {
   "cell_type": "markdown",
   "metadata": {},
   "source": [
    "### one-hot encode snps"
   ]
  },
  {
   "cell_type": "code",
   "execution_count": null,
   "metadata": {},
   "outputs": [],
   "source": [
    "# The user could have missing snps\n",
    "df_user = df_kidd[df_kidd.columns[0:43]].copy()\n",
    "\n",
    "# The user could have extra snps\n",
    "df_user[\"extra_snp\"] = \"TT\"\n",
    "\n",
    "# The user could have genotypes that weren't in the original encoder\n",
    "df_user.loc[\"HG00096\", \"rs3737576\"] = \"blah\""
   ]
  },
  {
   "cell_type": "code",
   "execution_count": null,
   "metadata": {},
   "outputs": [],
   "source": [
    "ohe_user = encode_genotypes(df_user, aisnps_set=\"kidd\", overwrite_encoder=False)"
   ]
  },
  {
   "cell_type": "code",
   "execution_count": null,
   "metadata": {},
   "outputs": [],
   "source": [
    "# make sure \"blah\" genotype didn't get encoded\n",
    "ohe_user.loc[\"HG00096\", [\"rs3737576_CC\", \"rs3737576_CT\", \"rs3737576_TT\"]]"
   ]
  },
  {
   "cell_type": "code",
   "execution_count": null,
   "metadata": {},
   "outputs": [],
   "source": [
    "# change to True to write new encoders\n",
    "OVERWRITE_ENCODER = False"
   ]
  },
  {
   "cell_type": "code",
   "execution_count": null,
   "metadata": {},
   "outputs": [],
   "source": [
    "# get an encoder for each snp set\n",
    "df_kidd_encoded = encode_genotypes(df_kidd, aisnps_set=\"kidd\", overwrite_encoder=OVERWRITE_ENCODER)\n",
    "df_seldin_encoded = encode_genotypes(df_seldin, aisnps_set=\"Seldin\", overwrite_encoder=OVERWRITE_ENCODER)"
   ]
  },
  {
   "cell_type": "markdown",
   "metadata": {},
   "source": [
    "### dimensionality reduction & training"
   ]
  },
  {
   "cell_type": "code",
   "execution_count": null,
   "metadata": {},
   "outputs": [],
   "source": [
    "OVERWRITE_MODEL = False"
   ]
  },
  {
   "cell_type": "code",
   "execution_count": null,
   "metadata": {},
   "outputs": [],
   "source": [
    "# write all the super population dimred models for kidd and Seldin\n",
    "for aisnps_set, df, df_labels in zip(\n",
    "    [\"kidd\", \"Seldin\"], \n",
    "    [df_kidd_encoded, df_seldin_encoded], \n",
    "    [df_kidd[\"superpopulation\"], df_seldin[\"superpopulation\"]]\n",
    "):\n",
    "    for algorithm, labels in zip([\"pca\", \"umap\", \"nca\"], [None, None, None, df_labels]):\n",
    "        df_reduced = dimensionality_reduction(df, algorithm=algorithm, aisnps_set=aisnps_set, overwrite_model=OVERWRITE_MODEL, labels=labels, population_level=\"super population\")\n",
    "        knn_model = train(df_reduced, df_labels, algorithm=algorithm, aisnps_set=aisnps_set, k=9, population_level=\"superpopulation\", overwrite_model=OVERWRITE_MODEL)"
   ]
  },
  {
   "cell_type": "code",
   "execution_count": null,
   "metadata": {
    "scrolled": true
   },
   "outputs": [],
   "source": [
    "# write all the population dimred models for kidd and Seldin\n",
    "for aisnps_set, df, df_labels in zip(\n",
    "    [\"kidd\", \"Seldin\"], \n",
    "    [df_kidd_encoded, df_seldin_encoded], \n",
    "    [df_kidd[\"population\"], df_seldin[\"population\"]]\n",
    "):\n",
    "    for algorithm, labels in zip([\"nca\"], [df_labels]):\n",
    "        df_reduced = dimensionality_reduction(df, algorithm=algorithm, aisnps_set=aisnps_set, overwrite_model=OVERWRITE_MODEL, labels=labels, population_level=\"population\")\n",
    "        knn_model = train(df_reduced, labels, algorithm=algorithm, aisnps_set=aisnps_set, k=9, population_level=\"population\", overwrite_model=OVERWRITE_MODEL)"
   ]
  },
  {
   "cell_type": "markdown",
   "metadata": {},
   "source": [
    "# Predict"
   ]
  },
  {
   "cell_type": "code",
   "execution_count": null,
   "metadata": {},
   "outputs": [],
   "source": [
    "from ezancestry.commands import predict"
   ]
  },
  {
   "cell_type": "code",
   "execution_count": null,
   "metadata": {},
   "outputs": [],
   "source": [
    "from snps import SNPs"
   ]
  },
  {
   "cell_type": "code",
   "execution_count": null,
   "metadata": {},
   "outputs": [],
   "source": [
    "mygenomefile = \"/Users/kevin/mygenome/genome2.txt\""
   ]
  },
  {
   "cell_type": "markdown",
   "metadata": {},
   "source": [
    "## load from DataFrame"
   ]
  },
  {
   "cell_type": "code",
   "execution_count": null,
   "metadata": {},
   "outputs": [],
   "source": [
    "# the snps Python package will read the genome file properly \n",
    "mygenome = SNPs(mygenomefile)\n",
    "mygenomedf = mygenome.snps"
   ]
  },
  {
   "cell_type": "code",
   "execution_count": null,
   "metadata": {},
   "outputs": [],
   "source": [
    "mygenomedf.head(2)"
   ]
  },
  {
   "cell_type": "code",
   "execution_count": null,
   "metadata": {},
   "outputs": [],
   "source": [
    "# predict on the \n",
    "predictions = predict(mygenomedf, \n",
    "                    aisnps_set=\"kidd\",\n",
    "                    k=None,\n",
    "                    n_components=None,\n",
    "                    algorithm=None,\n",
    "                    write_predictions=False,\n",
    "                    models_directory=None,\n",
    "                    output_directory=None,\n",
    "                    aisnps_directory=None,\n",
    "                    thousand_genomes_directory=None,\n",
    "                    samples_directory=None\n",
    "                     )"
   ]
  },
  {
   "cell_type": "code",
   "execution_count": null,
   "metadata": {},
   "outputs": [],
   "source": [
    "predictions"
   ]
  },
  {
   "cell_type": "markdown",
   "metadata": {},
   "source": [
    "## or load directly from a file"
   ]
  },
  {
   "cell_type": "code",
   "execution_count": null,
   "metadata": {
    "scrolled": true
   },
   "outputs": [],
   "source": [
    "predictions = predict(mygenomefile, \n",
    "                    aisnps_set=\"kidd\",\n",
    "                    k=None,\n",
    "                    n_components=None,\n",
    "                    algorithm=None,\n",
    "                    write_predictions=False,\n",
    "                    models_directory=None,\n",
    "                    output_directory=None,\n",
    "                    aisnps_directory=None,\n",
    "                    thousand_genomes_directory=None,\n",
    "                    samples_directory=None\n",
    "                     )"
   ]
  },
  {
   "cell_type": "code",
   "execution_count": null,
   "metadata": {},
   "outputs": [],
   "source": [
    "predictions"
   ]
  }
 ],
 "metadata": {
  "kernelspec": {
   "display_name": "Python 3 (ipykernel)",
   "language": "python",
   "name": "python3"
  },
  "language_info": {
   "codemirror_mode": {
    "name": "ipython",
    "version": 3
   },
   "file_extension": ".py",
   "mimetype": "text/x-python",
   "name": "python",
   "nbconvert_exporter": "python",
   "pygments_lexer": "ipython3",
   "version": "3.10.13"
  },
  "vscode": {
   "interpreter": {
    "hash": "9c12d9657f81fa1a8a133a6003641895f843d6fde0780ff84e97b6d836f5a3df"
   }
  }
 },
 "nbformat": 4,
 "nbformat_minor": 4
}
