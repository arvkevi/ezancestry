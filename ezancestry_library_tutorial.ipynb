{
 "cells": [
  {
   "cell_type": "markdown",
   "metadata": {},
   "source": [
    "# Using ezancestry as a Python library"
   ]
  },
  {
   "cell_type": "code",
   "execution_count": 1,
   "metadata": {},
   "outputs": [],
   "source": [
    "from pathlib import Path\n",
    "\n",
    "from sklearn.model_selection import train_test_split"
   ]
  },
  {
   "cell_type": "code",
   "execution_count": 2,
   "metadata": {},
   "outputs": [],
   "source": [
    "# load config variables\n",
    "from ezancestry.config import aisnps_directory as _aisnps_directory\n",
    "from ezancestry.config import aisnps_set as _aisnps_set\n",
    "from ezancestry.config import algorithm as _algorithm\n",
    "from ezancestry.config import k as _k\n",
    "from ezancestry.config import models_directory as _models_directory\n",
    "from ezancestry.config import n_components as _n_components\n",
    "from ezancestry.config import population_level as _population_level\n",
    "from ezancestry.config import samples_directory as _samples_directory\n",
    "from ezancestry.config import thousand_genomes_directory as _thousand_genomes_directory\n",
    "\n",
    "# load functions\n",
    "from ezancestry.aisnps import extract_aisnps\n",
    "from ezancestry.dimred import dimensionality_reduction\n",
    "from ezancestry.evaluate import export_performance\n",
    "from ezancestry.fetch import download_thousand_genomes\n",
    "from ezancestry.model import predict_ancestry, train\n",
    "from ezancestry.process import (encode_genotypes, get_1kg_labels,\n",
    "                                process_user_input, vcf2df)"
   ]
  },
  {
   "cell_type": "markdown",
   "metadata": {},
   "source": [
    "### pull aisnps from 1kG"
   ]
  },
  {
   "cell_type": "code",
   "execution_count": 3,
   "metadata": {},
   "outputs": [
    {
     "name": "stderr",
     "output_type": "stream",
     "text": [
      "2021-09-12 21:31:57.465 | INFO     | ezancestry.aisnps:extract_aisnps:58 - Looking for 1000 genomes data in: /Users/kevin/.ezancestry/data/thousand_genomes\n",
      "2021-09-12 21:31:57.465 | INFO     | ezancestry.aisnps:extract_aisnps:58 - Looking for 1000 genomes data in: /Users/kevin/.ezancestry/data/thousand_genomes\n",
      "2021-09-12 21:31:58.053 | INFO     | ezancestry.aisnps:extract_aisnps:84 - Successfully wrote Kidd.AISNP.1kG.vcf\n",
      "2021-09-12 21:31:58.053 | INFO     | ezancestry.aisnps:extract_aisnps:84 - Successfully wrote Kidd.AISNP.1kG.vcf\n"
     ]
    }
   ],
   "source": [
    "# Kidd\n",
    "aisnps_file = Path(_aisnps_directory).joinpath(\"Kidd.AISNP.txt\")\n",
    "extract_aisnps(_thousand_genomes_directory, aisnps_file, aisnps_set=\"Kidd\")"
   ]
  },
  {
   "cell_type": "code",
   "execution_count": 4,
   "metadata": {},
   "outputs": [
    {
     "name": "stderr",
     "output_type": "stream",
     "text": [
      "2021-09-12 21:31:58.067 | INFO     | ezancestry.aisnps:extract_aisnps:58 - Looking for 1000 genomes data in: /Users/kevin/.ezancestry/data/thousand_genomes\n",
      "2021-09-12 21:31:58.067 | INFO     | ezancestry.aisnps:extract_aisnps:58 - Looking for 1000 genomes data in: /Users/kevin/.ezancestry/data/thousand_genomes\n",
      "2021-09-12 21:31:59.288 | INFO     | ezancestry.aisnps:extract_aisnps:84 - Successfully wrote Seldin.AISNP.1kG.vcf\n",
      "2021-09-12 21:31:59.288 | INFO     | ezancestry.aisnps:extract_aisnps:84 - Successfully wrote Seldin.AISNP.1kG.vcf\n"
     ]
    }
   ],
   "source": [
    "# Seldin\n",
    "aisnps_file = Path(_aisnps_directory).joinpath(\"Seldin.AISNP.txt\")\n",
    "extract_aisnps(_thousand_genomes_directory, aisnps_file, aisnps_set=\"Seldin\")"
   ]
  },
  {
   "cell_type": "code",
   "execution_count": 5,
   "metadata": {},
   "outputs": [],
   "source": [
    "# pull the 1000 Genomes Project samples\n",
    "dfsamples = get_1kg_labels(_samples_directory)"
   ]
  },
  {
   "cell_type": "code",
   "execution_count": 6,
   "metadata": {},
   "outputs": [
    {
     "data": {
      "text/html": [
       "<div>\n",
       "<style scoped>\n",
       "    .dataframe tbody tr th:only-of-type {\n",
       "        vertical-align: middle;\n",
       "    }\n",
       "\n",
       "    .dataframe tbody tr th {\n",
       "        vertical-align: top;\n",
       "    }\n",
       "\n",
       "    .dataframe thead th {\n",
       "        text-align: right;\n",
       "    }\n",
       "</style>\n",
       "<table border=\"1\" class=\"dataframe\">\n",
       "  <thead>\n",
       "    <tr style=\"text-align: right;\">\n",
       "      <th></th>\n",
       "      <th>population</th>\n",
       "      <th>superpopulation</th>\n",
       "      <th>gender</th>\n",
       "    </tr>\n",
       "    <tr>\n",
       "      <th>sample</th>\n",
       "      <th></th>\n",
       "      <th></th>\n",
       "      <th></th>\n",
       "    </tr>\n",
       "  </thead>\n",
       "  <tbody>\n",
       "    <tr>\n",
       "      <th>HG00096</th>\n",
       "      <td>GBR</td>\n",
       "      <td>EUR</td>\n",
       "      <td>male</td>\n",
       "    </tr>\n",
       "    <tr>\n",
       "      <th>HG00097</th>\n",
       "      <td>GBR</td>\n",
       "      <td>EUR</td>\n",
       "      <td>female</td>\n",
       "    </tr>\n",
       "    <tr>\n",
       "      <th>HG00099</th>\n",
       "      <td>GBR</td>\n",
       "      <td>EUR</td>\n",
       "      <td>female</td>\n",
       "    </tr>\n",
       "  </tbody>\n",
       "</table>\n",
       "</div>"
      ],
      "text/plain": [
       "        population superpopulation  gender\n",
       "sample                                    \n",
       "HG00096        GBR             EUR    male\n",
       "HG00097        GBR             EUR  female\n",
       "HG00099        GBR             EUR  female"
      ]
     },
     "execution_count": 6,
     "metadata": {},
     "output_type": "execute_result"
    },
    {
     "data": {
      "text/html": [
       "<div>\n",
       "<style scoped>\n",
       "    .dataframe tbody tr th:only-of-type {\n",
       "        vertical-align: middle;\n",
       "    }\n",
       "\n",
       "    .dataframe tbody tr th {\n",
       "        vertical-align: top;\n",
       "    }\n",
       "\n",
       "    .dataframe thead th {\n",
       "        text-align: right;\n",
       "    }\n",
       "</style>\n",
       "<table border=\"1\" class=\"dataframe\">\n",
       "  <thead>\n",
       "    <tr style=\"text-align: right;\">\n",
       "      <th></th>\n",
       "      <th>population</th>\n",
       "      <th>superpopulation</th>\n",
       "      <th>gender</th>\n",
       "    </tr>\n",
       "    <tr>\n",
       "      <th>sample</th>\n",
       "      <th></th>\n",
       "      <th></th>\n",
       "      <th></th>\n",
       "    </tr>\n",
       "  </thead>\n",
       "  <tbody>\n",
       "    <tr>\n",
       "      <th>HG00096</th>\n",
       "      <td>GBR</td>\n",
       "      <td>EUR</td>\n",
       "      <td>male</td>\n",
       "    </tr>\n",
       "    <tr>\n",
       "      <th>HG00097</th>\n",
       "      <td>GBR</td>\n",
       "      <td>EUR</td>\n",
       "      <td>female</td>\n",
       "    </tr>\n",
       "    <tr>\n",
       "      <th>HG00099</th>\n",
       "      <td>GBR</td>\n",
       "      <td>EUR</td>\n",
       "      <td>female</td>\n",
       "    </tr>\n",
       "  </tbody>\n",
       "</table>\n",
       "</div>"
      ],
      "text/plain": [
       "        population superpopulation  gender\n",
       "sample                                    \n",
       "HG00096        GBR             EUR    male\n",
       "HG00097        GBR             EUR  female\n",
       "HG00099        GBR             EUR  female"
      ]
     },
     "execution_count": 6,
     "metadata": {},
     "output_type": "execute_result"
    }
   ],
   "source": [
    "dfsamples.head(3)"
   ]
  },
  {
   "cell_type": "code",
   "execution_count": 7,
   "metadata": {},
   "outputs": [],
   "source": [
    "vcf_fname = Path(_aisnps_directory).joinpath(\"Kidd.AISNP.1kG.vcf\")\n",
    "df_kidd = vcf2df(vcf_fname, dfsamples)"
   ]
  },
  {
   "cell_type": "code",
   "execution_count": 8,
   "metadata": {},
   "outputs": [
    {
     "name": "stderr",
     "output_type": "stream",
     "text": [
      "/Users/kevin/projects/ezancestry/ezancestry/process.py:57: PerformanceWarning: DataFrame is highly fragmented.  This is usually the result of calling `frame.insert` many times, which has poor performance.  Consider joining all columns at once using pd.concat(axis=1) instead.  To get a de-fragmented frame, use `newframe = frame.copy()`\n",
      "  df[variant.ID] = [\n",
      "/Users/kevin/projects/ezancestry/ezancestry/process.py:57: PerformanceWarning: DataFrame is highly fragmented.  This is usually the result of calling `frame.insert` many times, which has poor performance.  Consider joining all columns at once using pd.concat(axis=1) instead.  To get a de-fragmented frame, use `newframe = frame.copy()`\n",
      "  df[variant.ID] = [\n"
     ]
    }
   ],
   "source": [
    "vcf_fname = Path(_aisnps_directory).joinpath(\"Seldin.AISNP.1kG.vcf\")\n",
    "df_seldin = vcf2df(vcf_fname, dfsamples)"
   ]
  },
  {
   "cell_type": "markdown",
   "metadata": {},
   "source": [
    "### could start here"
   ]
  },
  {
   "cell_type": "code",
   "execution_count": 9,
   "metadata": {},
   "outputs": [],
   "source": [
    "train_kidd, test_kidd, y_train_kidd, y_test_kidd = train_test_split(\n",
    "    df_kidd,\n",
    "    df_kidd[\"superpopulation\"],\n",
    "    test_size=0.2,\n",
    "    stratify=df_kidd[\"superpopulation\"],\n",
    "    random_state=42,\n",
    ")"
   ]
  },
  {
   "cell_type": "markdown",
   "metadata": {},
   "source": [
    "### one-hot encode snps"
   ]
  },
  {
   "cell_type": "code",
   "execution_count": 10,
   "metadata": {},
   "outputs": [],
   "source": [
    "# The user could have missing snps\n",
    "df_user = df_kidd[df_kidd.columns[0:43]].copy()\n",
    "\n",
    "# The user could have extra snps\n",
    "df_user[\"extra_snp\"] = \"TT\"\n",
    "\n",
    "# The user could have genotypes that weren't in the original encoder\n",
    "df_user.loc[\"HG00096\", \"rs3737576\"] = \"blah\""
   ]
  },
  {
   "cell_type": "code",
   "execution_count": 11,
   "metadata": {},
   "outputs": [
    {
     "name": "stderr",
     "output_type": "stream",
     "text": [
      "2021-09-12 21:32:01.251 | INFO     | ezancestry.process:encode_genotypes:137 - Successfully loaded an encoder from /Users/kevin/.ezancestry/data/models/one_hot_encoder.KIDD.bin\n",
      "2021-09-12 21:32:01.251 | INFO     | ezancestry.process:encode_genotypes:137 - Successfully loaded an encoder from /Users/kevin/.ezancestry/data/models/one_hot_encoder.KIDD.bin\n"
     ]
    }
   ],
   "source": [
    "ohe_user = encode_genotypes(df_user, aisnps_set=\"Kidd\", overwrite_encoder=False)"
   ]
  },
  {
   "cell_type": "code",
   "execution_count": 12,
   "metadata": {},
   "outputs": [
    {
     "data": {
      "text/plain": [
       "rs3737576_CC    0.0\n",
       "rs3737576_CT    0.0\n",
       "rs3737576_TT    0.0\n",
       "Name: HG00096, dtype: float64"
      ]
     },
     "execution_count": 12,
     "metadata": {},
     "output_type": "execute_result"
    },
    {
     "data": {
      "text/plain": [
       "rs3737576_CC    0.0\n",
       "rs3737576_CT    0.0\n",
       "rs3737576_TT    0.0\n",
       "Name: HG00096, dtype: float64"
      ]
     },
     "execution_count": 12,
     "metadata": {},
     "output_type": "execute_result"
    }
   ],
   "source": [
    "# make sure \"blah\" genotype didn't get encoded\n",
    "ohe_user.loc[\"HG00096\", [\"rs3737576_CC\", \"rs3737576_CT\", \"rs3737576_TT\"]]"
   ]
  },
  {
   "cell_type": "code",
   "execution_count": 13,
   "metadata": {},
   "outputs": [],
   "source": [
    "# change to True to write new encoders\n",
    "OVERWRITE_ENCODER = False"
   ]
  },
  {
   "cell_type": "code",
   "execution_count": 14,
   "metadata": {},
   "outputs": [
    {
     "name": "stderr",
     "output_type": "stream",
     "text": [
      "2021-09-12 21:32:01.379 | INFO     | ezancestry.process:encode_genotypes:137 - Successfully loaded an encoder from /Users/kevin/.ezancestry/data/models/one_hot_encoder.KIDD.bin\n",
      "2021-09-12 21:32:01.379 | INFO     | ezancestry.process:encode_genotypes:137 - Successfully loaded an encoder from /Users/kevin/.ezancestry/data/models/one_hot_encoder.KIDD.bin\n",
      "2021-09-12 21:32:01.502 | INFO     | ezancestry.process:encode_genotypes:137 - Successfully loaded an encoder from /Users/kevin/.ezancestry/data/models/one_hot_encoder.SELDIN.bin\n",
      "2021-09-12 21:32:01.502 | INFO     | ezancestry.process:encode_genotypes:137 - Successfully loaded an encoder from /Users/kevin/.ezancestry/data/models/one_hot_encoder.SELDIN.bin\n"
     ]
    }
   ],
   "source": [
    "# get an encoder for each snp set\n",
    "df_kidd_encoded = encode_genotypes(df_kidd, aisnps_set=\"Kidd\", overwrite_encoder=OVERWRITE_ENCODER)\n",
    "df_seldin_encoded = encode_genotypes(df_seldin, aisnps_set=\"Seldin\", overwrite_encoder=OVERWRITE_ENCODER)"
   ]
  },
  {
   "cell_type": "markdown",
   "metadata": {},
   "source": [
    "### dimensionality reduction & training"
   ]
  },
  {
   "cell_type": "code",
   "execution_count": 15,
   "metadata": {},
   "outputs": [],
   "source": [
    "OVERWRITE_MODEL = False"
   ]
  },
  {
   "cell_type": "code",
   "execution_count": 16,
   "metadata": {},
   "outputs": [
    {
     "name": "stderr",
     "output_type": "stream",
     "text": [
      "2021-09-12 21:32:01.642 | INFO     | ezancestry.dimred:dimensionality_reduction:126 - Successfully loaded a dimensionality reduction model\n",
      "2021-09-12 21:32:01.642 | INFO     | ezancestry.dimred:dimensionality_reduction:126 - Successfully loaded a dimensionality reduction model\n",
      "2021-09-12 21:32:20.240 | INFO     | ezancestry.dimred:dimensionality_reduction:126 - Successfully loaded a dimensionality reduction model\n",
      "2021-09-12 21:32:20.240 | INFO     | ezancestry.dimred:dimensionality_reduction:126 - Successfully loaded a dimensionality reduction model\n",
      "2021-09-12 21:32:20.264 | INFO     | ezancestry.dimred:dimensionality_reduction:126 - Successfully loaded a dimensionality reduction model\n",
      "2021-09-12 21:32:20.264 | INFO     | ezancestry.dimred:dimensionality_reduction:126 - Successfully loaded a dimensionality reduction model\n",
      "2021-09-12 21:32:20.288 | INFO     | ezancestry.dimred:dimensionality_reduction:126 - Successfully loaded a dimensionality reduction model\n",
      "2021-09-12 21:32:20.288 | INFO     | ezancestry.dimred:dimensionality_reduction:126 - Successfully loaded a dimensionality reduction model\n",
      "2021-09-12 21:32:34.894 | INFO     | ezancestry.dimred:dimensionality_reduction:126 - Successfully loaded a dimensionality reduction model\n",
      "2021-09-12 21:32:34.894 | INFO     | ezancestry.dimred:dimensionality_reduction:126 - Successfully loaded a dimensionality reduction model\n",
      "2021-09-12 21:32:34.918 | INFO     | ezancestry.dimred:dimensionality_reduction:126 - Successfully loaded a dimensionality reduction model\n",
      "2021-09-12 21:32:34.918 | INFO     | ezancestry.dimred:dimensionality_reduction:126 - Successfully loaded a dimensionality reduction model\n"
     ]
    }
   ],
   "source": [
    "# write all the SUPER POPULATION dimred models for Kidd and Seldin\n",
    "for aisnps_set, df, df_labels in zip(\n",
    "    [\"Kidd\", \"Seldin\"], \n",
    "    [df_kidd_encoded, df_seldin_encoded], \n",
    "    [df_kidd[\"superpopulation\"], df_seldin[\"superpopulation\"]]\n",
    "):\n",
    "    for algorithm, labels in zip([\"PCA\", \"UMAP\", \"NCA\"], [None, None, None, df_labels]):\n",
    "        df_reduced = dimensionality_reduction(df, algorithm=algorithm, aisnps_set=aisnps_set, overwrite_model=OVERWRITE_MODEL, labels=labels, population_level=\"super population\")\n",
    "        knn_model = train(df_reduced, df_labels, algorithm=algorithm, aisnps_set=aisnps_set, k=9, population_level=\"superpopulation\", overwrite_model=OVERWRITE_MODEL)"
   ]
  },
  {
   "cell_type": "code",
   "execution_count": 17,
   "metadata": {
    "scrolled": true
   },
   "outputs": [
    {
     "name": "stderr",
     "output_type": "stream",
     "text": [
      "2021-09-12 21:32:34.944 | INFO     | ezancestry.dimred:dimensionality_reduction:126 - Successfully loaded a dimensionality reduction model\n",
      "2021-09-12 21:32:34.944 | INFO     | ezancestry.dimred:dimensionality_reduction:126 - Successfully loaded a dimensionality reduction model\n",
      "2021-09-12 21:32:34.959 | INFO     | ezancestry.dimred:dimensionality_reduction:126 - Successfully loaded a dimensionality reduction model\n",
      "2021-09-12 21:32:34.959 | INFO     | ezancestry.dimred:dimensionality_reduction:126 - Successfully loaded a dimensionality reduction model\n"
     ]
    }
   ],
   "source": [
    "# write all the POPULATION dimred models for Kidd and Seldin\n",
    "for aisnps_set, df, df_labels in zip(\n",
    "    [\"Kidd\", \"Seldin\"], \n",
    "    [df_kidd_encoded, df_seldin_encoded], \n",
    "    [df_kidd[\"population\"], df_seldin[\"population\"]]\n",
    "):\n",
    "    for algorithm, labels in zip([\"NCA\"], [df_labels]):\n",
    "        df_reduced = dimensionality_reduction(df, algorithm=algorithm, aisnps_set=aisnps_set, overwrite_model=OVERWRITE_MODEL, labels=labels, population_level=\"population\")\n",
    "        knn_model = train(df_reduced, labels, algorithm=algorithm, aisnps_set=aisnps_set, k=9, population_level=\"population\", overwrite_model=OVERWRITE_MODEL)"
   ]
  }
 ],
 "metadata": {
  "kernelspec": {
   "display_name": "Python 3",
   "language": "python",
   "name": "python3"
  },
  "language_info": {
   "codemirror_mode": {
    "name": "ipython",
    "version": 3
   },
   "file_extension": ".py",
   "mimetype": "text/x-python",
   "name": "python",
   "nbconvert_exporter": "python",
   "pygments_lexer": "ipython3",
   "version": "3.8.6"
  }
 },
 "nbformat": 4,
 "nbformat_minor": 4
}
