{
 "cells": [
  {
   "cell_type": "code",
   "execution_count": 1,
   "metadata": {},
   "outputs": [],
   "source": [
    "import pandas as pd"
   ]
  },
  {
   "cell_type": "code",
   "execution_count": 16,
   "metadata": {},
   "outputs": [],
   "source": [
    "fname = \"/Users/kevin/projects/ezancestry/tests/data/sample_genome.txt\"\n",
    "df = pd.read_csv(fname, sep=\"\\t\", skiprows=20, header=None, dtype=str)"
   ]
  },
  {
   "cell_type": "code",
   "execution_count": 17,
   "metadata": {},
   "outputs": [],
   "source": [
    "df.columns = [\"rsid\", \"chromosome\", \"position_hg19\", \"genotype\"]"
   ]
  },
  {
   "cell_type": "code",
   "execution_count": 18,
   "metadata": {},
   "outputs": [],
   "source": [
    "snps = pd.read_csv(\"/Users/kevin/projects/ezancestry/data/aisnps/kidd.aisnp.txt\", sep=\"\\t\", dtype=str)"
   ]
  },
  {
   "cell_type": "code",
   "execution_count": 19,
   "metadata": {},
   "outputs": [],
   "source": [
    "dfsnps = snps.merge(df, on=[\"rsid\", \"chromosome\", \"position_hg19\"], how=\"left\")"
   ]
  },
  {
   "cell_type": "code",
   "execution_count": 20,
   "metadata": {},
   "outputs": [],
   "source": [
    "# Add some random snps\n",
    "dfsnps = dfsnps.merge(df.sample(10), on=[\"rsid\", \"chromosome\", \"position_hg19\", \"genotype\"], how=\"outer\")"
   ]
  },
  {
   "cell_type": "code",
   "execution_count": 22,
   "metadata": {},
   "outputs": [],
   "source": [
    "dfsnps.to_csv(\"/Users/kevin/projects/ezancestry/tests/data/sample_genome_snps.txt\", sep=\"\\t\", index=False)"
   ]
  },
  {
   "cell_type": "code",
   "execution_count": 4,
   "metadata": {},
   "outputs": [
    {
     "data": {
      "text/plain": [
       "'230 Login successful.'"
      ]
     },
     "execution_count": 4,
     "metadata": {},
     "output_type": "execute_result"
    }
   ],
   "source": [
    "import ftplib\n",
    "ftp_site = \"ftp.1000genomes.ebi.ac.uk\"\n",
    "filepath = \"/vol1/ftp/release/20130502/supporting/bcf_files/\"\n",
    "# filepath= \"/vol1/ftp/release/20130502/supporting/bcf_files/\"\n",
    "ftp = ftplib.FTP(ftp_site)\n",
    "ftp.login()\n",
    "# ftp.cwd(filepath)"
   ]
  },
  {
   "cell_type": "code",
   "execution_count": null,
   "metadata": {},
   "outputs": [],
   "source": []
  }
 ],
 "metadata": {
  "interpreter": {
   "hash": "aea551950a4a7667737c05f16716801a9ad4449848a8a34e2e6ca9c54fd4b60b"
  },
  "kernelspec": {
   "display_name": "Python 3.7.11 64-bit ('.venv': poetry)",
   "name": "python3"
  },
  "language_info": {
   "codemirror_mode": {
    "name": "ipython",
    "version": 3
   },
   "file_extension": ".py",
   "mimetype": "text/x-python",
   "name": "python",
   "nbconvert_exporter": "python",
   "pygments_lexer": "ipython3",
   "version": "3.7.11"
  },
  "orig_nbformat": 4
 },
 "nbformat": 4,
 "nbformat_minor": 2
}
